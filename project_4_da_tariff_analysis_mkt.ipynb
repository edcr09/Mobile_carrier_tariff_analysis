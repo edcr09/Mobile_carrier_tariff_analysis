{
  "cells": [
    {
      "cell_type": "markdown",
      "source": [
        "# Proyecto de análisis de tarifas de operador para ajustar el presupuesto de publicidad\n",
        "\n",
        "## Enfoque: análisis estadístico de datos con pruebas de hipotesis\n"
      ],
      "metadata": {
        "id": "-PvtSt0y4wP3"
      }
    },
    {
      "cell_type": "markdown",
      "metadata": {
        "id": "3rYiDeEH0q0f"
      },
      "source": [
        "# ¿Cuál es la mejor tarifa?\n",
        "\n",
        "Trabajas como analista para el operador de telecomunicaciones Megaline. La empresa ofrece a sus clientes dos tarifas de prepago, Surf y Ultimate. El departamento comercial quiere saber cuál de las tarifas genera más ingresos para poder ajustar el presupuesto de publicidad.\n",
        "\n",
        "Vas a realizar un análisis preliminar de las tarifas basado en una selección de clientes relativamente pequeña. Tendrás los datos de 500 clientes de Megaline: quiénes son los clientes, de dónde son, qué tarifa usan, así como la cantidad de llamadas que hicieron y los mensajes de texto que enviaron en 2018. Tu trabajo es analizar el comportamiento de los clientes y determinar qué tarifa de prepago genera más ingresos."
      ]
    },
    {
      "cell_type": "markdown",
      "metadata": {
        "id": "VNddPNRQ0q0w"
      },
      "source": [
        "\n",
        "\n",
        "El propósito del proyecto es aplicar los conocimientos adquiridos en los sprints en un caso lo más real posible, en este caso para determinar una decisión de negocio basada en el ánalisis estadístico de un conjunto de datos para elegir el plan que genera mayores ingresos a Megaline y dar prioridad en la publicidad del que resulte.\n",
        "\n",
        "Planeo:\n",
        "- Preparar los datos, en cuestión de limpieza si fuera necesario, si no con una verificación,\n",
        "- Corregir otros problemas en los datos en cuestiones como formatos.\n",
        "- Agregar otra información que pudiera ser de utilidad para el análisis.\n",
        "- Hacer las uniones de tablas que se requieran para poder procesar mejor los datos.\n",
        "- Realizar una visualización de los datos con gráficos, para un mejor analisis.\n",
        "- Analizar lo realizado\n",
        "- Aplicar la estadistica descriptiva para analizar los resultados.\n",
        "\n"
      ]
    },
    {
      "cell_type": "markdown",
      "metadata": {
        "id": "MQi4IPy70q0y"
      },
      "source": [
        "## Inicialización"
      ]
    },
    {
      "cell_type": "code",
      "execution_count": null,
      "metadata": {
        "id": "MtYIuBxu0q0z"
      },
      "outputs": [],
      "source": [
        "# Cargar todas las librerías necesarias\n",
        "\n",
        "\n",
        "import pandas as pd\n",
        "import numpy  as np\n",
        "\n",
        "from matplotlib import pyplot as plt\n",
        "from scipy      import stats  as st\n"
      ]
    },
    {
      "cell_type": "markdown",
      "metadata": {
        "id": "4ysWWC5i0q00"
      },
      "source": [
        "## Cargar datos"
      ]
    },
    {
      "cell_type": "code",
      "execution_count": null,
      "metadata": {
        "id": "CCqPW7rS0q01"
      },
      "outputs": [],
      "source": [
        "# Carga los archivos de datos en diferentes DataFrames\n",
        "\n",
        "megaline_calls_url = 'https://practicum-content.s3.us-west-1.amazonaws.com/new-markets/Data_Refactored_Sprint_3/megaline_calls.csv'\n",
        "megaline_internet_url = 'https://practicum-content.s3.us-west-1.amazonaws.com/new-markets/Data_Refactored_Sprint_3/megaline_internet.csv'\n",
        "megaline_messages_url = 'https://practicum-content.s3.us-west-1.amazonaws.com/new-markets/Data_Refactored_Sprint_3/megaline_messages.csv'\n",
        "megaline_plans_url = 'https://practicum-content.s3.us-west-1.amazonaws.com/new-markets/Data_Refactored_Sprint_3/megaline_plans.csv'\n",
        "megaline_users_url = 'https://practicum-content.s3.us-west-1.amazonaws.com/new-markets/Data_Refactored_Sprint_3/megaline_users.csv'\n",
        "\n",
        "\n",
        "megaline_calls = pd.read_csv(megaline_calls_url)\n",
        "megaline_internet = pd.read_csv(megaline_internet_url)\n",
        "megaline_messages = pd.read_csv(megaline_messages_url)\n",
        "megaline_plans = pd.read_csv(megaline_plans_url)\n",
        "megaline_users = pd.read_csv(megaline_users_url)\n",
        "\n"
      ]
    },
    {
      "cell_type": "markdown",
      "metadata": {
        "id": "69qqoJ3r0q01"
      },
      "source": [
        "## Preparar los datos"
      ]
    },
    {
      "cell_type": "markdown",
      "source": [
        "Uso de .head() y .describe() para obtener información de los dataframes"
      ],
      "metadata": {
        "id": "zE_NEQJvvqVJ"
      }
    },
    {
      "cell_type": "code",
      "execution_count": null,
      "metadata": {
        "id": "fg16zNmroTor",
        "outputId": "89d87d18-0c85-41cc-c3ce-76c6d1e47fa3"
      },
      "outputs": [
        {
          "data": {
            "text/html": [
              "<div>\n",
              "<style scoped>\n",
              "    .dataframe tbody tr th:only-of-type {\n",
              "        vertical-align: middle;\n",
              "    }\n",
              "\n",
              "    .dataframe tbody tr th {\n",
              "        vertical-align: top;\n",
              "    }\n",
              "\n",
              "    .dataframe thead th {\n",
              "        text-align: right;\n",
              "    }\n",
              "</style>\n",
              "<table border=\"1\" class=\"dataframe\">\n",
              "  <thead>\n",
              "    <tr style=\"text-align: right;\">\n",
              "      <th></th>\n",
              "      <th>id</th>\n",
              "      <th>user_id</th>\n",
              "      <th>call_date</th>\n",
              "      <th>duration</th>\n",
              "    </tr>\n",
              "  </thead>\n",
              "  <tbody>\n",
              "    <tr>\n",
              "      <th>0</th>\n",
              "      <td>1000_93</td>\n",
              "      <td>1000</td>\n",
              "      <td>2018-12-27</td>\n",
              "      <td>8.52</td>\n",
              "    </tr>\n",
              "    <tr>\n",
              "      <th>1</th>\n",
              "      <td>1000_145</td>\n",
              "      <td>1000</td>\n",
              "      <td>2018-12-27</td>\n",
              "      <td>13.66</td>\n",
              "    </tr>\n",
              "    <tr>\n",
              "      <th>2</th>\n",
              "      <td>1000_247</td>\n",
              "      <td>1000</td>\n",
              "      <td>2018-12-27</td>\n",
              "      <td>14.48</td>\n",
              "    </tr>\n",
              "    <tr>\n",
              "      <th>3</th>\n",
              "      <td>1000_309</td>\n",
              "      <td>1000</td>\n",
              "      <td>2018-12-28</td>\n",
              "      <td>5.76</td>\n",
              "    </tr>\n",
              "    <tr>\n",
              "      <th>4</th>\n",
              "      <td>1000_380</td>\n",
              "      <td>1000</td>\n",
              "      <td>2018-12-30</td>\n",
              "      <td>4.22</td>\n",
              "    </tr>\n",
              "  </tbody>\n",
              "</table>\n",
              "</div>"
            ],
            "text/plain": [
              "         id  user_id   call_date  duration\n",
              "0   1000_93     1000  2018-12-27      8.52\n",
              "1  1000_145     1000  2018-12-27     13.66\n",
              "2  1000_247     1000  2018-12-27     14.48\n",
              "3  1000_309     1000  2018-12-28      5.76\n",
              "4  1000_380     1000  2018-12-30      4.22"
            ]
          },
          "execution_count": 3,
          "metadata": {},
          "output_type": "execute_result"
        }
      ],
      "source": [
        "megaline_calls.head()"
      ]
    },
    {
      "cell_type": "code",
      "execution_count": null,
      "metadata": {
        "id": "vE8thoDXoTos",
        "outputId": "3f0c5c3f-56fd-454d-95c3-432d8d9888ba"
      },
      "outputs": [
        {
          "data": {
            "text/html": [
              "<div>\n",
              "<style scoped>\n",
              "    .dataframe tbody tr th:only-of-type {\n",
              "        vertical-align: middle;\n",
              "    }\n",
              "\n",
              "    .dataframe tbody tr th {\n",
              "        vertical-align: top;\n",
              "    }\n",
              "\n",
              "    .dataframe thead th {\n",
              "        text-align: right;\n",
              "    }\n",
              "</style>\n",
              "<table border=\"1\" class=\"dataframe\">\n",
              "  <thead>\n",
              "    <tr style=\"text-align: right;\">\n",
              "      <th></th>\n",
              "      <th>user_id</th>\n",
              "      <th>duration</th>\n",
              "    </tr>\n",
              "  </thead>\n",
              "  <tbody>\n",
              "    <tr>\n",
              "      <th>count</th>\n",
              "      <td>137735.000000</td>\n",
              "      <td>137735.000000</td>\n",
              "    </tr>\n",
              "    <tr>\n",
              "      <th>mean</th>\n",
              "      <td>1247.658046</td>\n",
              "      <td>6.745927</td>\n",
              "    </tr>\n",
              "    <tr>\n",
              "      <th>std</th>\n",
              "      <td>139.416268</td>\n",
              "      <td>5.839241</td>\n",
              "    </tr>\n",
              "    <tr>\n",
              "      <th>min</th>\n",
              "      <td>1000.000000</td>\n",
              "      <td>0.000000</td>\n",
              "    </tr>\n",
              "    <tr>\n",
              "      <th>25%</th>\n",
              "      <td>1128.000000</td>\n",
              "      <td>1.290000</td>\n",
              "    </tr>\n",
              "    <tr>\n",
              "      <th>50%</th>\n",
              "      <td>1247.000000</td>\n",
              "      <td>5.980000</td>\n",
              "    </tr>\n",
              "    <tr>\n",
              "      <th>75%</th>\n",
              "      <td>1365.000000</td>\n",
              "      <td>10.690000</td>\n",
              "    </tr>\n",
              "    <tr>\n",
              "      <th>max</th>\n",
              "      <td>1499.000000</td>\n",
              "      <td>37.600000</td>\n",
              "    </tr>\n",
              "  </tbody>\n",
              "</table>\n",
              "</div>"
            ],
            "text/plain": [
              "             user_id       duration\n",
              "count  137735.000000  137735.000000\n",
              "mean     1247.658046       6.745927\n",
              "std       139.416268       5.839241\n",
              "min      1000.000000       0.000000\n",
              "25%      1128.000000       1.290000\n",
              "50%      1247.000000       5.980000\n",
              "75%      1365.000000      10.690000\n",
              "max      1499.000000      37.600000"
            ]
          },
          "execution_count": 4,
          "metadata": {},
          "output_type": "execute_result"
        }
      ],
      "source": [
        "megaline_calls.describe()"
      ]
    },
    {
      "cell_type": "code",
      "execution_count": null,
      "metadata": {
        "id": "kn3T2RWXoTos",
        "outputId": "1d45a4e7-1555-4a43-82bc-2589ba665350"
      },
      "outputs": [
        {
          "data": {
            "text/html": [
              "<div>\n",
              "<style scoped>\n",
              "    .dataframe tbody tr th:only-of-type {\n",
              "        vertical-align: middle;\n",
              "    }\n",
              "\n",
              "    .dataframe tbody tr th {\n",
              "        vertical-align: top;\n",
              "    }\n",
              "\n",
              "    .dataframe thead th {\n",
              "        text-align: right;\n",
              "    }\n",
              "</style>\n",
              "<table border=\"1\" class=\"dataframe\">\n",
              "  <thead>\n",
              "    <tr style=\"text-align: right;\">\n",
              "      <th></th>\n",
              "      <th>id</th>\n",
              "      <th>user_id</th>\n",
              "      <th>session_date</th>\n",
              "      <th>mb_used</th>\n",
              "    </tr>\n",
              "  </thead>\n",
              "  <tbody>\n",
              "    <tr>\n",
              "      <th>0</th>\n",
              "      <td>1000_13</td>\n",
              "      <td>1000</td>\n",
              "      <td>2018-12-29</td>\n",
              "      <td>89.86</td>\n",
              "    </tr>\n",
              "    <tr>\n",
              "      <th>1</th>\n",
              "      <td>1000_204</td>\n",
              "      <td>1000</td>\n",
              "      <td>2018-12-31</td>\n",
              "      <td>0.00</td>\n",
              "    </tr>\n",
              "    <tr>\n",
              "      <th>2</th>\n",
              "      <td>1000_379</td>\n",
              "      <td>1000</td>\n",
              "      <td>2018-12-28</td>\n",
              "      <td>660.40</td>\n",
              "    </tr>\n",
              "    <tr>\n",
              "      <th>3</th>\n",
              "      <td>1000_413</td>\n",
              "      <td>1000</td>\n",
              "      <td>2018-12-26</td>\n",
              "      <td>270.99</td>\n",
              "    </tr>\n",
              "    <tr>\n",
              "      <th>4</th>\n",
              "      <td>1000_442</td>\n",
              "      <td>1000</td>\n",
              "      <td>2018-12-27</td>\n",
              "      <td>880.22</td>\n",
              "    </tr>\n",
              "  </tbody>\n",
              "</table>\n",
              "</div>"
            ],
            "text/plain": [
              "         id  user_id session_date  mb_used\n",
              "0   1000_13     1000   2018-12-29    89.86\n",
              "1  1000_204     1000   2018-12-31     0.00\n",
              "2  1000_379     1000   2018-12-28   660.40\n",
              "3  1000_413     1000   2018-12-26   270.99\n",
              "4  1000_442     1000   2018-12-27   880.22"
            ]
          },
          "execution_count": 5,
          "metadata": {},
          "output_type": "execute_result"
        }
      ],
      "source": [
        "megaline_internet.head()"
      ]
    },
    {
      "cell_type": "code",
      "execution_count": null,
      "metadata": {
        "id": "uPR8Ze6poTot",
        "outputId": "07b93abe-385c-4300-980f-c0d1faa5e0a3"
      },
      "outputs": [
        {
          "data": {
            "text/html": [
              "<div>\n",
              "<style scoped>\n",
              "    .dataframe tbody tr th:only-of-type {\n",
              "        vertical-align: middle;\n",
              "    }\n",
              "\n",
              "    .dataframe tbody tr th {\n",
              "        vertical-align: top;\n",
              "    }\n",
              "\n",
              "    .dataframe thead th {\n",
              "        text-align: right;\n",
              "    }\n",
              "</style>\n",
              "<table border=\"1\" class=\"dataframe\">\n",
              "  <thead>\n",
              "    <tr style=\"text-align: right;\">\n",
              "      <th></th>\n",
              "      <th>user_id</th>\n",
              "      <th>mb_used</th>\n",
              "    </tr>\n",
              "  </thead>\n",
              "  <tbody>\n",
              "    <tr>\n",
              "      <th>count</th>\n",
              "      <td>104825.000000</td>\n",
              "      <td>104825.000000</td>\n",
              "    </tr>\n",
              "    <tr>\n",
              "      <th>mean</th>\n",
              "      <td>1242.496361</td>\n",
              "      <td>366.713701</td>\n",
              "    </tr>\n",
              "    <tr>\n",
              "      <th>std</th>\n",
              "      <td>142.053913</td>\n",
              "      <td>277.170542</td>\n",
              "    </tr>\n",
              "    <tr>\n",
              "      <th>min</th>\n",
              "      <td>1000.000000</td>\n",
              "      <td>0.000000</td>\n",
              "    </tr>\n",
              "    <tr>\n",
              "      <th>25%</th>\n",
              "      <td>1122.000000</td>\n",
              "      <td>136.080000</td>\n",
              "    </tr>\n",
              "    <tr>\n",
              "      <th>50%</th>\n",
              "      <td>1236.000000</td>\n",
              "      <td>343.980000</td>\n",
              "    </tr>\n",
              "    <tr>\n",
              "      <th>75%</th>\n",
              "      <td>1367.000000</td>\n",
              "      <td>554.610000</td>\n",
              "    </tr>\n",
              "    <tr>\n",
              "      <th>max</th>\n",
              "      <td>1499.000000</td>\n",
              "      <td>1693.470000</td>\n",
              "    </tr>\n",
              "  </tbody>\n",
              "</table>\n",
              "</div>"
            ],
            "text/plain": [
              "             user_id        mb_used\n",
              "count  104825.000000  104825.000000\n",
              "mean     1242.496361     366.713701\n",
              "std       142.053913     277.170542\n",
              "min      1000.000000       0.000000\n",
              "25%      1122.000000     136.080000\n",
              "50%      1236.000000     343.980000\n",
              "75%      1367.000000     554.610000\n",
              "max      1499.000000    1693.470000"
            ]
          },
          "execution_count": 6,
          "metadata": {},
          "output_type": "execute_result"
        }
      ],
      "source": [
        "megaline_internet.describe()"
      ]
    },
    {
      "cell_type": "code",
      "execution_count": null,
      "metadata": {
        "id": "-ttE6_XVoTot",
        "outputId": "d3bd1b66-de75-4aaa-b435-dfc199a12bdd"
      },
      "outputs": [
        {
          "data": {
            "text/html": [
              "<div>\n",
              "<style scoped>\n",
              "    .dataframe tbody tr th:only-of-type {\n",
              "        vertical-align: middle;\n",
              "    }\n",
              "\n",
              "    .dataframe tbody tr th {\n",
              "        vertical-align: top;\n",
              "    }\n",
              "\n",
              "    .dataframe thead th {\n",
              "        text-align: right;\n",
              "    }\n",
              "</style>\n",
              "<table border=\"1\" class=\"dataframe\">\n",
              "  <thead>\n",
              "    <tr style=\"text-align: right;\">\n",
              "      <th></th>\n",
              "      <th>id</th>\n",
              "      <th>user_id</th>\n",
              "      <th>message_date</th>\n",
              "    </tr>\n",
              "  </thead>\n",
              "  <tbody>\n",
              "    <tr>\n",
              "      <th>0</th>\n",
              "      <td>1000_125</td>\n",
              "      <td>1000</td>\n",
              "      <td>2018-12-27</td>\n",
              "    </tr>\n",
              "    <tr>\n",
              "      <th>1</th>\n",
              "      <td>1000_160</td>\n",
              "      <td>1000</td>\n",
              "      <td>2018-12-31</td>\n",
              "    </tr>\n",
              "    <tr>\n",
              "      <th>2</th>\n",
              "      <td>1000_223</td>\n",
              "      <td>1000</td>\n",
              "      <td>2018-12-31</td>\n",
              "    </tr>\n",
              "    <tr>\n",
              "      <th>3</th>\n",
              "      <td>1000_251</td>\n",
              "      <td>1000</td>\n",
              "      <td>2018-12-27</td>\n",
              "    </tr>\n",
              "    <tr>\n",
              "      <th>4</th>\n",
              "      <td>1000_255</td>\n",
              "      <td>1000</td>\n",
              "      <td>2018-12-26</td>\n",
              "    </tr>\n",
              "  </tbody>\n",
              "</table>\n",
              "</div>"
            ],
            "text/plain": [
              "         id  user_id message_date\n",
              "0  1000_125     1000   2018-12-27\n",
              "1  1000_160     1000   2018-12-31\n",
              "2  1000_223     1000   2018-12-31\n",
              "3  1000_251     1000   2018-12-27\n",
              "4  1000_255     1000   2018-12-26"
            ]
          },
          "execution_count": 7,
          "metadata": {},
          "output_type": "execute_result"
        }
      ],
      "source": [
        "megaline_messages.head()"
      ]
    },
    {
      "cell_type": "code",
      "execution_count": null,
      "metadata": {
        "id": "nRtg6SoaoTot",
        "outputId": "e175f976-3fe7-4a3f-ffb9-bd7b573cc9ca"
      },
      "outputs": [
        {
          "data": {
            "text/html": [
              "<div>\n",
              "<style scoped>\n",
              "    .dataframe tbody tr th:only-of-type {\n",
              "        vertical-align: middle;\n",
              "    }\n",
              "\n",
              "    .dataframe tbody tr th {\n",
              "        vertical-align: top;\n",
              "    }\n",
              "\n",
              "    .dataframe thead th {\n",
              "        text-align: right;\n",
              "    }\n",
              "</style>\n",
              "<table border=\"1\" class=\"dataframe\">\n",
              "  <thead>\n",
              "    <tr style=\"text-align: right;\">\n",
              "      <th></th>\n",
              "      <th>user_id</th>\n",
              "    </tr>\n",
              "  </thead>\n",
              "  <tbody>\n",
              "    <tr>\n",
              "      <th>count</th>\n",
              "      <td>76051.000000</td>\n",
              "    </tr>\n",
              "    <tr>\n",
              "      <th>mean</th>\n",
              "      <td>1245.972768</td>\n",
              "    </tr>\n",
              "    <tr>\n",
              "      <th>std</th>\n",
              "      <td>139.843635</td>\n",
              "    </tr>\n",
              "    <tr>\n",
              "      <th>min</th>\n",
              "      <td>1000.000000</td>\n",
              "    </tr>\n",
              "    <tr>\n",
              "      <th>25%</th>\n",
              "      <td>1123.000000</td>\n",
              "    </tr>\n",
              "    <tr>\n",
              "      <th>50%</th>\n",
              "      <td>1251.000000</td>\n",
              "    </tr>\n",
              "    <tr>\n",
              "      <th>75%</th>\n",
              "      <td>1362.000000</td>\n",
              "    </tr>\n",
              "    <tr>\n",
              "      <th>max</th>\n",
              "      <td>1497.000000</td>\n",
              "    </tr>\n",
              "  </tbody>\n",
              "</table>\n",
              "</div>"
            ],
            "text/plain": [
              "            user_id\n",
              "count  76051.000000\n",
              "mean    1245.972768\n",
              "std      139.843635\n",
              "min     1000.000000\n",
              "25%     1123.000000\n",
              "50%     1251.000000\n",
              "75%     1362.000000\n",
              "max     1497.000000"
            ]
          },
          "execution_count": 8,
          "metadata": {},
          "output_type": "execute_result"
        }
      ],
      "source": [
        "megaline_messages.describe()"
      ]
    },
    {
      "cell_type": "code",
      "execution_count": null,
      "metadata": {
        "id": "5u8bsjI8oTot",
        "outputId": "99d0c688-d527-433c-e19d-18bf7025d751"
      },
      "outputs": [
        {
          "data": {
            "text/html": [
              "<div>\n",
              "<style scoped>\n",
              "    .dataframe tbody tr th:only-of-type {\n",
              "        vertical-align: middle;\n",
              "    }\n",
              "\n",
              "    .dataframe tbody tr th {\n",
              "        vertical-align: top;\n",
              "    }\n",
              "\n",
              "    .dataframe thead th {\n",
              "        text-align: right;\n",
              "    }\n",
              "</style>\n",
              "<table border=\"1\" class=\"dataframe\">\n",
              "  <thead>\n",
              "    <tr style=\"text-align: right;\">\n",
              "      <th></th>\n",
              "      <th>messages_included</th>\n",
              "      <th>mb_per_month_included</th>\n",
              "      <th>minutes_included</th>\n",
              "      <th>usd_monthly_pay</th>\n",
              "      <th>usd_per_gb</th>\n",
              "      <th>usd_per_message</th>\n",
              "      <th>usd_per_minute</th>\n",
              "      <th>plan_name</th>\n",
              "    </tr>\n",
              "  </thead>\n",
              "  <tbody>\n",
              "    <tr>\n",
              "      <th>0</th>\n",
              "      <td>50</td>\n",
              "      <td>15360</td>\n",
              "      <td>500</td>\n",
              "      <td>20</td>\n",
              "      <td>10</td>\n",
              "      <td>0.03</td>\n",
              "      <td>0.03</td>\n",
              "      <td>surf</td>\n",
              "    </tr>\n",
              "    <tr>\n",
              "      <th>1</th>\n",
              "      <td>1000</td>\n",
              "      <td>30720</td>\n",
              "      <td>3000</td>\n",
              "      <td>70</td>\n",
              "      <td>7</td>\n",
              "      <td>0.01</td>\n",
              "      <td>0.01</td>\n",
              "      <td>ultimate</td>\n",
              "    </tr>\n",
              "  </tbody>\n",
              "</table>\n",
              "</div>"
            ],
            "text/plain": [
              "   messages_included  mb_per_month_included  minutes_included  \\\n",
              "0                 50                  15360               500   \n",
              "1               1000                  30720              3000   \n",
              "\n",
              "   usd_monthly_pay  usd_per_gb  usd_per_message  usd_per_minute plan_name  \n",
              "0               20          10             0.03            0.03      surf  \n",
              "1               70           7             0.01            0.01  ultimate  "
            ]
          },
          "execution_count": 9,
          "metadata": {},
          "output_type": "execute_result"
        }
      ],
      "source": [
        "megaline_plans.head()"
      ]
    },
    {
      "cell_type": "code",
      "execution_count": null,
      "metadata": {
        "id": "Xdk7qIT-oTou",
        "outputId": "db494a3a-a7ed-451f-e351-390372883245"
      },
      "outputs": [
        {
          "data": {
            "text/html": [
              "<div>\n",
              "<style scoped>\n",
              "    .dataframe tbody tr th:only-of-type {\n",
              "        vertical-align: middle;\n",
              "    }\n",
              "\n",
              "    .dataframe tbody tr th {\n",
              "        vertical-align: top;\n",
              "    }\n",
              "\n",
              "    .dataframe thead th {\n",
              "        text-align: right;\n",
              "    }\n",
              "</style>\n",
              "<table border=\"1\" class=\"dataframe\">\n",
              "  <thead>\n",
              "    <tr style=\"text-align: right;\">\n",
              "      <th></th>\n",
              "      <th>messages_included</th>\n",
              "      <th>mb_per_month_included</th>\n",
              "      <th>minutes_included</th>\n",
              "      <th>usd_monthly_pay</th>\n",
              "      <th>usd_per_gb</th>\n",
              "      <th>usd_per_message</th>\n",
              "      <th>usd_per_minute</th>\n",
              "    </tr>\n",
              "  </thead>\n",
              "  <tbody>\n",
              "    <tr>\n",
              "      <th>count</th>\n",
              "      <td>2.000000</td>\n",
              "      <td>2.000000</td>\n",
              "      <td>2.000000</td>\n",
              "      <td>2.000000</td>\n",
              "      <td>2.00000</td>\n",
              "      <td>2.000000</td>\n",
              "      <td>2.000000</td>\n",
              "    </tr>\n",
              "    <tr>\n",
              "      <th>mean</th>\n",
              "      <td>525.000000</td>\n",
              "      <td>23040.000000</td>\n",
              "      <td>1750.000000</td>\n",
              "      <td>45.000000</td>\n",
              "      <td>8.50000</td>\n",
              "      <td>0.020000</td>\n",
              "      <td>0.020000</td>\n",
              "    </tr>\n",
              "    <tr>\n",
              "      <th>std</th>\n",
              "      <td>671.751442</td>\n",
              "      <td>10861.160159</td>\n",
              "      <td>1767.766953</td>\n",
              "      <td>35.355339</td>\n",
              "      <td>2.12132</td>\n",
              "      <td>0.014142</td>\n",
              "      <td>0.014142</td>\n",
              "    </tr>\n",
              "    <tr>\n",
              "      <th>min</th>\n",
              "      <td>50.000000</td>\n",
              "      <td>15360.000000</td>\n",
              "      <td>500.000000</td>\n",
              "      <td>20.000000</td>\n",
              "      <td>7.00000</td>\n",
              "      <td>0.010000</td>\n",
              "      <td>0.010000</td>\n",
              "    </tr>\n",
              "    <tr>\n",
              "      <th>25%</th>\n",
              "      <td>287.500000</td>\n",
              "      <td>19200.000000</td>\n",
              "      <td>1125.000000</td>\n",
              "      <td>32.500000</td>\n",
              "      <td>7.75000</td>\n",
              "      <td>0.015000</td>\n",
              "      <td>0.015000</td>\n",
              "    </tr>\n",
              "    <tr>\n",
              "      <th>50%</th>\n",
              "      <td>525.000000</td>\n",
              "      <td>23040.000000</td>\n",
              "      <td>1750.000000</td>\n",
              "      <td>45.000000</td>\n",
              "      <td>8.50000</td>\n",
              "      <td>0.020000</td>\n",
              "      <td>0.020000</td>\n",
              "    </tr>\n",
              "    <tr>\n",
              "      <th>75%</th>\n",
              "      <td>762.500000</td>\n",
              "      <td>26880.000000</td>\n",
              "      <td>2375.000000</td>\n",
              "      <td>57.500000</td>\n",
              "      <td>9.25000</td>\n",
              "      <td>0.025000</td>\n",
              "      <td>0.025000</td>\n",
              "    </tr>\n",
              "    <tr>\n",
              "      <th>max</th>\n",
              "      <td>1000.000000</td>\n",
              "      <td>30720.000000</td>\n",
              "      <td>3000.000000</td>\n",
              "      <td>70.000000</td>\n",
              "      <td>10.00000</td>\n",
              "      <td>0.030000</td>\n",
              "      <td>0.030000</td>\n",
              "    </tr>\n",
              "  </tbody>\n",
              "</table>\n",
              "</div>"
            ],
            "text/plain": [
              "       messages_included  mb_per_month_included  minutes_included  \\\n",
              "count           2.000000               2.000000          2.000000   \n",
              "mean          525.000000           23040.000000       1750.000000   \n",
              "std           671.751442           10861.160159       1767.766953   \n",
              "min            50.000000           15360.000000        500.000000   \n",
              "25%           287.500000           19200.000000       1125.000000   \n",
              "50%           525.000000           23040.000000       1750.000000   \n",
              "75%           762.500000           26880.000000       2375.000000   \n",
              "max          1000.000000           30720.000000       3000.000000   \n",
              "\n",
              "       usd_monthly_pay  usd_per_gb  usd_per_message  usd_per_minute  \n",
              "count         2.000000     2.00000         2.000000        2.000000  \n",
              "mean         45.000000     8.50000         0.020000        0.020000  \n",
              "std          35.355339     2.12132         0.014142        0.014142  \n",
              "min          20.000000     7.00000         0.010000        0.010000  \n",
              "25%          32.500000     7.75000         0.015000        0.015000  \n",
              "50%          45.000000     8.50000         0.020000        0.020000  \n",
              "75%          57.500000     9.25000         0.025000        0.025000  \n",
              "max          70.000000    10.00000         0.030000        0.030000  "
            ]
          },
          "execution_count": 10,
          "metadata": {},
          "output_type": "execute_result"
        }
      ],
      "source": [
        "megaline_plans.describe()"
      ]
    },
    {
      "cell_type": "code",
      "execution_count": null,
      "metadata": {
        "id": "-YIS2E_1oTou",
        "outputId": "b95f94da-bfaf-4781-9795-928cbfd85fd8"
      },
      "outputs": [
        {
          "data": {
            "text/html": [
              "<div>\n",
              "<style scoped>\n",
              "    .dataframe tbody tr th:only-of-type {\n",
              "        vertical-align: middle;\n",
              "    }\n",
              "\n",
              "    .dataframe tbody tr th {\n",
              "        vertical-align: top;\n",
              "    }\n",
              "\n",
              "    .dataframe thead th {\n",
              "        text-align: right;\n",
              "    }\n",
              "</style>\n",
              "<table border=\"1\" class=\"dataframe\">\n",
              "  <thead>\n",
              "    <tr style=\"text-align: right;\">\n",
              "      <th></th>\n",
              "      <th>user_id</th>\n",
              "      <th>first_name</th>\n",
              "      <th>last_name</th>\n",
              "      <th>age</th>\n",
              "      <th>city</th>\n",
              "      <th>reg_date</th>\n",
              "      <th>plan</th>\n",
              "      <th>churn_date</th>\n",
              "    </tr>\n",
              "  </thead>\n",
              "  <tbody>\n",
              "    <tr>\n",
              "      <th>0</th>\n",
              "      <td>1000</td>\n",
              "      <td>Anamaria</td>\n",
              "      <td>Bauer</td>\n",
              "      <td>45</td>\n",
              "      <td>Atlanta-Sandy Springs-Roswell, GA MSA</td>\n",
              "      <td>2018-12-24</td>\n",
              "      <td>ultimate</td>\n",
              "      <td>NaN</td>\n",
              "    </tr>\n",
              "    <tr>\n",
              "      <th>1</th>\n",
              "      <td>1001</td>\n",
              "      <td>Mickey</td>\n",
              "      <td>Wilkerson</td>\n",
              "      <td>28</td>\n",
              "      <td>Seattle-Tacoma-Bellevue, WA MSA</td>\n",
              "      <td>2018-08-13</td>\n",
              "      <td>surf</td>\n",
              "      <td>NaN</td>\n",
              "    </tr>\n",
              "    <tr>\n",
              "      <th>2</th>\n",
              "      <td>1002</td>\n",
              "      <td>Carlee</td>\n",
              "      <td>Hoffman</td>\n",
              "      <td>36</td>\n",
              "      <td>Las Vegas-Henderson-Paradise, NV MSA</td>\n",
              "      <td>2018-10-21</td>\n",
              "      <td>surf</td>\n",
              "      <td>NaN</td>\n",
              "    </tr>\n",
              "    <tr>\n",
              "      <th>3</th>\n",
              "      <td>1003</td>\n",
              "      <td>Reynaldo</td>\n",
              "      <td>Jenkins</td>\n",
              "      <td>52</td>\n",
              "      <td>Tulsa, OK MSA</td>\n",
              "      <td>2018-01-28</td>\n",
              "      <td>surf</td>\n",
              "      <td>NaN</td>\n",
              "    </tr>\n",
              "    <tr>\n",
              "      <th>4</th>\n",
              "      <td>1004</td>\n",
              "      <td>Leonila</td>\n",
              "      <td>Thompson</td>\n",
              "      <td>40</td>\n",
              "      <td>Seattle-Tacoma-Bellevue, WA MSA</td>\n",
              "      <td>2018-05-23</td>\n",
              "      <td>surf</td>\n",
              "      <td>NaN</td>\n",
              "    </tr>\n",
              "  </tbody>\n",
              "</table>\n",
              "</div>"
            ],
            "text/plain": [
              "   user_id first_name  last_name  age                                   city  \\\n",
              "0     1000   Anamaria      Bauer   45  Atlanta-Sandy Springs-Roswell, GA MSA   \n",
              "1     1001     Mickey  Wilkerson   28        Seattle-Tacoma-Bellevue, WA MSA   \n",
              "2     1002     Carlee    Hoffman   36   Las Vegas-Henderson-Paradise, NV MSA   \n",
              "3     1003   Reynaldo    Jenkins   52                          Tulsa, OK MSA   \n",
              "4     1004    Leonila   Thompson   40        Seattle-Tacoma-Bellevue, WA MSA   \n",
              "\n",
              "     reg_date      plan churn_date  \n",
              "0  2018-12-24  ultimate        NaN  \n",
              "1  2018-08-13      surf        NaN  \n",
              "2  2018-10-21      surf        NaN  \n",
              "3  2018-01-28      surf        NaN  \n",
              "4  2018-05-23      surf        NaN  "
            ]
          },
          "execution_count": 11,
          "metadata": {},
          "output_type": "execute_result"
        }
      ],
      "source": [
        "megaline_users.head()"
      ]
    },
    {
      "cell_type": "code",
      "execution_count": null,
      "metadata": {
        "id": "7-BWAiHQoTou",
        "outputId": "3af70c44-c156-4ff8-a375-a4d026fd92ae"
      },
      "outputs": [
        {
          "data": {
            "text/html": [
              "<div>\n",
              "<style scoped>\n",
              "    .dataframe tbody tr th:only-of-type {\n",
              "        vertical-align: middle;\n",
              "    }\n",
              "\n",
              "    .dataframe tbody tr th {\n",
              "        vertical-align: top;\n",
              "    }\n",
              "\n",
              "    .dataframe thead th {\n",
              "        text-align: right;\n",
              "    }\n",
              "</style>\n",
              "<table border=\"1\" class=\"dataframe\">\n",
              "  <thead>\n",
              "    <tr style=\"text-align: right;\">\n",
              "      <th></th>\n",
              "      <th>user_id</th>\n",
              "      <th>age</th>\n",
              "    </tr>\n",
              "  </thead>\n",
              "  <tbody>\n",
              "    <tr>\n",
              "      <th>count</th>\n",
              "      <td>500.000000</td>\n",
              "      <td>500.000000</td>\n",
              "    </tr>\n",
              "    <tr>\n",
              "      <th>mean</th>\n",
              "      <td>1249.500000</td>\n",
              "      <td>45.486000</td>\n",
              "    </tr>\n",
              "    <tr>\n",
              "      <th>std</th>\n",
              "      <td>144.481833</td>\n",
              "      <td>16.972269</td>\n",
              "    </tr>\n",
              "    <tr>\n",
              "      <th>min</th>\n",
              "      <td>1000.000000</td>\n",
              "      <td>18.000000</td>\n",
              "    </tr>\n",
              "    <tr>\n",
              "      <th>25%</th>\n",
              "      <td>1124.750000</td>\n",
              "      <td>30.000000</td>\n",
              "    </tr>\n",
              "    <tr>\n",
              "      <th>50%</th>\n",
              "      <td>1249.500000</td>\n",
              "      <td>46.000000</td>\n",
              "    </tr>\n",
              "    <tr>\n",
              "      <th>75%</th>\n",
              "      <td>1374.250000</td>\n",
              "      <td>61.000000</td>\n",
              "    </tr>\n",
              "    <tr>\n",
              "      <th>max</th>\n",
              "      <td>1499.000000</td>\n",
              "      <td>75.000000</td>\n",
              "    </tr>\n",
              "  </tbody>\n",
              "</table>\n",
              "</div>"
            ],
            "text/plain": [
              "           user_id         age\n",
              "count   500.000000  500.000000\n",
              "mean   1249.500000   45.486000\n",
              "std     144.481833   16.972269\n",
              "min    1000.000000   18.000000\n",
              "25%    1124.750000   30.000000\n",
              "50%    1249.500000   46.000000\n",
              "75%    1374.250000   61.000000\n",
              "max    1499.000000   75.000000"
            ]
          },
          "execution_count": 12,
          "metadata": {},
          "output_type": "execute_result"
        }
      ],
      "source": [
        "megaline_users.describe()"
      ]
    },
    {
      "cell_type": "markdown",
      "metadata": {
        "id": "ohBhimvH0q01"
      },
      "source": [
        "## Tarifas"
      ]
    },
    {
      "cell_type": "code",
      "execution_count": null,
      "metadata": {
        "id": "GptqP3Q40q02",
        "outputId": "5eb53431-92b9-4dba-9f9e-30b159880d33"
      },
      "outputs": [
        {
          "name": "stdout",
          "output_type": "stream",
          "text": [
            "<class 'pandas.core.frame.DataFrame'>\n",
            "RangeIndex: 2 entries, 0 to 1\n",
            "Data columns (total 8 columns):\n",
            " #   Column                 Non-Null Count  Dtype  \n",
            "---  ------                 --------------  -----  \n",
            " 0   messages_included      2 non-null      int64  \n",
            " 1   mb_per_month_included  2 non-null      int64  \n",
            " 2   minutes_included       2 non-null      int64  \n",
            " 3   usd_monthly_pay        2 non-null      int64  \n",
            " 4   usd_per_gb             2 non-null      int64  \n",
            " 5   usd_per_message        2 non-null      float64\n",
            " 6   usd_per_minute         2 non-null      float64\n",
            " 7   plan_name              2 non-null      object \n",
            "dtypes: float64(2), int64(5), object(1)\n",
            "memory usage: 256.0+ bytes\n"
          ]
        }
      ],
      "source": [
        "# Imprime la información general/resumida sobre el DataFrame de las tarifas\n",
        "\n",
        "megaline_plans.info()"
      ]
    },
    {
      "cell_type": "code",
      "execution_count": null,
      "metadata": {
        "id": "64xzjwL70q02",
        "outputId": "1eed0700-e694-4442-dbac-a8abe29e779e"
      },
      "outputs": [
        {
          "data": {
            "text/html": [
              "<div>\n",
              "<style scoped>\n",
              "    .dataframe tbody tr th:only-of-type {\n",
              "        vertical-align: middle;\n",
              "    }\n",
              "\n",
              "    .dataframe tbody tr th {\n",
              "        vertical-align: top;\n",
              "    }\n",
              "\n",
              "    .dataframe thead th {\n",
              "        text-align: right;\n",
              "    }\n",
              "</style>\n",
              "<table border=\"1\" class=\"dataframe\">\n",
              "  <thead>\n",
              "    <tr style=\"text-align: right;\">\n",
              "      <th></th>\n",
              "      <th>messages_included</th>\n",
              "      <th>mb_per_month_included</th>\n",
              "      <th>minutes_included</th>\n",
              "      <th>usd_monthly_pay</th>\n",
              "      <th>usd_per_gb</th>\n",
              "      <th>usd_per_message</th>\n",
              "      <th>usd_per_minute</th>\n",
              "      <th>plan_name</th>\n",
              "    </tr>\n",
              "  </thead>\n",
              "  <tbody>\n",
              "    <tr>\n",
              "      <th>0</th>\n",
              "      <td>50</td>\n",
              "      <td>15360</td>\n",
              "      <td>500</td>\n",
              "      <td>20</td>\n",
              "      <td>10</td>\n",
              "      <td>0.03</td>\n",
              "      <td>0.03</td>\n",
              "      <td>surf</td>\n",
              "    </tr>\n",
              "    <tr>\n",
              "      <th>1</th>\n",
              "      <td>1000</td>\n",
              "      <td>30720</td>\n",
              "      <td>3000</td>\n",
              "      <td>70</td>\n",
              "      <td>7</td>\n",
              "      <td>0.01</td>\n",
              "      <td>0.01</td>\n",
              "      <td>ultimate</td>\n",
              "    </tr>\n",
              "  </tbody>\n",
              "</table>\n",
              "</div>"
            ],
            "text/plain": [
              "   messages_included  mb_per_month_included  minutes_included  \\\n",
              "0                 50                  15360               500   \n",
              "1               1000                  30720              3000   \n",
              "\n",
              "   usd_monthly_pay  usd_per_gb  usd_per_message  usd_per_minute plan_name  \n",
              "0               20          10             0.03            0.03      surf  \n",
              "1               70           7             0.01            0.01  ultimate  "
            ]
          },
          "execution_count": 14,
          "metadata": {},
          "output_type": "execute_result"
        }
      ],
      "source": [
        "# Imprime una muestra de los datos para las tarifas\n",
        "\n",
        "megaline_plans.head()"
      ]
    },
    {
      "cell_type": "markdown",
      "metadata": {
        "id": "mEc_3_hs0q02"
      },
      "source": [
        "\n",
        "\n",
        "- No hay datos ausentes\n",
        "\n",
        "- No hay duplicados\n",
        "\n",
        "- Los tipos de datoson adecuados"
      ]
    },
    {
      "cell_type": "markdown",
      "metadata": {
        "id": "R3C05i1l0q03"
      },
      "source": [
        "### Corregir datos"
      ]
    },
    {
      "cell_type": "code",
      "execution_count": null,
      "metadata": {
        "id": "Y7SVmjGn0q03"
      },
      "outputs": [],
      "source": [
        "#No hay correcciones en este dataframe"
      ]
    },
    {
      "cell_type": "markdown",
      "metadata": {
        "id": "LJir7bml0q03"
      },
      "source": [
        "### Enriquecer los datos"
      ]
    },
    {
      "cell_type": "code",
      "execution_count": 1,
      "metadata": {
        "id": "gfcIEuXV0q04"
      },
      "outputs": [],
      "source": [
        "#No hay agregación de datos en este dataframe"
      ]
    },
    {
      "cell_type": "markdown",
      "metadata": {
        "id": "1n2X6WXf0q04"
      },
      "source": [
        "## Usuarios/as"
      ]
    },
    {
      "cell_type": "code",
      "execution_count": null,
      "metadata": {
        "id": "2NgjWFqx0q05",
        "scrolled": true,
        "outputId": "e9b55b1d-55cf-4969-b779-3390f7235f7d"
      },
      "outputs": [
        {
          "name": "stdout",
          "output_type": "stream",
          "text": [
            "<class 'pandas.core.frame.DataFrame'>\n",
            "RangeIndex: 500 entries, 0 to 499\n",
            "Data columns (total 8 columns):\n",
            " #   Column      Non-Null Count  Dtype \n",
            "---  ------      --------------  ----- \n",
            " 0   user_id     500 non-null    int64 \n",
            " 1   first_name  500 non-null    object\n",
            " 2   last_name   500 non-null    object\n",
            " 3   age         500 non-null    int64 \n",
            " 4   city        500 non-null    object\n",
            " 5   reg_date    500 non-null    object\n",
            " 6   plan        500 non-null    object\n",
            " 7   churn_date  34 non-null     object\n",
            "dtypes: int64(2), object(6)\n",
            "memory usage: 31.4+ KB\n"
          ]
        }
      ],
      "source": [
        "# Imprime la información general/resumida sobre el DataFrame de usuarios\n",
        "\n",
        "megaline_users.info()"
      ]
    },
    {
      "cell_type": "code",
      "execution_count": null,
      "metadata": {
        "id": "1IN1L9uh0q05",
        "outputId": "68186654-3c6d-4096-c622-f81a1c40bdb6"
      },
      "outputs": [
        {
          "data": {
            "text/html": [
              "<div>\n",
              "<style scoped>\n",
              "    .dataframe tbody tr th:only-of-type {\n",
              "        vertical-align: middle;\n",
              "    }\n",
              "\n",
              "    .dataframe tbody tr th {\n",
              "        vertical-align: top;\n",
              "    }\n",
              "\n",
              "    .dataframe thead th {\n",
              "        text-align: right;\n",
              "    }\n",
              "</style>\n",
              "<table border=\"1\" class=\"dataframe\">\n",
              "  <thead>\n",
              "    <tr style=\"text-align: right;\">\n",
              "      <th></th>\n",
              "      <th>user_id</th>\n",
              "      <th>first_name</th>\n",
              "      <th>last_name</th>\n",
              "      <th>age</th>\n",
              "      <th>city</th>\n",
              "      <th>reg_date</th>\n",
              "      <th>plan</th>\n",
              "      <th>churn_date</th>\n",
              "    </tr>\n",
              "  </thead>\n",
              "  <tbody>\n",
              "    <tr>\n",
              "      <th>0</th>\n",
              "      <td>1000</td>\n",
              "      <td>Anamaria</td>\n",
              "      <td>Bauer</td>\n",
              "      <td>45</td>\n",
              "      <td>Atlanta-Sandy Springs-Roswell, GA MSA</td>\n",
              "      <td>2018-12-24</td>\n",
              "      <td>ultimate</td>\n",
              "      <td>NaN</td>\n",
              "    </tr>\n",
              "    <tr>\n",
              "      <th>1</th>\n",
              "      <td>1001</td>\n",
              "      <td>Mickey</td>\n",
              "      <td>Wilkerson</td>\n",
              "      <td>28</td>\n",
              "      <td>Seattle-Tacoma-Bellevue, WA MSA</td>\n",
              "      <td>2018-08-13</td>\n",
              "      <td>surf</td>\n",
              "      <td>NaN</td>\n",
              "    </tr>\n",
              "    <tr>\n",
              "      <th>2</th>\n",
              "      <td>1002</td>\n",
              "      <td>Carlee</td>\n",
              "      <td>Hoffman</td>\n",
              "      <td>36</td>\n",
              "      <td>Las Vegas-Henderson-Paradise, NV MSA</td>\n",
              "      <td>2018-10-21</td>\n",
              "      <td>surf</td>\n",
              "      <td>NaN</td>\n",
              "    </tr>\n",
              "    <tr>\n",
              "      <th>3</th>\n",
              "      <td>1003</td>\n",
              "      <td>Reynaldo</td>\n",
              "      <td>Jenkins</td>\n",
              "      <td>52</td>\n",
              "      <td>Tulsa, OK MSA</td>\n",
              "      <td>2018-01-28</td>\n",
              "      <td>surf</td>\n",
              "      <td>NaN</td>\n",
              "    </tr>\n",
              "    <tr>\n",
              "      <th>4</th>\n",
              "      <td>1004</td>\n",
              "      <td>Leonila</td>\n",
              "      <td>Thompson</td>\n",
              "      <td>40</td>\n",
              "      <td>Seattle-Tacoma-Bellevue, WA MSA</td>\n",
              "      <td>2018-05-23</td>\n",
              "      <td>surf</td>\n",
              "      <td>NaN</td>\n",
              "    </tr>\n",
              "  </tbody>\n",
              "</table>\n",
              "</div>"
            ],
            "text/plain": [
              "   user_id first_name  last_name  age                                   city  \\\n",
              "0     1000   Anamaria      Bauer   45  Atlanta-Sandy Springs-Roswell, GA MSA   \n",
              "1     1001     Mickey  Wilkerson   28        Seattle-Tacoma-Bellevue, WA MSA   \n",
              "2     1002     Carlee    Hoffman   36   Las Vegas-Henderson-Paradise, NV MSA   \n",
              "3     1003   Reynaldo    Jenkins   52                          Tulsa, OK MSA   \n",
              "4     1004    Leonila   Thompson   40        Seattle-Tacoma-Bellevue, WA MSA   \n",
              "\n",
              "     reg_date      plan churn_date  \n",
              "0  2018-12-24  ultimate        NaN  \n",
              "1  2018-08-13      surf        NaN  \n",
              "2  2018-10-21      surf        NaN  \n",
              "3  2018-01-28      surf        NaN  \n",
              "4  2018-05-23      surf        NaN  "
            ]
          },
          "metadata": {},
          "output_type": "display_data"
        },
        {
          "name": "stdout",
          "output_type": "stream",
          "text": [
            "Empty DataFrame\n",
            "Columns: [user_id, first_name, last_name, age, city, reg_date, plan, churn_date]\n",
            "Index: []\n"
          ]
        }
      ],
      "source": [
        "# Imprime una muestra de datos para usuarios\n",
        "\n",
        "display( megaline_users.head() )\n",
        "\n",
        "# Verificando duplicados\n",
        "usersdup = ( megaline_users [ megaline_users.duplicated() == True ] )\n",
        "\n",
        "print( usersdup )"
      ]
    },
    {
      "cell_type": "markdown",
      "metadata": {
        "id": "dCZoUq4f0q06"
      },
      "source": [
        "\n",
        "\n",
        "- Datos ausentes en churn_date, que aclara la info del conjunto su significado\n",
        "- Sin duplicados\n",
        "- Reg_date y churn_date pueden cambiarse a tipo datatime\n",
        "- Se puede agregar columna de mes de registro"
      ]
    },
    {
      "cell_type": "markdown",
      "metadata": {
        "id": "BX5FQh_I0q06"
      },
      "source": [
        "### Corregir los datos"
      ]
    },
    {
      "cell_type": "code",
      "execution_count": null,
      "metadata": {
        "id": "yUqX-K0C0q07",
        "scrolled": true,
        "outputId": "b862da94-e789-4cb9-a149-c3e4ade0ae63"
      },
      "outputs": [
        {
          "name": "stdout",
          "output_type": "stream",
          "text": [
            "<class 'pandas.core.frame.DataFrame'>\n",
            "RangeIndex: 500 entries, 0 to 499\n",
            "Data columns (total 8 columns):\n",
            " #   Column      Non-Null Count  Dtype         \n",
            "---  ------      --------------  -----         \n",
            " 0   user_id     500 non-null    int64         \n",
            " 1   first_name  500 non-null    object        \n",
            " 2   last_name   500 non-null    object        \n",
            " 3   age         500 non-null    int64         \n",
            " 4   city        500 non-null    object        \n",
            " 5   reg_date    500 non-null    datetime64[ns]\n",
            " 6   plan        500 non-null    object        \n",
            " 7   churn_date  34 non-null     datetime64[ns]\n",
            "dtypes: datetime64[ns](2), int64(2), object(4)\n",
            "memory usage: 31.4+ KB\n"
          ]
        }
      ],
      "source": [
        "# Conversión de tipo de datos a datetime\n",
        "\n",
        "megaline_users['reg_date'] = pd.to_datetime(megaline_users['reg_date'])\n",
        "\n",
        "megaline_users['churn_date'] = pd.to_datetime(megaline_users['churn_date'])\n",
        "\n",
        "megaline_users.info()"
      ]
    },
    {
      "cell_type": "markdown",
      "metadata": {
        "id": "ycwuARJp0q07"
      },
      "source": [
        "### Enriquecer los datos"
      ]
    },
    {
      "cell_type": "code",
      "execution_count": null,
      "metadata": {
        "id": "iq0AaBS90q08",
        "outputId": "4d9b4678-f9ab-41cc-a449-bb7ed36c70c1"
      },
      "outputs": [
        {
          "data": {
            "text/html": [
              "<div>\n",
              "<style scoped>\n",
              "    .dataframe tbody tr th:only-of-type {\n",
              "        vertical-align: middle;\n",
              "    }\n",
              "\n",
              "    .dataframe tbody tr th {\n",
              "        vertical-align: top;\n",
              "    }\n",
              "\n",
              "    .dataframe thead th {\n",
              "        text-align: right;\n",
              "    }\n",
              "</style>\n",
              "<table border=\"1\" class=\"dataframe\">\n",
              "  <thead>\n",
              "    <tr style=\"text-align: right;\">\n",
              "      <th></th>\n",
              "      <th>user_id</th>\n",
              "      <th>first_name</th>\n",
              "      <th>last_name</th>\n",
              "      <th>age</th>\n",
              "      <th>city</th>\n",
              "      <th>reg_date</th>\n",
              "      <th>plan</th>\n",
              "      <th>churn_date</th>\n",
              "      <th>reg_month</th>\n",
              "      <th>churn_month</th>\n",
              "    </tr>\n",
              "  </thead>\n",
              "  <tbody>\n",
              "    <tr>\n",
              "      <th>0</th>\n",
              "      <td>1000</td>\n",
              "      <td>Anamaria</td>\n",
              "      <td>Bauer</td>\n",
              "      <td>45</td>\n",
              "      <td>Atlanta-Sandy Springs-Roswell, GA MSA</td>\n",
              "      <td>2018-12-24</td>\n",
              "      <td>ultimate</td>\n",
              "      <td>NaT</td>\n",
              "      <td>12</td>\n",
              "      <td>NaN</td>\n",
              "    </tr>\n",
              "    <tr>\n",
              "      <th>1</th>\n",
              "      <td>1001</td>\n",
              "      <td>Mickey</td>\n",
              "      <td>Wilkerson</td>\n",
              "      <td>28</td>\n",
              "      <td>Seattle-Tacoma-Bellevue, WA MSA</td>\n",
              "      <td>2018-08-13</td>\n",
              "      <td>surf</td>\n",
              "      <td>NaT</td>\n",
              "      <td>8</td>\n",
              "      <td>NaN</td>\n",
              "    </tr>\n",
              "    <tr>\n",
              "      <th>2</th>\n",
              "      <td>1002</td>\n",
              "      <td>Carlee</td>\n",
              "      <td>Hoffman</td>\n",
              "      <td>36</td>\n",
              "      <td>Las Vegas-Henderson-Paradise, NV MSA</td>\n",
              "      <td>2018-10-21</td>\n",
              "      <td>surf</td>\n",
              "      <td>NaT</td>\n",
              "      <td>10</td>\n",
              "      <td>NaN</td>\n",
              "    </tr>\n",
              "    <tr>\n",
              "      <th>3</th>\n",
              "      <td>1003</td>\n",
              "      <td>Reynaldo</td>\n",
              "      <td>Jenkins</td>\n",
              "      <td>52</td>\n",
              "      <td>Tulsa, OK MSA</td>\n",
              "      <td>2018-01-28</td>\n",
              "      <td>surf</td>\n",
              "      <td>NaT</td>\n",
              "      <td>1</td>\n",
              "      <td>NaN</td>\n",
              "    </tr>\n",
              "    <tr>\n",
              "      <th>4</th>\n",
              "      <td>1004</td>\n",
              "      <td>Leonila</td>\n",
              "      <td>Thompson</td>\n",
              "      <td>40</td>\n",
              "      <td>Seattle-Tacoma-Bellevue, WA MSA</td>\n",
              "      <td>2018-05-23</td>\n",
              "      <td>surf</td>\n",
              "      <td>NaT</td>\n",
              "      <td>5</td>\n",
              "      <td>NaN</td>\n",
              "    </tr>\n",
              "  </tbody>\n",
              "</table>\n",
              "</div>"
            ],
            "text/plain": [
              "   user_id first_name  last_name  age                                   city  \\\n",
              "0     1000   Anamaria      Bauer   45  Atlanta-Sandy Springs-Roswell, GA MSA   \n",
              "1     1001     Mickey  Wilkerson   28        Seattle-Tacoma-Bellevue, WA MSA   \n",
              "2     1002     Carlee    Hoffman   36   Las Vegas-Henderson-Paradise, NV MSA   \n",
              "3     1003   Reynaldo    Jenkins   52                          Tulsa, OK MSA   \n",
              "4     1004    Leonila   Thompson   40        Seattle-Tacoma-Bellevue, WA MSA   \n",
              "\n",
              "    reg_date      plan churn_date  reg_month  churn_month  \n",
              "0 2018-12-24  ultimate        NaT         12          NaN  \n",
              "1 2018-08-13      surf        NaT          8          NaN  \n",
              "2 2018-10-21      surf        NaT         10          NaN  \n",
              "3 2018-01-28      surf        NaT          1          NaN  \n",
              "4 2018-05-23      surf        NaT          5          NaN  "
            ]
          },
          "execution_count": 20,
          "metadata": {},
          "output_type": "execute_result"
        }
      ],
      "source": [
        "# Adición de columna de mes\n",
        "\n",
        "megaline_users['reg_month'] = megaline_users.reg_date.dt.month\n",
        "\n",
        "megaline_users['churn_month'] = megaline_users.churn_date.dt.month\n",
        "\n",
        "megaline_users.head()\n"
      ]
    },
    {
      "cell_type": "markdown",
      "metadata": {
        "id": "o7MeKCid0q08"
      },
      "source": [
        "## Llamadas"
      ]
    },
    {
      "cell_type": "code",
      "execution_count": null,
      "metadata": {
        "id": "6dDlnoDm0q08",
        "outputId": "28247b06-9f54-4a26-ba73-37f804fcc6fe"
      },
      "outputs": [
        {
          "name": "stdout",
          "output_type": "stream",
          "text": [
            "<class 'pandas.core.frame.DataFrame'>\n",
            "RangeIndex: 137735 entries, 0 to 137734\n",
            "Data columns (total 4 columns):\n",
            " #   Column     Non-Null Count   Dtype  \n",
            "---  ------     --------------   -----  \n",
            " 0   id         137735 non-null  object \n",
            " 1   user_id    137735 non-null  int64  \n",
            " 2   call_date  137735 non-null  object \n",
            " 3   duration   137735 non-null  float64\n",
            "dtypes: float64(1), int64(1), object(2)\n",
            "memory usage: 4.2+ MB\n"
          ]
        }
      ],
      "source": [
        "# Imprime la información general/resumida sobre el DataFrame de las llamadas\n",
        "\n",
        "megaline_calls.info()"
      ]
    },
    {
      "cell_type": "code",
      "execution_count": null,
      "metadata": {
        "id": "kuh1vlNB0q09",
        "outputId": "0c514445-105c-484c-a252-224cda8550e8"
      },
      "outputs": [
        {
          "data": {
            "text/html": [
              "<div>\n",
              "<style scoped>\n",
              "    .dataframe tbody tr th:only-of-type {\n",
              "        vertical-align: middle;\n",
              "    }\n",
              "\n",
              "    .dataframe tbody tr th {\n",
              "        vertical-align: top;\n",
              "    }\n",
              "\n",
              "    .dataframe thead th {\n",
              "        text-align: right;\n",
              "    }\n",
              "</style>\n",
              "<table border=\"1\" class=\"dataframe\">\n",
              "  <thead>\n",
              "    <tr style=\"text-align: right;\">\n",
              "      <th></th>\n",
              "      <th>id</th>\n",
              "      <th>user_id</th>\n",
              "      <th>call_date</th>\n",
              "      <th>duration</th>\n",
              "    </tr>\n",
              "  </thead>\n",
              "  <tbody>\n",
              "    <tr>\n",
              "      <th>0</th>\n",
              "      <td>1000_93</td>\n",
              "      <td>1000</td>\n",
              "      <td>2018-12-27</td>\n",
              "      <td>8.52</td>\n",
              "    </tr>\n",
              "    <tr>\n",
              "      <th>1</th>\n",
              "      <td>1000_145</td>\n",
              "      <td>1000</td>\n",
              "      <td>2018-12-27</td>\n",
              "      <td>13.66</td>\n",
              "    </tr>\n",
              "    <tr>\n",
              "      <th>2</th>\n",
              "      <td>1000_247</td>\n",
              "      <td>1000</td>\n",
              "      <td>2018-12-27</td>\n",
              "      <td>14.48</td>\n",
              "    </tr>\n",
              "    <tr>\n",
              "      <th>3</th>\n",
              "      <td>1000_309</td>\n",
              "      <td>1000</td>\n",
              "      <td>2018-12-28</td>\n",
              "      <td>5.76</td>\n",
              "    </tr>\n",
              "    <tr>\n",
              "      <th>4</th>\n",
              "      <td>1000_380</td>\n",
              "      <td>1000</td>\n",
              "      <td>2018-12-30</td>\n",
              "      <td>4.22</td>\n",
              "    </tr>\n",
              "  </tbody>\n",
              "</table>\n",
              "</div>"
            ],
            "text/plain": [
              "         id  user_id   call_date  duration\n",
              "0   1000_93     1000  2018-12-27      8.52\n",
              "1  1000_145     1000  2018-12-27     13.66\n",
              "2  1000_247     1000  2018-12-27     14.48\n",
              "3  1000_309     1000  2018-12-28      5.76\n",
              "4  1000_380     1000  2018-12-30      4.22"
            ]
          },
          "metadata": {},
          "output_type": "display_data"
        },
        {
          "name": "stdout",
          "output_type": "stream",
          "text": [
            "Empty DataFrame\n",
            "Columns: [id, user_id, call_date, duration]\n",
            "Index: []\n"
          ]
        }
      ],
      "source": [
        "# Imprime una muestra de datos para las llamadas\n",
        "\n",
        "display(megaline_calls.head())\n",
        "\n",
        "# Verificando duplicados\n",
        "callsdup = ( megaline_calls [ megaline_calls.duplicated()] )\n",
        "\n",
        "print(callsdup)"
      ]
    },
    {
      "cell_type": "markdown",
      "metadata": {
        "id": "DOAxYJSx0q09"
      },
      "source": [
        "\n",
        "- No hay datos ausentes, ni duplicados\n",
        "- call_date puede cambiarse a tipo datatime\n",
        "- duration puede convertirse a minutos, segundos"
      ]
    },
    {
      "cell_type": "markdown",
      "metadata": {
        "id": "S7hzxmbX0q0-"
      },
      "source": [
        "### Corregir los datos"
      ]
    },
    {
      "cell_type": "code",
      "execution_count": null,
      "metadata": {
        "id": "S2r8xA4f0q0-",
        "outputId": "391d06a8-db64-4032-fade-85b5fc6b3c63"
      },
      "outputs": [
        {
          "name": "stdout",
          "output_type": "stream",
          "text": [
            "<class 'pandas.core.frame.DataFrame'>\n",
            "RangeIndex: 137735 entries, 0 to 137734\n",
            "Data columns (total 4 columns):\n",
            " #   Column     Non-Null Count   Dtype         \n",
            "---  ------     --------------   -----         \n",
            " 0   id         137735 non-null  object        \n",
            " 1   user_id    137735 non-null  int64         \n",
            " 2   call_date  137735 non-null  datetime64[ns]\n",
            " 3   duration   137735 non-null  float64       \n",
            "dtypes: datetime64[ns](1), float64(1), int64(1), object(1)\n",
            "memory usage: 4.2+ MB\n",
            "None\n"
          ]
        },
        {
          "data": {
            "text/html": [
              "<div>\n",
              "<style scoped>\n",
              "    .dataframe tbody tr th:only-of-type {\n",
              "        vertical-align: middle;\n",
              "    }\n",
              "\n",
              "    .dataframe tbody tr th {\n",
              "        vertical-align: top;\n",
              "    }\n",
              "\n",
              "    .dataframe thead th {\n",
              "        text-align: right;\n",
              "    }\n",
              "</style>\n",
              "<table border=\"1\" class=\"dataframe\">\n",
              "  <thead>\n",
              "    <tr style=\"text-align: right;\">\n",
              "      <th></th>\n",
              "      <th>id</th>\n",
              "      <th>user_id</th>\n",
              "      <th>call_date</th>\n",
              "      <th>duration</th>\n",
              "    </tr>\n",
              "  </thead>\n",
              "  <tbody>\n",
              "    <tr>\n",
              "      <th>0</th>\n",
              "      <td>1000_93</td>\n",
              "      <td>1000</td>\n",
              "      <td>2018-12-27</td>\n",
              "      <td>9.0</td>\n",
              "    </tr>\n",
              "    <tr>\n",
              "      <th>1</th>\n",
              "      <td>1000_145</td>\n",
              "      <td>1000</td>\n",
              "      <td>2018-12-27</td>\n",
              "      <td>14.0</td>\n",
              "    </tr>\n",
              "    <tr>\n",
              "      <th>2</th>\n",
              "      <td>1000_247</td>\n",
              "      <td>1000</td>\n",
              "      <td>2018-12-27</td>\n",
              "      <td>15.0</td>\n",
              "    </tr>\n",
              "    <tr>\n",
              "      <th>3</th>\n",
              "      <td>1000_309</td>\n",
              "      <td>1000</td>\n",
              "      <td>2018-12-28</td>\n",
              "      <td>6.0</td>\n",
              "    </tr>\n",
              "    <tr>\n",
              "      <th>4</th>\n",
              "      <td>1000_380</td>\n",
              "      <td>1000</td>\n",
              "      <td>2018-12-30</td>\n",
              "      <td>5.0</td>\n",
              "    </tr>\n",
              "    <tr>\n",
              "      <th>...</th>\n",
              "      <td>...</td>\n",
              "      <td>...</td>\n",
              "      <td>...</td>\n",
              "      <td>...</td>\n",
              "    </tr>\n",
              "    <tr>\n",
              "      <th>137730</th>\n",
              "      <td>1499_199</td>\n",
              "      <td>1499</td>\n",
              "      <td>2018-11-21</td>\n",
              "      <td>9.0</td>\n",
              "    </tr>\n",
              "    <tr>\n",
              "      <th>137731</th>\n",
              "      <td>1499_200</td>\n",
              "      <td>1499</td>\n",
              "      <td>2018-10-20</td>\n",
              "      <td>11.0</td>\n",
              "    </tr>\n",
              "    <tr>\n",
              "      <th>137732</th>\n",
              "      <td>1499_201</td>\n",
              "      <td>1499</td>\n",
              "      <td>2018-09-21</td>\n",
              "      <td>9.0</td>\n",
              "    </tr>\n",
              "    <tr>\n",
              "      <th>137733</th>\n",
              "      <td>1499_202</td>\n",
              "      <td>1499</td>\n",
              "      <td>2018-10-10</td>\n",
              "      <td>1.0</td>\n",
              "    </tr>\n",
              "    <tr>\n",
              "      <th>137734</th>\n",
              "      <td>1499_203</td>\n",
              "      <td>1499</td>\n",
              "      <td>2018-12-29</td>\n",
              "      <td>14.0</td>\n",
              "    </tr>\n",
              "  </tbody>\n",
              "</table>\n",
              "<p>137735 rows × 4 columns</p>\n",
              "</div>"
            ],
            "text/plain": [
              "              id  user_id  call_date  duration\n",
              "0        1000_93     1000 2018-12-27       9.0\n",
              "1       1000_145     1000 2018-12-27      14.0\n",
              "2       1000_247     1000 2018-12-27      15.0\n",
              "3       1000_309     1000 2018-12-28       6.0\n",
              "4       1000_380     1000 2018-12-30       5.0\n",
              "...          ...      ...        ...       ...\n",
              "137730  1499_199     1499 2018-11-21       9.0\n",
              "137731  1499_200     1499 2018-10-20      11.0\n",
              "137732  1499_201     1499 2018-09-21       9.0\n",
              "137733  1499_202     1499 2018-10-10       1.0\n",
              "137734  1499_203     1499 2018-12-29      14.0\n",
              "\n",
              "[137735 rows x 4 columns]"
            ]
          },
          "metadata": {},
          "output_type": "display_data"
        }
      ],
      "source": [
        "# Conversión de tipo de datos a datetime\n",
        "\n",
        "megaline_calls['call_date'] = pd.to_datetime(megaline_calls['call_date'])\n",
        "print(megaline_calls.info())\n",
        "\n",
        "# Cerrando los datos de duración al siguiente número entero\n",
        "\n",
        "megaline_calls['duration'] = megaline_calls['duration'].apply(np.ceil)\n",
        "display(megaline_calls)"
      ]
    },
    {
      "cell_type": "markdown",
      "metadata": {
        "id": "KrMgTrlG0q0_"
      },
      "source": [
        "### Enriquecer los datos"
      ]
    },
    {
      "cell_type": "code",
      "execution_count": null,
      "metadata": {
        "id": "iZ1avpA_0q0_",
        "outputId": "18f6c92d-0e17-4394-cd4b-e92906cfaeb1"
      },
      "outputs": [
        {
          "data": {
            "text/html": [
              "<div>\n",
              "<style scoped>\n",
              "    .dataframe tbody tr th:only-of-type {\n",
              "        vertical-align: middle;\n",
              "    }\n",
              "\n",
              "    .dataframe tbody tr th {\n",
              "        vertical-align: top;\n",
              "    }\n",
              "\n",
              "    .dataframe thead th {\n",
              "        text-align: right;\n",
              "    }\n",
              "</style>\n",
              "<table border=\"1\" class=\"dataframe\">\n",
              "  <thead>\n",
              "    <tr style=\"text-align: right;\">\n",
              "      <th></th>\n",
              "      <th>id</th>\n",
              "      <th>user_id</th>\n",
              "      <th>call_date</th>\n",
              "      <th>duration</th>\n",
              "      <th>call_month</th>\n",
              "    </tr>\n",
              "  </thead>\n",
              "  <tbody>\n",
              "    <tr>\n",
              "      <th>0</th>\n",
              "      <td>1000_93</td>\n",
              "      <td>1000</td>\n",
              "      <td>2018-12-27</td>\n",
              "      <td>9.0</td>\n",
              "      <td>12</td>\n",
              "    </tr>\n",
              "    <tr>\n",
              "      <th>1</th>\n",
              "      <td>1000_145</td>\n",
              "      <td>1000</td>\n",
              "      <td>2018-12-27</td>\n",
              "      <td>14.0</td>\n",
              "      <td>12</td>\n",
              "    </tr>\n",
              "    <tr>\n",
              "      <th>2</th>\n",
              "      <td>1000_247</td>\n",
              "      <td>1000</td>\n",
              "      <td>2018-12-27</td>\n",
              "      <td>15.0</td>\n",
              "      <td>12</td>\n",
              "    </tr>\n",
              "    <tr>\n",
              "      <th>3</th>\n",
              "      <td>1000_309</td>\n",
              "      <td>1000</td>\n",
              "      <td>2018-12-28</td>\n",
              "      <td>6.0</td>\n",
              "      <td>12</td>\n",
              "    </tr>\n",
              "    <tr>\n",
              "      <th>4</th>\n",
              "      <td>1000_380</td>\n",
              "      <td>1000</td>\n",
              "      <td>2018-12-30</td>\n",
              "      <td>5.0</td>\n",
              "      <td>12</td>\n",
              "    </tr>\n",
              "  </tbody>\n",
              "</table>\n",
              "</div>"
            ],
            "text/plain": [
              "         id  user_id  call_date  duration  call_month\n",
              "0   1000_93     1000 2018-12-27       9.0          12\n",
              "1  1000_145     1000 2018-12-27      14.0          12\n",
              "2  1000_247     1000 2018-12-27      15.0          12\n",
              "3  1000_309     1000 2018-12-28       6.0          12\n",
              "4  1000_380     1000 2018-12-30       5.0          12"
            ]
          },
          "metadata": {},
          "output_type": "display_data"
        },
        {
          "name": "stdout",
          "output_type": "stream",
          "text": [
            "[12  9 10 11  8  7  6  5  3  4  2  1]\n"
          ]
        }
      ],
      "source": [
        "# Adición de columna de mes\n",
        "\n",
        "megaline_calls['call_month'] = megaline_calls.call_date.dt.month\n",
        "\n",
        "display(megaline_calls.head())\n",
        "\n",
        "print( megaline_calls['call_month'].unique() )"
      ]
    },
    {
      "cell_type": "markdown",
      "metadata": {
        "id": "mOUZSi180q0_"
      },
      "source": [
        "## Mensajes"
      ]
    },
    {
      "cell_type": "code",
      "execution_count": null,
      "metadata": {
        "id": "R-bYJpdV0q1A",
        "outputId": "69b45c4d-5651-4d4d-d736-150fc9570a16"
      },
      "outputs": [
        {
          "name": "stdout",
          "output_type": "stream",
          "text": [
            "<class 'pandas.core.frame.DataFrame'>\n",
            "RangeIndex: 76051 entries, 0 to 76050\n",
            "Data columns (total 3 columns):\n",
            " #   Column        Non-Null Count  Dtype \n",
            "---  ------        --------------  ----- \n",
            " 0   id            76051 non-null  object\n",
            " 1   user_id       76051 non-null  int64 \n",
            " 2   message_date  76051 non-null  object\n",
            "dtypes: int64(1), object(2)\n",
            "memory usage: 1.7+ MB\n"
          ]
        }
      ],
      "source": [
        "# Imprime la información general/resumida sobre el DataFrame de los mensajes\n",
        "\n",
        "megaline_messages.info()"
      ]
    },
    {
      "cell_type": "code",
      "execution_count": null,
      "metadata": {
        "id": "mCEl2iGE0q1A",
        "outputId": "afefe515-d76d-4a1e-a32a-d72a1758937f"
      },
      "outputs": [
        {
          "data": {
            "text/html": [
              "<div>\n",
              "<style scoped>\n",
              "    .dataframe tbody tr th:only-of-type {\n",
              "        vertical-align: middle;\n",
              "    }\n",
              "\n",
              "    .dataframe tbody tr th {\n",
              "        vertical-align: top;\n",
              "    }\n",
              "\n",
              "    .dataframe thead th {\n",
              "        text-align: right;\n",
              "    }\n",
              "</style>\n",
              "<table border=\"1\" class=\"dataframe\">\n",
              "  <thead>\n",
              "    <tr style=\"text-align: right;\">\n",
              "      <th></th>\n",
              "      <th>id</th>\n",
              "      <th>user_id</th>\n",
              "      <th>message_date</th>\n",
              "    </tr>\n",
              "  </thead>\n",
              "  <tbody>\n",
              "    <tr>\n",
              "      <th>0</th>\n",
              "      <td>1000_125</td>\n",
              "      <td>1000</td>\n",
              "      <td>2018-12-27</td>\n",
              "    </tr>\n",
              "    <tr>\n",
              "      <th>1</th>\n",
              "      <td>1000_160</td>\n",
              "      <td>1000</td>\n",
              "      <td>2018-12-31</td>\n",
              "    </tr>\n",
              "    <tr>\n",
              "      <th>2</th>\n",
              "      <td>1000_223</td>\n",
              "      <td>1000</td>\n",
              "      <td>2018-12-31</td>\n",
              "    </tr>\n",
              "    <tr>\n",
              "      <th>3</th>\n",
              "      <td>1000_251</td>\n",
              "      <td>1000</td>\n",
              "      <td>2018-12-27</td>\n",
              "    </tr>\n",
              "    <tr>\n",
              "      <th>4</th>\n",
              "      <td>1000_255</td>\n",
              "      <td>1000</td>\n",
              "      <td>2018-12-26</td>\n",
              "    </tr>\n",
              "  </tbody>\n",
              "</table>\n",
              "</div>"
            ],
            "text/plain": [
              "         id  user_id message_date\n",
              "0  1000_125     1000   2018-12-27\n",
              "1  1000_160     1000   2018-12-31\n",
              "2  1000_223     1000   2018-12-31\n",
              "3  1000_251     1000   2018-12-27\n",
              "4  1000_255     1000   2018-12-26"
            ]
          },
          "execution_count": 26,
          "metadata": {},
          "output_type": "execute_result"
        }
      ],
      "source": [
        "# Imprime una muestra de datos para los mensajes\n",
        "\n",
        "megaline_messages.head()"
      ]
    },
    {
      "cell_type": "markdown",
      "metadata": {
        "id": "04xDj7KH0q1A"
      },
      "source": [
        "\n",
        "\n",
        "- Sin datos nulos ni duplicados\n",
        "- message_date puede convertirse a formato datetime\n",
        "\n",
        "\n"
      ]
    },
    {
      "cell_type": "markdown",
      "metadata": {
        "id": "Sprfak900q1B"
      },
      "source": [
        "### Corregir los datos"
      ]
    },
    {
      "cell_type": "code",
      "execution_count": null,
      "metadata": {
        "id": "vsllvkoa0q1B",
        "outputId": "4481cc4f-71d5-4993-bc7e-aa286036f00b"
      },
      "outputs": [
        {
          "name": "stdout",
          "output_type": "stream",
          "text": [
            "<class 'pandas.core.frame.DataFrame'>\n",
            "RangeIndex: 76051 entries, 0 to 76050\n",
            "Data columns (total 3 columns):\n",
            " #   Column        Non-Null Count  Dtype         \n",
            "---  ------        --------------  -----         \n",
            " 0   id            76051 non-null  object        \n",
            " 1   user_id       76051 non-null  int64         \n",
            " 2   message_date  76051 non-null  datetime64[ns]\n",
            "dtypes: datetime64[ns](1), int64(1), object(1)\n",
            "memory usage: 1.7+ MB\n",
            " \n",
            " Empty DataFrame\n",
            "Columns: [id, user_id, message_date]\n",
            "Index: []\n"
          ]
        }
      ],
      "source": [
        "# Conversipon de tipo de dato a datetime\n",
        "\n",
        "megaline_messages['message_date'] = pd.to_datetime(megaline_messages['message_date'])\n",
        "\n",
        "# Verificando duplicados\n",
        "msg_dup = megaline_messages[megaline_messages.duplicated()]\n",
        "\n",
        "megaline_messages.info()\n",
        "\n",
        "print( f' \\n {msg_dup}' )"
      ]
    },
    {
      "cell_type": "markdown",
      "metadata": {
        "id": "HvLid7iD0q1B"
      },
      "source": [
        "### Enriquecer los datos"
      ]
    },
    {
      "cell_type": "code",
      "execution_count": null,
      "metadata": {
        "id": "zYEXZac10q1C",
        "outputId": "94765610-821d-4772-b303-a9bec27cc5f2"
      },
      "outputs": [
        {
          "data": {
            "text/html": [
              "<div>\n",
              "<style scoped>\n",
              "    .dataframe tbody tr th:only-of-type {\n",
              "        vertical-align: middle;\n",
              "    }\n",
              "\n",
              "    .dataframe tbody tr th {\n",
              "        vertical-align: top;\n",
              "    }\n",
              "\n",
              "    .dataframe thead th {\n",
              "        text-align: right;\n",
              "    }\n",
              "</style>\n",
              "<table border=\"1\" class=\"dataframe\">\n",
              "  <thead>\n",
              "    <tr style=\"text-align: right;\">\n",
              "      <th></th>\n",
              "      <th>id</th>\n",
              "      <th>user_id</th>\n",
              "      <th>message_date</th>\n",
              "      <th>message_month</th>\n",
              "    </tr>\n",
              "  </thead>\n",
              "  <tbody>\n",
              "    <tr>\n",
              "      <th>0</th>\n",
              "      <td>1000_125</td>\n",
              "      <td>1000</td>\n",
              "      <td>2018-12-27</td>\n",
              "      <td>12</td>\n",
              "    </tr>\n",
              "    <tr>\n",
              "      <th>1</th>\n",
              "      <td>1000_160</td>\n",
              "      <td>1000</td>\n",
              "      <td>2018-12-31</td>\n",
              "      <td>12</td>\n",
              "    </tr>\n",
              "    <tr>\n",
              "      <th>2</th>\n",
              "      <td>1000_223</td>\n",
              "      <td>1000</td>\n",
              "      <td>2018-12-31</td>\n",
              "      <td>12</td>\n",
              "    </tr>\n",
              "    <tr>\n",
              "      <th>3</th>\n",
              "      <td>1000_251</td>\n",
              "      <td>1000</td>\n",
              "      <td>2018-12-27</td>\n",
              "      <td>12</td>\n",
              "    </tr>\n",
              "    <tr>\n",
              "      <th>4</th>\n",
              "      <td>1000_255</td>\n",
              "      <td>1000</td>\n",
              "      <td>2018-12-26</td>\n",
              "      <td>12</td>\n",
              "    </tr>\n",
              "  </tbody>\n",
              "</table>\n",
              "</div>"
            ],
            "text/plain": [
              "         id  user_id message_date  message_month\n",
              "0  1000_125     1000   2018-12-27             12\n",
              "1  1000_160     1000   2018-12-31             12\n",
              "2  1000_223     1000   2018-12-31             12\n",
              "3  1000_251     1000   2018-12-27             12\n",
              "4  1000_255     1000   2018-12-26             12"
            ]
          },
          "metadata": {},
          "output_type": "display_data"
        }
      ],
      "source": [
        "# Adición de columna de mes\n",
        "\n",
        "megaline_messages['message_month'] = megaline_messages.message_date.dt.month\n",
        "\n",
        "display(megaline_messages.head())\n"
      ]
    },
    {
      "cell_type": "markdown",
      "metadata": {
        "id": "bStkaxn40q1C"
      },
      "source": [
        "## Internet"
      ]
    },
    {
      "cell_type": "code",
      "execution_count": null,
      "metadata": {
        "id": "e-Uz5qyn0q1C",
        "outputId": "5f05f623-76ef-46b4-a9cb-9d2583abfa92"
      },
      "outputs": [
        {
          "name": "stdout",
          "output_type": "stream",
          "text": [
            "<class 'pandas.core.frame.DataFrame'>\n",
            "RangeIndex: 104825 entries, 0 to 104824\n",
            "Data columns (total 4 columns):\n",
            " #   Column        Non-Null Count   Dtype  \n",
            "---  ------        --------------   -----  \n",
            " 0   id            104825 non-null  object \n",
            " 1   user_id       104825 non-null  int64  \n",
            " 2   session_date  104825 non-null  object \n",
            " 3   mb_used       104825 non-null  float64\n",
            "dtypes: float64(1), int64(1), object(2)\n",
            "memory usage: 3.2+ MB\n"
          ]
        }
      ],
      "source": [
        "# Imprime la información general/resumida sobre el DataFrame de internet\n",
        "\n",
        "megaline_internet.info()"
      ]
    },
    {
      "cell_type": "code",
      "execution_count": null,
      "metadata": {
        "id": "9r3x_XLw0q1C",
        "outputId": "1d29a6ef-e46f-4db4-ecc4-ae04c237ebd9"
      },
      "outputs": [
        {
          "data": {
            "text/html": [
              "<div>\n",
              "<style scoped>\n",
              "    .dataframe tbody tr th:only-of-type {\n",
              "        vertical-align: middle;\n",
              "    }\n",
              "\n",
              "    .dataframe tbody tr th {\n",
              "        vertical-align: top;\n",
              "    }\n",
              "\n",
              "    .dataframe thead th {\n",
              "        text-align: right;\n",
              "    }\n",
              "</style>\n",
              "<table border=\"1\" class=\"dataframe\">\n",
              "  <thead>\n",
              "    <tr style=\"text-align: right;\">\n",
              "      <th></th>\n",
              "      <th>id</th>\n",
              "      <th>user_id</th>\n",
              "      <th>session_date</th>\n",
              "      <th>mb_used</th>\n",
              "    </tr>\n",
              "  </thead>\n",
              "  <tbody>\n",
              "    <tr>\n",
              "      <th>0</th>\n",
              "      <td>1000_13</td>\n",
              "      <td>1000</td>\n",
              "      <td>2018-12-29</td>\n",
              "      <td>89.86</td>\n",
              "    </tr>\n",
              "    <tr>\n",
              "      <th>1</th>\n",
              "      <td>1000_204</td>\n",
              "      <td>1000</td>\n",
              "      <td>2018-12-31</td>\n",
              "      <td>0.00</td>\n",
              "    </tr>\n",
              "    <tr>\n",
              "      <th>2</th>\n",
              "      <td>1000_379</td>\n",
              "      <td>1000</td>\n",
              "      <td>2018-12-28</td>\n",
              "      <td>660.40</td>\n",
              "    </tr>\n",
              "    <tr>\n",
              "      <th>3</th>\n",
              "      <td>1000_413</td>\n",
              "      <td>1000</td>\n",
              "      <td>2018-12-26</td>\n",
              "      <td>270.99</td>\n",
              "    </tr>\n",
              "    <tr>\n",
              "      <th>4</th>\n",
              "      <td>1000_442</td>\n",
              "      <td>1000</td>\n",
              "      <td>2018-12-27</td>\n",
              "      <td>880.22</td>\n",
              "    </tr>\n",
              "  </tbody>\n",
              "</table>\n",
              "</div>"
            ],
            "text/plain": [
              "         id  user_id session_date  mb_used\n",
              "0   1000_13     1000   2018-12-29    89.86\n",
              "1  1000_204     1000   2018-12-31     0.00\n",
              "2  1000_379     1000   2018-12-28   660.40\n",
              "3  1000_413     1000   2018-12-26   270.99\n",
              "4  1000_442     1000   2018-12-27   880.22"
            ]
          },
          "execution_count": 30,
          "metadata": {},
          "output_type": "execute_result"
        }
      ],
      "source": [
        "# Imprime una muestra de datos para el tráfico de internet\n",
        "\n",
        "megaline_internet.head()"
      ]
    },
    {
      "cell_type": "markdown",
      "metadata": {
        "id": "EzOG5ik30q1D"
      },
      "source": [
        "\n",
        "- Sin datos nulos ni duplicados\n",
        "- session_date puede convertirse a formato datetime\n",
        "- Con mb_used crear columna convirtiendo a gb, para redondear al siguiente entero en gb en el total mensual, como se indica."
      ]
    },
    {
      "cell_type": "markdown",
      "metadata": {
        "id": "yA0tkPFg0q1D"
      },
      "source": [
        "### Corregir los datos"
      ]
    },
    {
      "cell_type": "code",
      "execution_count": null,
      "metadata": {
        "id": "zVeanzdd0q1E",
        "scrolled": true,
        "outputId": "6d433cbe-b9f7-4783-cb2e-5a2f922772bd"
      },
      "outputs": [
        {
          "name": "stdout",
          "output_type": "stream",
          "text": [
            "<class 'pandas.core.frame.DataFrame'>\n",
            "RangeIndex: 104825 entries, 0 to 104824\n",
            "Data columns (total 4 columns):\n",
            " #   Column        Non-Null Count   Dtype         \n",
            "---  ------        --------------   -----         \n",
            " 0   id            104825 non-null  object        \n",
            " 1   user_id       104825 non-null  int64         \n",
            " 2   session_date  104825 non-null  datetime64[ns]\n",
            " 3   mb_used       104825 non-null  float64       \n",
            "dtypes: datetime64[ns](1), float64(1), int64(1), object(1)\n",
            "memory usage: 3.2+ MB\n",
            " \n",
            " Empty DataFrame\n",
            "Columns: [id, user_id, session_date, mb_used]\n",
            "Index: [] \n"
          ]
        }
      ],
      "source": [
        "# Conversión de tipo de dato a datetime\n",
        "\n",
        "megaline_internet['session_date'] = pd.to_datetime(megaline_internet['session_date'])\n",
        "\n",
        "# Verificar duplicados\n",
        "int_dup = megaline_internet[megaline_internet.duplicated()]\n",
        "\n",
        "megaline_internet.info()\n",
        "\n",
        "print( f' \\n {int_dup} ' )"
      ]
    },
    {
      "cell_type": "markdown",
      "metadata": {
        "id": "e8_mLF4a0q1E"
      },
      "source": [
        "### Enriquecer los datos"
      ]
    },
    {
      "cell_type": "code",
      "execution_count": null,
      "metadata": {
        "id": "ESiYPIEK0q1E",
        "outputId": "a27a88ac-a5bc-4f79-f634-7fe0ac840941"
      },
      "outputs": [
        {
          "data": {
            "text/html": [
              "<div>\n",
              "<style scoped>\n",
              "    .dataframe tbody tr th:only-of-type {\n",
              "        vertical-align: middle;\n",
              "    }\n",
              "\n",
              "    .dataframe tbody tr th {\n",
              "        vertical-align: top;\n",
              "    }\n",
              "\n",
              "    .dataframe thead th {\n",
              "        text-align: right;\n",
              "    }\n",
              "</style>\n",
              "<table border=\"1\" class=\"dataframe\">\n",
              "  <thead>\n",
              "    <tr style=\"text-align: right;\">\n",
              "      <th></th>\n",
              "      <th>id</th>\n",
              "      <th>user_id</th>\n",
              "      <th>session_date</th>\n",
              "      <th>mb_used</th>\n",
              "      <th>session_month</th>\n",
              "      <th>gb_used</th>\n",
              "    </tr>\n",
              "  </thead>\n",
              "  <tbody>\n",
              "    <tr>\n",
              "      <th>0</th>\n",
              "      <td>1000_13</td>\n",
              "      <td>1000</td>\n",
              "      <td>2018-12-29</td>\n",
              "      <td>89.86</td>\n",
              "      <td>12</td>\n",
              "      <td>0.087754</td>\n",
              "    </tr>\n",
              "    <tr>\n",
              "      <th>1</th>\n",
              "      <td>1000_204</td>\n",
              "      <td>1000</td>\n",
              "      <td>2018-12-31</td>\n",
              "      <td>0.00</td>\n",
              "      <td>12</td>\n",
              "      <td>0.000000</td>\n",
              "    </tr>\n",
              "    <tr>\n",
              "      <th>2</th>\n",
              "      <td>1000_379</td>\n",
              "      <td>1000</td>\n",
              "      <td>2018-12-28</td>\n",
              "      <td>660.40</td>\n",
              "      <td>12</td>\n",
              "      <td>0.644922</td>\n",
              "    </tr>\n",
              "    <tr>\n",
              "      <th>3</th>\n",
              "      <td>1000_413</td>\n",
              "      <td>1000</td>\n",
              "      <td>2018-12-26</td>\n",
              "      <td>270.99</td>\n",
              "      <td>12</td>\n",
              "      <td>0.264639</td>\n",
              "    </tr>\n",
              "    <tr>\n",
              "      <th>4</th>\n",
              "      <td>1000_442</td>\n",
              "      <td>1000</td>\n",
              "      <td>2018-12-27</td>\n",
              "      <td>880.22</td>\n",
              "      <td>12</td>\n",
              "      <td>0.859590</td>\n",
              "    </tr>\n",
              "  </tbody>\n",
              "</table>\n",
              "</div>"
            ],
            "text/plain": [
              "         id  user_id session_date  mb_used  session_month   gb_used\n",
              "0   1000_13     1000   2018-12-29    89.86             12  0.087754\n",
              "1  1000_204     1000   2018-12-31     0.00             12  0.000000\n",
              "2  1000_379     1000   2018-12-28   660.40             12  0.644922\n",
              "3  1000_413     1000   2018-12-26   270.99             12  0.264639\n",
              "4  1000_442     1000   2018-12-27   880.22             12  0.859590"
            ]
          },
          "metadata": {},
          "output_type": "display_data"
        }
      ],
      "source": [
        "# Adición de columna de mes\n",
        "\n",
        "megaline_internet['session_month'] = megaline_internet.session_date.dt.month\n",
        "\n",
        "# Conversión de mb a gb para tener la unidad coincida con la de la tarifa\n",
        "\n",
        "megaline_internet['gb_used'] = megaline_internet['mb_used'] / 1024\n",
        "\n",
        "\n",
        "display(megaline_internet.head())"
      ]
    },
    {
      "cell_type": "markdown",
      "metadata": {
        "id": "3UA2cqIW0q1E"
      },
      "source": [
        "## Estudiar las condiciones de las tarifas"
      ]
    },
    {
      "cell_type": "code",
      "execution_count": null,
      "metadata": {
        "id": "i409op8p0q1F",
        "outputId": "1be8bf7b-8df6-4c79-da90-2b5fe6224678"
      },
      "outputs": [
        {
          "data": {
            "text/html": [
              "<div>\n",
              "<style scoped>\n",
              "    .dataframe tbody tr th:only-of-type {\n",
              "        vertical-align: middle;\n",
              "    }\n",
              "\n",
              "    .dataframe tbody tr th {\n",
              "        vertical-align: top;\n",
              "    }\n",
              "\n",
              "    .dataframe thead th {\n",
              "        text-align: right;\n",
              "    }\n",
              "</style>\n",
              "<table border=\"1\" class=\"dataframe\">\n",
              "  <thead>\n",
              "    <tr style=\"text-align: right;\">\n",
              "      <th></th>\n",
              "      <th>messages_included</th>\n",
              "      <th>mb_per_month_included</th>\n",
              "      <th>minutes_included</th>\n",
              "      <th>usd_monthly_pay</th>\n",
              "      <th>usd_per_gb</th>\n",
              "      <th>usd_per_message</th>\n",
              "      <th>usd_per_minute</th>\n",
              "      <th>plan_name</th>\n",
              "    </tr>\n",
              "  </thead>\n",
              "  <tbody>\n",
              "    <tr>\n",
              "      <th>0</th>\n",
              "      <td>50</td>\n",
              "      <td>15360</td>\n",
              "      <td>500</td>\n",
              "      <td>20</td>\n",
              "      <td>10</td>\n",
              "      <td>0.03</td>\n",
              "      <td>0.03</td>\n",
              "      <td>surf</td>\n",
              "    </tr>\n",
              "    <tr>\n",
              "      <th>1</th>\n",
              "      <td>1000</td>\n",
              "      <td>30720</td>\n",
              "      <td>3000</td>\n",
              "      <td>70</td>\n",
              "      <td>7</td>\n",
              "      <td>0.01</td>\n",
              "      <td>0.01</td>\n",
              "      <td>ultimate</td>\n",
              "    </tr>\n",
              "  </tbody>\n",
              "</table>\n",
              "</div>"
            ],
            "text/plain": [
              "   messages_included  mb_per_month_included  minutes_included  \\\n",
              "0                 50                  15360               500   \n",
              "1               1000                  30720              3000   \n",
              "\n",
              "   usd_monthly_pay  usd_per_gb  usd_per_message  usd_per_minute plan_name  \n",
              "0               20          10             0.03            0.03      surf  \n",
              "1               70           7             0.01            0.01  ultimate  "
            ]
          },
          "execution_count": 33,
          "metadata": {},
          "output_type": "execute_result"
        }
      ],
      "source": [
        "# Imprime las condiciones de la tarifa y asegúrate de que te quedan claras\n",
        "\n",
        "megaline_plans\n",
        "\n",
        "# - - - - Descripción de las tarifas\n",
        "# Nota: Megaline redondea los segundos a minutos y los megabytes a gigabytes.\n",
        "#Para llamadas, cada llamada individual se redondea: incluso si la llamada duró solo un segundo,\n",
        "#   se contará como un minuto. Para tráfico web, las sesiones web individuales no se redondean.\n",
        "# En vez de esto, el total del mes se redondea hacia arriba. Si alguien usa 1025 megabytes este mes, se le cobrarán 2 gigabytes.\n",
        "# A continuación puedes ver una descripción de las tarifas:\n",
        "# Surf\n",
        "# Pago mensual: 20$.\n",
        "# 500 minutos al mes, 50 SMS y 15 GB de datos.\n",
        "# Si se exceden los límites del paquete:\n",
        "# 1 minuto: 3 centavos.\n",
        "# 1 SMS: 3 centavos.\n",
        "# 1 GB de datos: 10$."
      ]
    },
    {
      "cell_type": "markdown",
      "metadata": {
        "id": "hMR1tP5d0q1F"
      },
      "source": [
        "## Agregar datos por usuario\n",
        "\n"
      ]
    },
    {
      "cell_type": "code",
      "execution_count": null,
      "metadata": {
        "id": "A332cedB0q1G",
        "outputId": "a46e626d-7eb3-4d51-c3de-397979c0c215"
      },
      "outputs": [
        {
          "data": {
            "text/html": [
              "<div>\n",
              "<style scoped>\n",
              "    .dataframe tbody tr th:only-of-type {\n",
              "        vertical-align: middle;\n",
              "    }\n",
              "\n",
              "    .dataframe tbody tr th {\n",
              "        vertical-align: top;\n",
              "    }\n",
              "\n",
              "    .dataframe thead th {\n",
              "        text-align: right;\n",
              "    }\n",
              "</style>\n",
              "<table border=\"1\" class=\"dataframe\">\n",
              "  <thead>\n",
              "    <tr style=\"text-align: right;\">\n",
              "      <th></th>\n",
              "      <th>user_id</th>\n",
              "      <th>month</th>\n",
              "      <th>calls</th>\n",
              "    </tr>\n",
              "  </thead>\n",
              "  <tbody>\n",
              "    <tr>\n",
              "      <th>0</th>\n",
              "      <td>1000</td>\n",
              "      <td>12</td>\n",
              "      <td>16</td>\n",
              "    </tr>\n",
              "    <tr>\n",
              "      <th>1</th>\n",
              "      <td>1001</td>\n",
              "      <td>8</td>\n",
              "      <td>27</td>\n",
              "    </tr>\n",
              "    <tr>\n",
              "      <th>2</th>\n",
              "      <td>1001</td>\n",
              "      <td>9</td>\n",
              "      <td>49</td>\n",
              "    </tr>\n",
              "    <tr>\n",
              "      <th>3</th>\n",
              "      <td>1001</td>\n",
              "      <td>10</td>\n",
              "      <td>65</td>\n",
              "    </tr>\n",
              "    <tr>\n",
              "      <th>4</th>\n",
              "      <td>1001</td>\n",
              "      <td>11</td>\n",
              "      <td>64</td>\n",
              "    </tr>\n",
              "    <tr>\n",
              "      <th>...</th>\n",
              "      <td>...</td>\n",
              "      <td>...</td>\n",
              "      <td>...</td>\n",
              "    </tr>\n",
              "    <tr>\n",
              "      <th>2253</th>\n",
              "      <td>1498</td>\n",
              "      <td>12</td>\n",
              "      <td>39</td>\n",
              "    </tr>\n",
              "    <tr>\n",
              "      <th>2254</th>\n",
              "      <td>1499</td>\n",
              "      <td>9</td>\n",
              "      <td>41</td>\n",
              "    </tr>\n",
              "    <tr>\n",
              "      <th>2255</th>\n",
              "      <td>1499</td>\n",
              "      <td>10</td>\n",
              "      <td>53</td>\n",
              "    </tr>\n",
              "    <tr>\n",
              "      <th>2256</th>\n",
              "      <td>1499</td>\n",
              "      <td>11</td>\n",
              "      <td>45</td>\n",
              "    </tr>\n",
              "    <tr>\n",
              "      <th>2257</th>\n",
              "      <td>1499</td>\n",
              "      <td>12</td>\n",
              "      <td>65</td>\n",
              "    </tr>\n",
              "  </tbody>\n",
              "</table>\n",
              "<p>2258 rows × 3 columns</p>\n",
              "</div>"
            ],
            "text/plain": [
              "      user_id  month  calls\n",
              "0        1000     12     16\n",
              "1        1001      8     27\n",
              "2        1001      9     49\n",
              "3        1001     10     65\n",
              "4        1001     11     64\n",
              "...       ...    ...    ...\n",
              "2253     1498     12     39\n",
              "2254     1499      9     41\n",
              "2255     1499     10     53\n",
              "2256     1499     11     45\n",
              "2257     1499     12     65\n",
              "\n",
              "[2258 rows x 3 columns]"
            ]
          },
          "execution_count": 34,
          "metadata": {},
          "output_type": "execute_result"
        }
      ],
      "source": [
        "# Calcula el número de llamadas hechas por cada usuario al mes. Guarda el resultado.\n",
        "\n",
        "calls_user_monthly = megaline_calls.groupby(['user_id', 'call_month']).id.count().reset_index()\n",
        "\n",
        "calls_user_monthly.rename(columns = {'call_month':'month'}, inplace = True)\n",
        "calls_user_monthly.rename(columns = {'id':'calls'}, inplace = True)\n",
        "\n",
        "calls_user_monthly"
      ]
    },
    {
      "cell_type": "code",
      "execution_count": null,
      "metadata": {
        "id": "aw2cmuql0q1G",
        "outputId": "b762aac0-0ae9-42b6-fe76-7aa38c61ca53"
      },
      "outputs": [
        {
          "data": {
            "text/html": [
              "<div>\n",
              "<style scoped>\n",
              "    .dataframe tbody tr th:only-of-type {\n",
              "        vertical-align: middle;\n",
              "    }\n",
              "\n",
              "    .dataframe tbody tr th {\n",
              "        vertical-align: top;\n",
              "    }\n",
              "\n",
              "    .dataframe thead th {\n",
              "        text-align: right;\n",
              "    }\n",
              "</style>\n",
              "<table border=\"1\" class=\"dataframe\">\n",
              "  <thead>\n",
              "    <tr style=\"text-align: right;\">\n",
              "      <th></th>\n",
              "      <th>user_id</th>\n",
              "      <th>month</th>\n",
              "      <th>call_minutes</th>\n",
              "    </tr>\n",
              "  </thead>\n",
              "  <tbody>\n",
              "    <tr>\n",
              "      <th>0</th>\n",
              "      <td>1000</td>\n",
              "      <td>12</td>\n",
              "      <td>124.0</td>\n",
              "    </tr>\n",
              "    <tr>\n",
              "      <th>1</th>\n",
              "      <td>1001</td>\n",
              "      <td>8</td>\n",
              "      <td>182.0</td>\n",
              "    </tr>\n",
              "    <tr>\n",
              "      <th>2</th>\n",
              "      <td>1001</td>\n",
              "      <td>9</td>\n",
              "      <td>315.0</td>\n",
              "    </tr>\n",
              "    <tr>\n",
              "      <th>3</th>\n",
              "      <td>1001</td>\n",
              "      <td>10</td>\n",
              "      <td>393.0</td>\n",
              "    </tr>\n",
              "    <tr>\n",
              "      <th>4</th>\n",
              "      <td>1001</td>\n",
              "      <td>11</td>\n",
              "      <td>426.0</td>\n",
              "    </tr>\n",
              "    <tr>\n",
              "      <th>...</th>\n",
              "      <td>...</td>\n",
              "      <td>...</td>\n",
              "      <td>...</td>\n",
              "    </tr>\n",
              "    <tr>\n",
              "      <th>2253</th>\n",
              "      <td>1498</td>\n",
              "      <td>12</td>\n",
              "      <td>339.0</td>\n",
              "    </tr>\n",
              "    <tr>\n",
              "      <th>2254</th>\n",
              "      <td>1499</td>\n",
              "      <td>9</td>\n",
              "      <td>346.0</td>\n",
              "    </tr>\n",
              "    <tr>\n",
              "      <th>2255</th>\n",
              "      <td>1499</td>\n",
              "      <td>10</td>\n",
              "      <td>385.0</td>\n",
              "    </tr>\n",
              "    <tr>\n",
              "      <th>2256</th>\n",
              "      <td>1499</td>\n",
              "      <td>11</td>\n",
              "      <td>308.0</td>\n",
              "    </tr>\n",
              "    <tr>\n",
              "      <th>2257</th>\n",
              "      <td>1499</td>\n",
              "      <td>12</td>\n",
              "      <td>496.0</td>\n",
              "    </tr>\n",
              "  </tbody>\n",
              "</table>\n",
              "<p>2258 rows × 3 columns</p>\n",
              "</div>"
            ],
            "text/plain": [
              "      user_id  month  call_minutes\n",
              "0        1000     12         124.0\n",
              "1        1001      8         182.0\n",
              "2        1001      9         315.0\n",
              "3        1001     10         393.0\n",
              "4        1001     11         426.0\n",
              "...       ...    ...           ...\n",
              "2253     1498     12         339.0\n",
              "2254     1499      9         346.0\n",
              "2255     1499     10         385.0\n",
              "2256     1499     11         308.0\n",
              "2257     1499     12         496.0\n",
              "\n",
              "[2258 rows x 3 columns]"
            ]
          },
          "execution_count": 35,
          "metadata": {},
          "output_type": "execute_result"
        }
      ],
      "source": [
        "# Calcula la cantidad de minutos usados por cada usuario al mes. Guarda el resultado.\n",
        "\n",
        "min_user_monthly = megaline_calls.groupby(['user_id', 'call_month']).duration.sum().reset_index()\n",
        "\n",
        "min_user_monthly.rename(columns = {'call_month':'month'}, inplace = True)\n",
        "min_user_monthly.rename(columns = {'duration':'call_minutes'}, inplace = True)\n",
        "\n",
        "min_user_monthly"
      ]
    },
    {
      "cell_type": "code",
      "execution_count": null,
      "metadata": {
        "id": "CcQvNHn60q1G",
        "outputId": "7d39d791-f6f0-43b9-f3d1-4afa44c4e289"
      },
      "outputs": [
        {
          "data": {
            "text/html": [
              "<div>\n",
              "<style scoped>\n",
              "    .dataframe tbody tr th:only-of-type {\n",
              "        vertical-align: middle;\n",
              "    }\n",
              "\n",
              "    .dataframe tbody tr th {\n",
              "        vertical-align: top;\n",
              "    }\n",
              "\n",
              "    .dataframe thead th {\n",
              "        text-align: right;\n",
              "    }\n",
              "</style>\n",
              "<table border=\"1\" class=\"dataframe\">\n",
              "  <thead>\n",
              "    <tr style=\"text-align: right;\">\n",
              "      <th></th>\n",
              "      <th>user_id</th>\n",
              "      <th>month</th>\n",
              "      <th>messages</th>\n",
              "    </tr>\n",
              "  </thead>\n",
              "  <tbody>\n",
              "    <tr>\n",
              "      <th>0</th>\n",
              "      <td>1000</td>\n",
              "      <td>12</td>\n",
              "      <td>11</td>\n",
              "    </tr>\n",
              "    <tr>\n",
              "      <th>1</th>\n",
              "      <td>1001</td>\n",
              "      <td>8</td>\n",
              "      <td>30</td>\n",
              "    </tr>\n",
              "    <tr>\n",
              "      <th>2</th>\n",
              "      <td>1001</td>\n",
              "      <td>9</td>\n",
              "      <td>44</td>\n",
              "    </tr>\n",
              "    <tr>\n",
              "      <th>3</th>\n",
              "      <td>1001</td>\n",
              "      <td>10</td>\n",
              "      <td>53</td>\n",
              "    </tr>\n",
              "    <tr>\n",
              "      <th>4</th>\n",
              "      <td>1001</td>\n",
              "      <td>11</td>\n",
              "      <td>36</td>\n",
              "    </tr>\n",
              "    <tr>\n",
              "      <th>...</th>\n",
              "      <td>...</td>\n",
              "      <td>...</td>\n",
              "      <td>...</td>\n",
              "    </tr>\n",
              "    <tr>\n",
              "      <th>1801</th>\n",
              "      <td>1496</td>\n",
              "      <td>9</td>\n",
              "      <td>21</td>\n",
              "    </tr>\n",
              "    <tr>\n",
              "      <th>1802</th>\n",
              "      <td>1496</td>\n",
              "      <td>10</td>\n",
              "      <td>18</td>\n",
              "    </tr>\n",
              "    <tr>\n",
              "      <th>1803</th>\n",
              "      <td>1496</td>\n",
              "      <td>11</td>\n",
              "      <td>13</td>\n",
              "    </tr>\n",
              "    <tr>\n",
              "      <th>1804</th>\n",
              "      <td>1496</td>\n",
              "      <td>12</td>\n",
              "      <td>11</td>\n",
              "    </tr>\n",
              "    <tr>\n",
              "      <th>1805</th>\n",
              "      <td>1497</td>\n",
              "      <td>12</td>\n",
              "      <td>50</td>\n",
              "    </tr>\n",
              "  </tbody>\n",
              "</table>\n",
              "<p>1806 rows × 3 columns</p>\n",
              "</div>"
            ],
            "text/plain": [
              "      user_id  month  messages\n",
              "0        1000     12        11\n",
              "1        1001      8        30\n",
              "2        1001      9        44\n",
              "3        1001     10        53\n",
              "4        1001     11        36\n",
              "...       ...    ...       ...\n",
              "1801     1496      9        21\n",
              "1802     1496     10        18\n",
              "1803     1496     11        13\n",
              "1804     1496     12        11\n",
              "1805     1497     12        50\n",
              "\n",
              "[1806 rows x 3 columns]"
            ]
          },
          "execution_count": 36,
          "metadata": {},
          "output_type": "execute_result"
        }
      ],
      "source": [
        "# Calcula el número de mensajes enviados por cada usuario al mes. Guarda el resultado.\n",
        "\n",
        "msg_user_monthly = megaline_messages.groupby(['user_id', 'message_month']).id.count().reset_index()\n",
        "\n",
        "msg_user_monthly.rename(columns = {'message_month':'month'}, inplace = True)\n",
        "msg_user_monthly.rename(columns = {'id':'messages'}, inplace = True)\n",
        "\n",
        "msg_user_monthly"
      ]
    },
    {
      "cell_type": "code",
      "execution_count": null,
      "metadata": {
        "id": "H1AqN2eG0q1H",
        "outputId": "909f3309-60cb-4155-875a-ed809a88aac3"
      },
      "outputs": [
        {
          "data": {
            "text/html": [
              "<div>\n",
              "<style scoped>\n",
              "    .dataframe tbody tr th:only-of-type {\n",
              "        vertical-align: middle;\n",
              "    }\n",
              "\n",
              "    .dataframe tbody tr th {\n",
              "        vertical-align: top;\n",
              "    }\n",
              "\n",
              "    .dataframe thead th {\n",
              "        text-align: right;\n",
              "    }\n",
              "</style>\n",
              "<table border=\"1\" class=\"dataframe\">\n",
              "  <thead>\n",
              "    <tr style=\"text-align: right;\">\n",
              "      <th></th>\n",
              "      <th>user_id</th>\n",
              "      <th>month</th>\n",
              "      <th>gb_used</th>\n",
              "    </tr>\n",
              "  </thead>\n",
              "  <tbody>\n",
              "    <tr>\n",
              "      <th>0</th>\n",
              "      <td>1000</td>\n",
              "      <td>12</td>\n",
              "      <td>2.0</td>\n",
              "    </tr>\n",
              "    <tr>\n",
              "      <th>1</th>\n",
              "      <td>1001</td>\n",
              "      <td>8</td>\n",
              "      <td>7.0</td>\n",
              "    </tr>\n",
              "    <tr>\n",
              "      <th>2</th>\n",
              "      <td>1001</td>\n",
              "      <td>9</td>\n",
              "      <td>14.0</td>\n",
              "    </tr>\n",
              "    <tr>\n",
              "      <th>3</th>\n",
              "      <td>1001</td>\n",
              "      <td>10</td>\n",
              "      <td>22.0</td>\n",
              "    </tr>\n",
              "    <tr>\n",
              "      <th>4</th>\n",
              "      <td>1001</td>\n",
              "      <td>11</td>\n",
              "      <td>19.0</td>\n",
              "    </tr>\n",
              "    <tr>\n",
              "      <th>...</th>\n",
              "      <td>...</td>\n",
              "      <td>...</td>\n",
              "      <td>...</td>\n",
              "    </tr>\n",
              "    <tr>\n",
              "      <th>2272</th>\n",
              "      <td>1498</td>\n",
              "      <td>12</td>\n",
              "      <td>23.0</td>\n",
              "    </tr>\n",
              "    <tr>\n",
              "      <th>2273</th>\n",
              "      <td>1499</td>\n",
              "      <td>9</td>\n",
              "      <td>13.0</td>\n",
              "    </tr>\n",
              "    <tr>\n",
              "      <th>2274</th>\n",
              "      <td>1499</td>\n",
              "      <td>10</td>\n",
              "      <td>20.0</td>\n",
              "    </tr>\n",
              "    <tr>\n",
              "      <th>2275</th>\n",
              "      <td>1499</td>\n",
              "      <td>11</td>\n",
              "      <td>17.0</td>\n",
              "    </tr>\n",
              "    <tr>\n",
              "      <th>2276</th>\n",
              "      <td>1499</td>\n",
              "      <td>12</td>\n",
              "      <td>22.0</td>\n",
              "    </tr>\n",
              "  </tbody>\n",
              "</table>\n",
              "<p>2277 rows × 3 columns</p>\n",
              "</div>"
            ],
            "text/plain": [
              "      user_id  month  gb_used\n",
              "0        1000     12      2.0\n",
              "1        1001      8      7.0\n",
              "2        1001      9     14.0\n",
              "3        1001     10     22.0\n",
              "4        1001     11     19.0\n",
              "...       ...    ...      ...\n",
              "2272     1498     12     23.0\n",
              "2273     1499      9     13.0\n",
              "2274     1499     10     20.0\n",
              "2275     1499     11     17.0\n",
              "2276     1499     12     22.0\n",
              "\n",
              "[2277 rows x 3 columns]"
            ]
          },
          "execution_count": 37,
          "metadata": {},
          "output_type": "execute_result"
        }
      ],
      "source": [
        "# Calcula el volumen del tráfico de Internet usado por cada usuario al mes. Guarda el resultado.\n",
        "\n",
        "gbused_user_monthly = megaline_internet.groupby(['user_id','session_month']).gb_used.sum().reset_index()\n",
        "\n",
        "gbused_user_monthly['gb_used'] = np.ceil(gbused_user_monthly['gb_used'])\n",
        "\n",
        "gbused_user_monthly.rename(columns = {'session_month':'month'}, inplace = True)\n",
        "\n",
        "gbused_user_monthly"
      ]
    },
    {
      "cell_type": "code",
      "execution_count": null,
      "metadata": {
        "id": "FW99ykyf0q1H",
        "scrolled": false,
        "outputId": "af85deeb-e795-4add-8aa4-16d459d4aeb3"
      },
      "outputs": [
        {
          "data": {
            "text/html": [
              "<div>\n",
              "<style scoped>\n",
              "    .dataframe tbody tr th:only-of-type {\n",
              "        vertical-align: middle;\n",
              "    }\n",
              "\n",
              "    .dataframe tbody tr th {\n",
              "        vertical-align: top;\n",
              "    }\n",
              "\n",
              "    .dataframe thead th {\n",
              "        text-align: right;\n",
              "    }\n",
              "</style>\n",
              "<table border=\"1\" class=\"dataframe\">\n",
              "  <thead>\n",
              "    <tr style=\"text-align: right;\">\n",
              "      <th></th>\n",
              "      <th>user_id</th>\n",
              "      <th>month</th>\n",
              "      <th>calls</th>\n",
              "      <th>call_minutes</th>\n",
              "      <th>messages</th>\n",
              "      <th>gb_used</th>\n",
              "    </tr>\n",
              "  </thead>\n",
              "  <tbody>\n",
              "    <tr>\n",
              "      <th>0</th>\n",
              "      <td>1000</td>\n",
              "      <td>12</td>\n",
              "      <td>16.0</td>\n",
              "      <td>124.0</td>\n",
              "      <td>11.0</td>\n",
              "      <td>2.0</td>\n",
              "    </tr>\n",
              "    <tr>\n",
              "      <th>1</th>\n",
              "      <td>1001</td>\n",
              "      <td>8</td>\n",
              "      <td>27.0</td>\n",
              "      <td>182.0</td>\n",
              "      <td>30.0</td>\n",
              "      <td>7.0</td>\n",
              "    </tr>\n",
              "    <tr>\n",
              "      <th>2</th>\n",
              "      <td>1001</td>\n",
              "      <td>9</td>\n",
              "      <td>49.0</td>\n",
              "      <td>315.0</td>\n",
              "      <td>44.0</td>\n",
              "      <td>14.0</td>\n",
              "    </tr>\n",
              "    <tr>\n",
              "      <th>3</th>\n",
              "      <td>1001</td>\n",
              "      <td>10</td>\n",
              "      <td>65.0</td>\n",
              "      <td>393.0</td>\n",
              "      <td>53.0</td>\n",
              "      <td>22.0</td>\n",
              "    </tr>\n",
              "    <tr>\n",
              "      <th>4</th>\n",
              "      <td>1001</td>\n",
              "      <td>11</td>\n",
              "      <td>64.0</td>\n",
              "      <td>426.0</td>\n",
              "      <td>36.0</td>\n",
              "      <td>19.0</td>\n",
              "    </tr>\n",
              "    <tr>\n",
              "      <th>...</th>\n",
              "      <td>...</td>\n",
              "      <td>...</td>\n",
              "      <td>...</td>\n",
              "      <td>...</td>\n",
              "      <td>...</td>\n",
              "      <td>...</td>\n",
              "    </tr>\n",
              "    <tr>\n",
              "      <th>2288</th>\n",
              "      <td>1349</td>\n",
              "      <td>12</td>\n",
              "      <td>0.0</td>\n",
              "      <td>0.0</td>\n",
              "      <td>61.0</td>\n",
              "      <td>13.0</td>\n",
              "    </tr>\n",
              "    <tr>\n",
              "      <th>2289</th>\n",
              "      <td>1361</td>\n",
              "      <td>5</td>\n",
              "      <td>0.0</td>\n",
              "      <td>0.0</td>\n",
              "      <td>2.0</td>\n",
              "      <td>2.0</td>\n",
              "    </tr>\n",
              "    <tr>\n",
              "      <th>2290</th>\n",
              "      <td>1482</td>\n",
              "      <td>10</td>\n",
              "      <td>0.0</td>\n",
              "      <td>0.0</td>\n",
              "      <td>2.0</td>\n",
              "      <td>0.0</td>\n",
              "    </tr>\n",
              "    <tr>\n",
              "      <th>2291</th>\n",
              "      <td>1108</td>\n",
              "      <td>12</td>\n",
              "      <td>0.0</td>\n",
              "      <td>0.0</td>\n",
              "      <td>0.0</td>\n",
              "      <td>1.0</td>\n",
              "    </tr>\n",
              "    <tr>\n",
              "      <th>2292</th>\n",
              "      <td>1311</td>\n",
              "      <td>6</td>\n",
              "      <td>0.0</td>\n",
              "      <td>0.0</td>\n",
              "      <td>0.0</td>\n",
              "      <td>2.0</td>\n",
              "    </tr>\n",
              "  </tbody>\n",
              "</table>\n",
              "<p>2293 rows × 6 columns</p>\n",
              "</div>"
            ],
            "text/plain": [
              "      user_id  month  calls  call_minutes  messages  gb_used\n",
              "0        1000     12   16.0         124.0      11.0      2.0\n",
              "1        1001      8   27.0         182.0      30.0      7.0\n",
              "2        1001      9   49.0         315.0      44.0     14.0\n",
              "3        1001     10   65.0         393.0      53.0     22.0\n",
              "4        1001     11   64.0         426.0      36.0     19.0\n",
              "...       ...    ...    ...           ...       ...      ...\n",
              "2288     1349     12    0.0           0.0      61.0     13.0\n",
              "2289     1361      5    0.0           0.0       2.0      2.0\n",
              "2290     1482     10    0.0           0.0       2.0      0.0\n",
              "2291     1108     12    0.0           0.0       0.0      1.0\n",
              "2292     1311      6    0.0           0.0       0.0      2.0\n",
              "\n",
              "[2293 rows x 6 columns]"
            ]
          },
          "execution_count": 38,
          "metadata": {},
          "output_type": "execute_result"
        }
      ],
      "source": [
        "# Fusiona los datos de llamadas, minutos, mensajes e Internet con base en user_id y month\n",
        "\n",
        "# Fusion de llamadas y minutos de llamada\n",
        "user_monthly = pd.merge(calls_user_monthly, min_user_monthly, how='outer', on=['user_id', 'month'] )\n",
        "\n",
        "# Fusion con mensajes\n",
        "user_monthly = pd.merge(user_monthly, msg_user_monthly, how='outer', on=['user_id', 'month'] )\n",
        "\n",
        "# Fusion con gb utilizados\n",
        "user_monthly = pd.merge(user_monthly, gbused_user_monthly, how='outer', on=['user_id', 'month'] )\n",
        "\n",
        "\n",
        "user_monthly = user_monthly.fillna(value=0)\n",
        "\n",
        "user_monthly\n",
        "\n"
      ]
    },
    {
      "cell_type": "markdown",
      "metadata": {
        "id": "Y-QQurYcoTpY"
      },
      "source": [
        "<div class=\"alert alert-block alert-info\">\n",
        "<b>Comentario:</b> <a class=“tocSkip”></a><br>\n",
        " Para la fusión de los DataFrames, se usó en un principio `reduce` para fusionar los DataFrames, se intentó lograr el mismo resultado de manera más clara y legible utilizando `pd.concat`, pensando en que esto haría el código  más fácil de entender para quienes lo lean y lo mantengan.\n",
        "\n",
        " Aunque con concat(), cambiaba la cantidad de filas a más de 8000 porque solo pegaba cada dataframae debajo del otro. Mejor se opta por realizar multiples fusiones con pd.merge() y así obtener la tabla que tenía anteriormente para no correr riesgo de afectar todo lo que se realizó después con esta tabla generada.\n",
        "\n",
        "</div>"
      ]
    },
    {
      "cell_type": "code",
      "execution_count": null,
      "metadata": {
        "id": "0dNOXHag0q1H",
        "outputId": "de7731f2-4896-4e3a-fed1-e442520c533f"
      },
      "outputs": [
        {
          "data": {
            "text/html": [
              "<div>\n",
              "<style scoped>\n",
              "    .dataframe tbody tr th:only-of-type {\n",
              "        vertical-align: middle;\n",
              "    }\n",
              "\n",
              "    .dataframe tbody tr th {\n",
              "        vertical-align: top;\n",
              "    }\n",
              "\n",
              "    .dataframe thead th {\n",
              "        text-align: right;\n",
              "    }\n",
              "</style>\n",
              "<table border=\"1\" class=\"dataframe\">\n",
              "  <thead>\n",
              "    <tr style=\"text-align: right;\">\n",
              "      <th></th>\n",
              "      <th>user_id</th>\n",
              "      <th>first_name</th>\n",
              "      <th>last_name</th>\n",
              "      <th>age</th>\n",
              "      <th>city</th>\n",
              "      <th>reg_date</th>\n",
              "      <th>plan</th>\n",
              "      <th>churn_date</th>\n",
              "      <th>reg_month</th>\n",
              "      <th>churn_month</th>\n",
              "      <th>messages_included</th>\n",
              "      <th>mb_per_month_included</th>\n",
              "      <th>minutes_included</th>\n",
              "      <th>usd_monthly_pay</th>\n",
              "      <th>usd_per_gb</th>\n",
              "      <th>usd_per_message</th>\n",
              "      <th>usd_per_minute</th>\n",
              "      <th>plan_name</th>\n",
              "    </tr>\n",
              "  </thead>\n",
              "  <tbody>\n",
              "    <tr>\n",
              "      <th>0</th>\n",
              "      <td>1000</td>\n",
              "      <td>Anamaria</td>\n",
              "      <td>Bauer</td>\n",
              "      <td>45</td>\n",
              "      <td>Atlanta-Sandy Springs-Roswell, GA MSA</td>\n",
              "      <td>2018-12-24</td>\n",
              "      <td>ultimate</td>\n",
              "      <td>NaT</td>\n",
              "      <td>12</td>\n",
              "      <td>NaN</td>\n",
              "      <td>1000</td>\n",
              "      <td>30720</td>\n",
              "      <td>3000</td>\n",
              "      <td>70</td>\n",
              "      <td>7</td>\n",
              "      <td>0.01</td>\n",
              "      <td>0.01</td>\n",
              "      <td>ultimate</td>\n",
              "    </tr>\n",
              "    <tr>\n",
              "      <th>1</th>\n",
              "      <td>1006</td>\n",
              "      <td>Jesusa</td>\n",
              "      <td>Bradford</td>\n",
              "      <td>73</td>\n",
              "      <td>San Francisco-Oakland-Berkeley, CA MSA</td>\n",
              "      <td>2018-11-27</td>\n",
              "      <td>ultimate</td>\n",
              "      <td>2018-12-18</td>\n",
              "      <td>11</td>\n",
              "      <td>12.0</td>\n",
              "      <td>1000</td>\n",
              "      <td>30720</td>\n",
              "      <td>3000</td>\n",
              "      <td>70</td>\n",
              "      <td>7</td>\n",
              "      <td>0.01</td>\n",
              "      <td>0.01</td>\n",
              "      <td>ultimate</td>\n",
              "    </tr>\n",
              "    <tr>\n",
              "      <th>2</th>\n",
              "      <td>1008</td>\n",
              "      <td>Emely</td>\n",
              "      <td>Hoffman</td>\n",
              "      <td>53</td>\n",
              "      <td>Orlando-Kissimmee-Sanford, FL MSA</td>\n",
              "      <td>2018-08-03</td>\n",
              "      <td>ultimate</td>\n",
              "      <td>NaT</td>\n",
              "      <td>8</td>\n",
              "      <td>NaN</td>\n",
              "      <td>1000</td>\n",
              "      <td>30720</td>\n",
              "      <td>3000</td>\n",
              "      <td>70</td>\n",
              "      <td>7</td>\n",
              "      <td>0.01</td>\n",
              "      <td>0.01</td>\n",
              "      <td>ultimate</td>\n",
              "    </tr>\n",
              "    <tr>\n",
              "      <th>3</th>\n",
              "      <td>1011</td>\n",
              "      <td>Halina</td>\n",
              "      <td>Henry</td>\n",
              "      <td>73</td>\n",
              "      <td>Cleveland-Elyria, OH MSA</td>\n",
              "      <td>2018-01-18</td>\n",
              "      <td>ultimate</td>\n",
              "      <td>NaT</td>\n",
              "      <td>1</td>\n",
              "      <td>NaN</td>\n",
              "      <td>1000</td>\n",
              "      <td>30720</td>\n",
              "      <td>3000</td>\n",
              "      <td>70</td>\n",
              "      <td>7</td>\n",
              "      <td>0.01</td>\n",
              "      <td>0.01</td>\n",
              "      <td>ultimate</td>\n",
              "    </tr>\n",
              "    <tr>\n",
              "      <th>4</th>\n",
              "      <td>1013</td>\n",
              "      <td>Nicolas</td>\n",
              "      <td>Snider</td>\n",
              "      <td>50</td>\n",
              "      <td>Knoxville, TN MSA</td>\n",
              "      <td>2018-12-01</td>\n",
              "      <td>ultimate</td>\n",
              "      <td>NaT</td>\n",
              "      <td>12</td>\n",
              "      <td>NaN</td>\n",
              "      <td>1000</td>\n",
              "      <td>30720</td>\n",
              "      <td>3000</td>\n",
              "      <td>70</td>\n",
              "      <td>7</td>\n",
              "      <td>0.01</td>\n",
              "      <td>0.01</td>\n",
              "      <td>ultimate</td>\n",
              "    </tr>\n",
              "    <tr>\n",
              "      <th>...</th>\n",
              "      <td>...</td>\n",
              "      <td>...</td>\n",
              "      <td>...</td>\n",
              "      <td>...</td>\n",
              "      <td>...</td>\n",
              "      <td>...</td>\n",
              "      <td>...</td>\n",
              "      <td>...</td>\n",
              "      <td>...</td>\n",
              "      <td>...</td>\n",
              "      <td>...</td>\n",
              "      <td>...</td>\n",
              "      <td>...</td>\n",
              "      <td>...</td>\n",
              "      <td>...</td>\n",
              "      <td>...</td>\n",
              "      <td>...</td>\n",
              "      <td>...</td>\n",
              "    </tr>\n",
              "    <tr>\n",
              "      <th>495</th>\n",
              "      <td>1494</td>\n",
              "      <td>Preston</td>\n",
              "      <td>Downs</td>\n",
              "      <td>70</td>\n",
              "      <td>New York-Newark-Jersey City, NY-NJ-PA MSA</td>\n",
              "      <td>2018-04-19</td>\n",
              "      <td>surf</td>\n",
              "      <td>NaT</td>\n",
              "      <td>4</td>\n",
              "      <td>NaN</td>\n",
              "      <td>50</td>\n",
              "      <td>15360</td>\n",
              "      <td>500</td>\n",
              "      <td>20</td>\n",
              "      <td>10</td>\n",
              "      <td>0.03</td>\n",
              "      <td>0.03</td>\n",
              "      <td>surf</td>\n",
              "    </tr>\n",
              "    <tr>\n",
              "      <th>496</th>\n",
              "      <td>1495</td>\n",
              "      <td>Fidel</td>\n",
              "      <td>Sharpe</td>\n",
              "      <td>67</td>\n",
              "      <td>New York-Newark-Jersey City, NY-NJ-PA MSA</td>\n",
              "      <td>2018-09-04</td>\n",
              "      <td>surf</td>\n",
              "      <td>NaT</td>\n",
              "      <td>9</td>\n",
              "      <td>NaN</td>\n",
              "      <td>50</td>\n",
              "      <td>15360</td>\n",
              "      <td>500</td>\n",
              "      <td>20</td>\n",
              "      <td>10</td>\n",
              "      <td>0.03</td>\n",
              "      <td>0.03</td>\n",
              "      <td>surf</td>\n",
              "    </tr>\n",
              "    <tr>\n",
              "      <th>497</th>\n",
              "      <td>1496</td>\n",
              "      <td>Ariel</td>\n",
              "      <td>Shepherd</td>\n",
              "      <td>49</td>\n",
              "      <td>New Orleans-Metairie, LA MSA</td>\n",
              "      <td>2018-02-20</td>\n",
              "      <td>surf</td>\n",
              "      <td>NaT</td>\n",
              "      <td>2</td>\n",
              "      <td>NaN</td>\n",
              "      <td>50</td>\n",
              "      <td>15360</td>\n",
              "      <td>500</td>\n",
              "      <td>20</td>\n",
              "      <td>10</td>\n",
              "      <td>0.03</td>\n",
              "      <td>0.03</td>\n",
              "      <td>surf</td>\n",
              "    </tr>\n",
              "    <tr>\n",
              "      <th>498</th>\n",
              "      <td>1498</td>\n",
              "      <td>Scot</td>\n",
              "      <td>Williamson</td>\n",
              "      <td>51</td>\n",
              "      <td>New York-Newark-Jersey City, NY-NJ-PA MSA</td>\n",
              "      <td>2018-02-04</td>\n",
              "      <td>surf</td>\n",
              "      <td>NaT</td>\n",
              "      <td>2</td>\n",
              "      <td>NaN</td>\n",
              "      <td>50</td>\n",
              "      <td>15360</td>\n",
              "      <td>500</td>\n",
              "      <td>20</td>\n",
              "      <td>10</td>\n",
              "      <td>0.03</td>\n",
              "      <td>0.03</td>\n",
              "      <td>surf</td>\n",
              "    </tr>\n",
              "    <tr>\n",
              "      <th>499</th>\n",
              "      <td>1499</td>\n",
              "      <td>Shena</td>\n",
              "      <td>Dickson</td>\n",
              "      <td>37</td>\n",
              "      <td>Orlando-Kissimmee-Sanford, FL MSA</td>\n",
              "      <td>2018-05-06</td>\n",
              "      <td>surf</td>\n",
              "      <td>NaT</td>\n",
              "      <td>5</td>\n",
              "      <td>NaN</td>\n",
              "      <td>50</td>\n",
              "      <td>15360</td>\n",
              "      <td>500</td>\n",
              "      <td>20</td>\n",
              "      <td>10</td>\n",
              "      <td>0.03</td>\n",
              "      <td>0.03</td>\n",
              "      <td>surf</td>\n",
              "    </tr>\n",
              "  </tbody>\n",
              "</table>\n",
              "<p>500 rows × 18 columns</p>\n",
              "</div>"
            ],
            "text/plain": [
              "     user_id first_name   last_name  age  \\\n",
              "0       1000   Anamaria       Bauer   45   \n",
              "1       1006     Jesusa    Bradford   73   \n",
              "2       1008      Emely     Hoffman   53   \n",
              "3       1011     Halina       Henry   73   \n",
              "4       1013    Nicolas      Snider   50   \n",
              "..       ...        ...         ...  ...   \n",
              "495     1494    Preston       Downs   70   \n",
              "496     1495      Fidel      Sharpe   67   \n",
              "497     1496      Ariel    Shepherd   49   \n",
              "498     1498       Scot  Williamson   51   \n",
              "499     1499      Shena     Dickson   37   \n",
              "\n",
              "                                          city   reg_date      plan  \\\n",
              "0        Atlanta-Sandy Springs-Roswell, GA MSA 2018-12-24  ultimate   \n",
              "1       San Francisco-Oakland-Berkeley, CA MSA 2018-11-27  ultimate   \n",
              "2            Orlando-Kissimmee-Sanford, FL MSA 2018-08-03  ultimate   \n",
              "3                     Cleveland-Elyria, OH MSA 2018-01-18  ultimate   \n",
              "4                            Knoxville, TN MSA 2018-12-01  ultimate   \n",
              "..                                         ...        ...       ...   \n",
              "495  New York-Newark-Jersey City, NY-NJ-PA MSA 2018-04-19      surf   \n",
              "496  New York-Newark-Jersey City, NY-NJ-PA MSA 2018-09-04      surf   \n",
              "497               New Orleans-Metairie, LA MSA 2018-02-20      surf   \n",
              "498  New York-Newark-Jersey City, NY-NJ-PA MSA 2018-02-04      surf   \n",
              "499          Orlando-Kissimmee-Sanford, FL MSA 2018-05-06      surf   \n",
              "\n",
              "    churn_date  reg_month  churn_month  messages_included  \\\n",
              "0          NaT         12          NaN               1000   \n",
              "1   2018-12-18         11         12.0               1000   \n",
              "2          NaT          8          NaN               1000   \n",
              "3          NaT          1          NaN               1000   \n",
              "4          NaT         12          NaN               1000   \n",
              "..         ...        ...          ...                ...   \n",
              "495        NaT          4          NaN                 50   \n",
              "496        NaT          9          NaN                 50   \n",
              "497        NaT          2          NaN                 50   \n",
              "498        NaT          2          NaN                 50   \n",
              "499        NaT          5          NaN                 50   \n",
              "\n",
              "     mb_per_month_included  minutes_included  usd_monthly_pay  usd_per_gb  \\\n",
              "0                    30720              3000               70           7   \n",
              "1                    30720              3000               70           7   \n",
              "2                    30720              3000               70           7   \n",
              "3                    30720              3000               70           7   \n",
              "4                    30720              3000               70           7   \n",
              "..                     ...               ...              ...         ...   \n",
              "495                  15360               500               20          10   \n",
              "496                  15360               500               20          10   \n",
              "497                  15360               500               20          10   \n",
              "498                  15360               500               20          10   \n",
              "499                  15360               500               20          10   \n",
              "\n",
              "     usd_per_message  usd_per_minute plan_name  \n",
              "0               0.01            0.01  ultimate  \n",
              "1               0.01            0.01  ultimate  \n",
              "2               0.01            0.01  ultimate  \n",
              "3               0.01            0.01  ultimate  \n",
              "4               0.01            0.01  ultimate  \n",
              "..               ...             ...       ...  \n",
              "495             0.03            0.03      surf  \n",
              "496             0.03            0.03      surf  \n",
              "497             0.03            0.03      surf  \n",
              "498             0.03            0.03      surf  \n",
              "499             0.03            0.03      surf  \n",
              "\n",
              "[500 rows x 18 columns]"
            ]
          },
          "metadata": {},
          "output_type": "display_data"
        },
        {
          "name": "stdout",
          "output_type": "stream",
          "text": [
            "\n",
            " . \n",
            " . \n",
            " .\n"
          ]
        },
        {
          "data": {
            "text/html": [
              "<div>\n",
              "<style scoped>\n",
              "    .dataframe tbody tr th:only-of-type {\n",
              "        vertical-align: middle;\n",
              "    }\n",
              "\n",
              "    .dataframe tbody tr th {\n",
              "        vertical-align: top;\n",
              "    }\n",
              "\n",
              "    .dataframe thead th {\n",
              "        text-align: right;\n",
              "    }\n",
              "</style>\n",
              "<table border=\"1\" class=\"dataframe\">\n",
              "  <thead>\n",
              "    <tr style=\"text-align: right;\">\n",
              "      <th></th>\n",
              "      <th>user_id</th>\n",
              "      <th>month</th>\n",
              "      <th>calls</th>\n",
              "      <th>call_minutes</th>\n",
              "      <th>messages</th>\n",
              "      <th>gb_used</th>\n",
              "      <th>first_name</th>\n",
              "      <th>last_name</th>\n",
              "      <th>age</th>\n",
              "      <th>city</th>\n",
              "      <th>...</th>\n",
              "      <th>reg_month</th>\n",
              "      <th>churn_month</th>\n",
              "      <th>messages_included</th>\n",
              "      <th>mb_per_month_included</th>\n",
              "      <th>minutes_included</th>\n",
              "      <th>usd_monthly_pay</th>\n",
              "      <th>usd_per_gb</th>\n",
              "      <th>usd_per_message</th>\n",
              "      <th>usd_per_minute</th>\n",
              "      <th>plan_name</th>\n",
              "    </tr>\n",
              "  </thead>\n",
              "  <tbody>\n",
              "    <tr>\n",
              "      <th>0</th>\n",
              "      <td>1000</td>\n",
              "      <td>12</td>\n",
              "      <td>16.0</td>\n",
              "      <td>124.0</td>\n",
              "      <td>11.0</td>\n",
              "      <td>2.0</td>\n",
              "      <td>Anamaria</td>\n",
              "      <td>Bauer</td>\n",
              "      <td>45</td>\n",
              "      <td>Atlanta-Sandy Springs-Roswell, GA MSA</td>\n",
              "      <td>...</td>\n",
              "      <td>12</td>\n",
              "      <td>NaN</td>\n",
              "      <td>1000</td>\n",
              "      <td>30720</td>\n",
              "      <td>3000</td>\n",
              "      <td>70</td>\n",
              "      <td>7</td>\n",
              "      <td>0.01</td>\n",
              "      <td>0.01</td>\n",
              "      <td>ultimate</td>\n",
              "    </tr>\n",
              "    <tr>\n",
              "      <th>1</th>\n",
              "      <td>1001</td>\n",
              "      <td>8</td>\n",
              "      <td>27.0</td>\n",
              "      <td>182.0</td>\n",
              "      <td>30.0</td>\n",
              "      <td>7.0</td>\n",
              "      <td>Mickey</td>\n",
              "      <td>Wilkerson</td>\n",
              "      <td>28</td>\n",
              "      <td>Seattle-Tacoma-Bellevue, WA MSA</td>\n",
              "      <td>...</td>\n",
              "      <td>8</td>\n",
              "      <td>NaN</td>\n",
              "      <td>50</td>\n",
              "      <td>15360</td>\n",
              "      <td>500</td>\n",
              "      <td>20</td>\n",
              "      <td>10</td>\n",
              "      <td>0.03</td>\n",
              "      <td>0.03</td>\n",
              "      <td>surf</td>\n",
              "    </tr>\n",
              "    <tr>\n",
              "      <th>2</th>\n",
              "      <td>1001</td>\n",
              "      <td>9</td>\n",
              "      <td>49.0</td>\n",
              "      <td>315.0</td>\n",
              "      <td>44.0</td>\n",
              "      <td>14.0</td>\n",
              "      <td>Mickey</td>\n",
              "      <td>Wilkerson</td>\n",
              "      <td>28</td>\n",
              "      <td>Seattle-Tacoma-Bellevue, WA MSA</td>\n",
              "      <td>...</td>\n",
              "      <td>8</td>\n",
              "      <td>NaN</td>\n",
              "      <td>50</td>\n",
              "      <td>15360</td>\n",
              "      <td>500</td>\n",
              "      <td>20</td>\n",
              "      <td>10</td>\n",
              "      <td>0.03</td>\n",
              "      <td>0.03</td>\n",
              "      <td>surf</td>\n",
              "    </tr>\n",
              "    <tr>\n",
              "      <th>3</th>\n",
              "      <td>1001</td>\n",
              "      <td>10</td>\n",
              "      <td>65.0</td>\n",
              "      <td>393.0</td>\n",
              "      <td>53.0</td>\n",
              "      <td>22.0</td>\n",
              "      <td>Mickey</td>\n",
              "      <td>Wilkerson</td>\n",
              "      <td>28</td>\n",
              "      <td>Seattle-Tacoma-Bellevue, WA MSA</td>\n",
              "      <td>...</td>\n",
              "      <td>8</td>\n",
              "      <td>NaN</td>\n",
              "      <td>50</td>\n",
              "      <td>15360</td>\n",
              "      <td>500</td>\n",
              "      <td>20</td>\n",
              "      <td>10</td>\n",
              "      <td>0.03</td>\n",
              "      <td>0.03</td>\n",
              "      <td>surf</td>\n",
              "    </tr>\n",
              "    <tr>\n",
              "      <th>4</th>\n",
              "      <td>1001</td>\n",
              "      <td>11</td>\n",
              "      <td>64.0</td>\n",
              "      <td>426.0</td>\n",
              "      <td>36.0</td>\n",
              "      <td>19.0</td>\n",
              "      <td>Mickey</td>\n",
              "      <td>Wilkerson</td>\n",
              "      <td>28</td>\n",
              "      <td>Seattle-Tacoma-Bellevue, WA MSA</td>\n",
              "      <td>...</td>\n",
              "      <td>8</td>\n",
              "      <td>NaN</td>\n",
              "      <td>50</td>\n",
              "      <td>15360</td>\n",
              "      <td>500</td>\n",
              "      <td>20</td>\n",
              "      <td>10</td>\n",
              "      <td>0.03</td>\n",
              "      <td>0.03</td>\n",
              "      <td>surf</td>\n",
              "    </tr>\n",
              "    <tr>\n",
              "      <th>...</th>\n",
              "      <td>...</td>\n",
              "      <td>...</td>\n",
              "      <td>...</td>\n",
              "      <td>...</td>\n",
              "      <td>...</td>\n",
              "      <td>...</td>\n",
              "      <td>...</td>\n",
              "      <td>...</td>\n",
              "      <td>...</td>\n",
              "      <td>...</td>\n",
              "      <td>...</td>\n",
              "      <td>...</td>\n",
              "      <td>...</td>\n",
              "      <td>...</td>\n",
              "      <td>...</td>\n",
              "      <td>...</td>\n",
              "      <td>...</td>\n",
              "      <td>...</td>\n",
              "      <td>...</td>\n",
              "      <td>...</td>\n",
              "      <td>...</td>\n",
              "    </tr>\n",
              "    <tr>\n",
              "      <th>2288</th>\n",
              "      <td>1204</td>\n",
              "      <td>12</td>\n",
              "      <td>0.0</td>\n",
              "      <td>0.0</td>\n",
              "      <td>78.0</td>\n",
              "      <td>36.0</td>\n",
              "      <td>Sherly</td>\n",
              "      <td>Levy</td>\n",
              "      <td>44</td>\n",
              "      <td>Chicago-Naperville-Elgin, IL-IN-WI MSA</td>\n",
              "      <td>...</td>\n",
              "      <td>8</td>\n",
              "      <td>NaN</td>\n",
              "      <td>1000</td>\n",
              "      <td>30720</td>\n",
              "      <td>3000</td>\n",
              "      <td>70</td>\n",
              "      <td>7</td>\n",
              "      <td>0.01</td>\n",
              "      <td>0.01</td>\n",
              "      <td>ultimate</td>\n",
              "    </tr>\n",
              "    <tr>\n",
              "      <th>2289</th>\n",
              "      <td>1349</td>\n",
              "      <td>10</td>\n",
              "      <td>0.0</td>\n",
              "      <td>0.0</td>\n",
              "      <td>76.0</td>\n",
              "      <td>13.0</td>\n",
              "      <td>Florentina</td>\n",
              "      <td>Diaz</td>\n",
              "      <td>69</td>\n",
              "      <td>Boston-Cambridge-Newton, MA-NH MSA</td>\n",
              "      <td>...</td>\n",
              "      <td>10</td>\n",
              "      <td>NaN</td>\n",
              "      <td>50</td>\n",
              "      <td>15360</td>\n",
              "      <td>500</td>\n",
              "      <td>20</td>\n",
              "      <td>10</td>\n",
              "      <td>0.03</td>\n",
              "      <td>0.03</td>\n",
              "      <td>surf</td>\n",
              "    </tr>\n",
              "    <tr>\n",
              "      <th>2290</th>\n",
              "      <td>1349</td>\n",
              "      <td>11</td>\n",
              "      <td>0.0</td>\n",
              "      <td>0.0</td>\n",
              "      <td>72.0</td>\n",
              "      <td>17.0</td>\n",
              "      <td>Florentina</td>\n",
              "      <td>Diaz</td>\n",
              "      <td>69</td>\n",
              "      <td>Boston-Cambridge-Newton, MA-NH MSA</td>\n",
              "      <td>...</td>\n",
              "      <td>10</td>\n",
              "      <td>NaN</td>\n",
              "      <td>50</td>\n",
              "      <td>15360</td>\n",
              "      <td>500</td>\n",
              "      <td>20</td>\n",
              "      <td>10</td>\n",
              "      <td>0.03</td>\n",
              "      <td>0.03</td>\n",
              "      <td>surf</td>\n",
              "    </tr>\n",
              "    <tr>\n",
              "      <th>2291</th>\n",
              "      <td>1349</td>\n",
              "      <td>12</td>\n",
              "      <td>0.0</td>\n",
              "      <td>0.0</td>\n",
              "      <td>61.0</td>\n",
              "      <td>13.0</td>\n",
              "      <td>Florentina</td>\n",
              "      <td>Diaz</td>\n",
              "      <td>69</td>\n",
              "      <td>Boston-Cambridge-Newton, MA-NH MSA</td>\n",
              "      <td>...</td>\n",
              "      <td>10</td>\n",
              "      <td>NaN</td>\n",
              "      <td>50</td>\n",
              "      <td>15360</td>\n",
              "      <td>500</td>\n",
              "      <td>20</td>\n",
              "      <td>10</td>\n",
              "      <td>0.03</td>\n",
              "      <td>0.03</td>\n",
              "      <td>surf</td>\n",
              "    </tr>\n",
              "    <tr>\n",
              "      <th>2292</th>\n",
              "      <td>1108</td>\n",
              "      <td>12</td>\n",
              "      <td>0.0</td>\n",
              "      <td>0.0</td>\n",
              "      <td>0.0</td>\n",
              "      <td>1.0</td>\n",
              "      <td>Porfirio</td>\n",
              "      <td>Kane</td>\n",
              "      <td>45</td>\n",
              "      <td>Salt Lake City, UT MSA</td>\n",
              "      <td>...</td>\n",
              "      <td>12</td>\n",
              "      <td>NaN</td>\n",
              "      <td>1000</td>\n",
              "      <td>30720</td>\n",
              "      <td>3000</td>\n",
              "      <td>70</td>\n",
              "      <td>7</td>\n",
              "      <td>0.01</td>\n",
              "      <td>0.01</td>\n",
              "      <td>ultimate</td>\n",
              "    </tr>\n",
              "  </tbody>\n",
              "</table>\n",
              "<p>2293 rows × 23 columns</p>\n",
              "</div>"
            ],
            "text/plain": [
              "      user_id  month  calls  call_minutes  messages  gb_used  first_name  \\\n",
              "0        1000     12   16.0         124.0      11.0      2.0    Anamaria   \n",
              "1        1001      8   27.0         182.0      30.0      7.0      Mickey   \n",
              "2        1001      9   49.0         315.0      44.0     14.0      Mickey   \n",
              "3        1001     10   65.0         393.0      53.0     22.0      Mickey   \n",
              "4        1001     11   64.0         426.0      36.0     19.0      Mickey   \n",
              "...       ...    ...    ...           ...       ...      ...         ...   \n",
              "2288     1204     12    0.0           0.0      78.0     36.0      Sherly   \n",
              "2289     1349     10    0.0           0.0      76.0     13.0  Florentina   \n",
              "2290     1349     11    0.0           0.0      72.0     17.0  Florentina   \n",
              "2291     1349     12    0.0           0.0      61.0     13.0  Florentina   \n",
              "2292     1108     12    0.0           0.0       0.0      1.0    Porfirio   \n",
              "\n",
              "      last_name  age                                    city  ... reg_month  \\\n",
              "0         Bauer   45   Atlanta-Sandy Springs-Roswell, GA MSA  ...        12   \n",
              "1     Wilkerson   28         Seattle-Tacoma-Bellevue, WA MSA  ...         8   \n",
              "2     Wilkerson   28         Seattle-Tacoma-Bellevue, WA MSA  ...         8   \n",
              "3     Wilkerson   28         Seattle-Tacoma-Bellevue, WA MSA  ...         8   \n",
              "4     Wilkerson   28         Seattle-Tacoma-Bellevue, WA MSA  ...         8   \n",
              "...         ...  ...                                     ...  ...       ...   \n",
              "2288       Levy   44  Chicago-Naperville-Elgin, IL-IN-WI MSA  ...         8   \n",
              "2289       Diaz   69      Boston-Cambridge-Newton, MA-NH MSA  ...        10   \n",
              "2290       Diaz   69      Boston-Cambridge-Newton, MA-NH MSA  ...        10   \n",
              "2291       Diaz   69      Boston-Cambridge-Newton, MA-NH MSA  ...        10   \n",
              "2292       Kane   45                  Salt Lake City, UT MSA  ...        12   \n",
              "\n",
              "     churn_month messages_included  mb_per_month_included  minutes_included  \\\n",
              "0            NaN              1000                  30720              3000   \n",
              "1            NaN                50                  15360               500   \n",
              "2            NaN                50                  15360               500   \n",
              "3            NaN                50                  15360               500   \n",
              "4            NaN                50                  15360               500   \n",
              "...          ...               ...                    ...               ...   \n",
              "2288         NaN              1000                  30720              3000   \n",
              "2289         NaN                50                  15360               500   \n",
              "2290         NaN                50                  15360               500   \n",
              "2291         NaN                50                  15360               500   \n",
              "2292         NaN              1000                  30720              3000   \n",
              "\n",
              "      usd_monthly_pay  usd_per_gb  usd_per_message  usd_per_minute  plan_name  \n",
              "0                  70           7             0.01            0.01   ultimate  \n",
              "1                  20          10             0.03            0.03       surf  \n",
              "2                  20          10             0.03            0.03       surf  \n",
              "3                  20          10             0.03            0.03       surf  \n",
              "4                  20          10             0.03            0.03       surf  \n",
              "...               ...         ...              ...             ...        ...  \n",
              "2288               70           7             0.01            0.01   ultimate  \n",
              "2289               20          10             0.03            0.03       surf  \n",
              "2290               20          10             0.03            0.03       surf  \n",
              "2291               20          10             0.03            0.03       surf  \n",
              "2292               70           7             0.01            0.01   ultimate  \n",
              "\n",
              "[2293 rows x 23 columns]"
            ]
          },
          "metadata": {},
          "output_type": "display_data"
        }
      ],
      "source": [
        "# Añade la información de la tarifa\n",
        "\n",
        "user_plans = megaline_users.merge(megaline_plans, left_on= 'plan', right_on= 'plan_name')\n",
        "\n",
        "display(user_plans)\n",
        "\n",
        "print('\\n . \\n . \\n .')\n",
        "\n",
        "user_data = user_monthly.merge(user_plans, on='user_id')\n",
        "\n",
        "display(user_data)\n",
        "\n"
      ]
    },
    {
      "cell_type": "markdown",
      "metadata": {
        "id": "1IwGo4wg0q1I"
      },
      "source": []
    },
    {
      "cell_type": "code",
      "execution_count": null,
      "metadata": {
        "id": "5FGCf_c60q1I",
        "outputId": "92f49c1b-c1c4-4fcf-9e15-f2d3f3487305"
      },
      "outputs": [
        {
          "data": {
            "text/plain": [
              "0       2876.0\n",
              "1        318.0\n",
              "2        185.0\n",
              "3        107.0\n",
              "4         74.0\n",
              "         ...  \n",
              "2288    3000.0\n",
              "2289     500.0\n",
              "2290     500.0\n",
              "2291     500.0\n",
              "2292    3000.0\n",
              "Length: 2293, dtype: float64"
            ]
          },
          "metadata": {},
          "output_type": "display_data"
        },
        {
          "data": {
            "text/plain": [
              "0        989.0\n",
              "1         20.0\n",
              "2          6.0\n",
              "3         -3.0\n",
              "4         14.0\n",
              "         ...  \n",
              "2288     922.0\n",
              "2289     -26.0\n",
              "2290     -22.0\n",
              "2291     -11.0\n",
              "2292    1000.0\n",
              "Length: 2293, dtype: float64"
            ]
          },
          "metadata": {},
          "output_type": "display_data"
        },
        {
          "data": {
            "text/plain": [
              "0       28.0\n",
              "1        8.0\n",
              "2        1.0\n",
              "3       -7.0\n",
              "4       -4.0\n",
              "        ... \n",
              "2288    -6.0\n",
              "2289     2.0\n",
              "2290    -2.0\n",
              "2291     2.0\n",
              "2292    29.0\n",
              "Length: 2293, dtype: float64"
            ]
          },
          "metadata": {},
          "output_type": "display_data"
        },
        {
          "data": {
            "text/html": [
              "<div>\n",
              "<style scoped>\n",
              "    .dataframe tbody tr th:only-of-type {\n",
              "        vertical-align: middle;\n",
              "    }\n",
              "\n",
              "    .dataframe tbody tr th {\n",
              "        vertical-align: top;\n",
              "    }\n",
              "\n",
              "    .dataframe thead th {\n",
              "        text-align: right;\n",
              "    }\n",
              "</style>\n",
              "<table border=\"1\" class=\"dataframe\">\n",
              "  <thead>\n",
              "    <tr style=\"text-align: right;\">\n",
              "      <th></th>\n",
              "      <th>user_id</th>\n",
              "      <th>month</th>\n",
              "      <th>calls</th>\n",
              "      <th>call_minutes</th>\n",
              "      <th>messages</th>\n",
              "      <th>gb_used</th>\n",
              "      <th>first_name</th>\n",
              "      <th>last_name</th>\n",
              "      <th>age</th>\n",
              "      <th>city</th>\n",
              "      <th>...</th>\n",
              "      <th>minutes_included</th>\n",
              "      <th>usd_monthly_pay</th>\n",
              "      <th>usd_per_gb</th>\n",
              "      <th>usd_per_message</th>\n",
              "      <th>usd_per_minute</th>\n",
              "      <th>plan_name</th>\n",
              "      <th>calls_offlimit_price</th>\n",
              "      <th>msgs_offlimit_price</th>\n",
              "      <th>gb_offlimit_price</th>\n",
              "      <th>user_total_pay</th>\n",
              "    </tr>\n",
              "  </thead>\n",
              "  <tbody>\n",
              "    <tr>\n",
              "      <th>0</th>\n",
              "      <td>1000</td>\n",
              "      <td>12</td>\n",
              "      <td>16.0</td>\n",
              "      <td>124.0</td>\n",
              "      <td>11.0</td>\n",
              "      <td>2.0</td>\n",
              "      <td>Anamaria</td>\n",
              "      <td>Bauer</td>\n",
              "      <td>45</td>\n",
              "      <td>Atlanta-Sandy Springs-Roswell, GA MSA</td>\n",
              "      <td>...</td>\n",
              "      <td>3000</td>\n",
              "      <td>70</td>\n",
              "      <td>7</td>\n",
              "      <td>0.01</td>\n",
              "      <td>0.01</td>\n",
              "      <td>ultimate</td>\n",
              "      <td>0.0</td>\n",
              "      <td>0.00</td>\n",
              "      <td>0.0</td>\n",
              "      <td>70.00</td>\n",
              "    </tr>\n",
              "    <tr>\n",
              "      <th>1</th>\n",
              "      <td>1001</td>\n",
              "      <td>8</td>\n",
              "      <td>27.0</td>\n",
              "      <td>182.0</td>\n",
              "      <td>30.0</td>\n",
              "      <td>7.0</td>\n",
              "      <td>Mickey</td>\n",
              "      <td>Wilkerson</td>\n",
              "      <td>28</td>\n",
              "      <td>Seattle-Tacoma-Bellevue, WA MSA</td>\n",
              "      <td>...</td>\n",
              "      <td>500</td>\n",
              "      <td>20</td>\n",
              "      <td>10</td>\n",
              "      <td>0.03</td>\n",
              "      <td>0.03</td>\n",
              "      <td>surf</td>\n",
              "      <td>0.0</td>\n",
              "      <td>0.00</td>\n",
              "      <td>0.0</td>\n",
              "      <td>20.00</td>\n",
              "    </tr>\n",
              "    <tr>\n",
              "      <th>2</th>\n",
              "      <td>1001</td>\n",
              "      <td>9</td>\n",
              "      <td>49.0</td>\n",
              "      <td>315.0</td>\n",
              "      <td>44.0</td>\n",
              "      <td>14.0</td>\n",
              "      <td>Mickey</td>\n",
              "      <td>Wilkerson</td>\n",
              "      <td>28</td>\n",
              "      <td>Seattle-Tacoma-Bellevue, WA MSA</td>\n",
              "      <td>...</td>\n",
              "      <td>500</td>\n",
              "      <td>20</td>\n",
              "      <td>10</td>\n",
              "      <td>0.03</td>\n",
              "      <td>0.03</td>\n",
              "      <td>surf</td>\n",
              "      <td>0.0</td>\n",
              "      <td>0.00</td>\n",
              "      <td>0.0</td>\n",
              "      <td>20.00</td>\n",
              "    </tr>\n",
              "    <tr>\n",
              "      <th>3</th>\n",
              "      <td>1001</td>\n",
              "      <td>10</td>\n",
              "      <td>65.0</td>\n",
              "      <td>393.0</td>\n",
              "      <td>53.0</td>\n",
              "      <td>22.0</td>\n",
              "      <td>Mickey</td>\n",
              "      <td>Wilkerson</td>\n",
              "      <td>28</td>\n",
              "      <td>Seattle-Tacoma-Bellevue, WA MSA</td>\n",
              "      <td>...</td>\n",
              "      <td>500</td>\n",
              "      <td>20</td>\n",
              "      <td>10</td>\n",
              "      <td>0.03</td>\n",
              "      <td>0.03</td>\n",
              "      <td>surf</td>\n",
              "      <td>0.0</td>\n",
              "      <td>0.09</td>\n",
              "      <td>70.0</td>\n",
              "      <td>90.09</td>\n",
              "    </tr>\n",
              "    <tr>\n",
              "      <th>4</th>\n",
              "      <td>1001</td>\n",
              "      <td>11</td>\n",
              "      <td>64.0</td>\n",
              "      <td>426.0</td>\n",
              "      <td>36.0</td>\n",
              "      <td>19.0</td>\n",
              "      <td>Mickey</td>\n",
              "      <td>Wilkerson</td>\n",
              "      <td>28</td>\n",
              "      <td>Seattle-Tacoma-Bellevue, WA MSA</td>\n",
              "      <td>...</td>\n",
              "      <td>500</td>\n",
              "      <td>20</td>\n",
              "      <td>10</td>\n",
              "      <td>0.03</td>\n",
              "      <td>0.03</td>\n",
              "      <td>surf</td>\n",
              "      <td>0.0</td>\n",
              "      <td>0.00</td>\n",
              "      <td>40.0</td>\n",
              "      <td>60.00</td>\n",
              "    </tr>\n",
              "    <tr>\n",
              "      <th>...</th>\n",
              "      <td>...</td>\n",
              "      <td>...</td>\n",
              "      <td>...</td>\n",
              "      <td>...</td>\n",
              "      <td>...</td>\n",
              "      <td>...</td>\n",
              "      <td>...</td>\n",
              "      <td>...</td>\n",
              "      <td>...</td>\n",
              "      <td>...</td>\n",
              "      <td>...</td>\n",
              "      <td>...</td>\n",
              "      <td>...</td>\n",
              "      <td>...</td>\n",
              "      <td>...</td>\n",
              "      <td>...</td>\n",
              "      <td>...</td>\n",
              "      <td>...</td>\n",
              "      <td>...</td>\n",
              "      <td>...</td>\n",
              "      <td>...</td>\n",
              "    </tr>\n",
              "    <tr>\n",
              "      <th>2288</th>\n",
              "      <td>1204</td>\n",
              "      <td>12</td>\n",
              "      <td>0.0</td>\n",
              "      <td>0.0</td>\n",
              "      <td>78.0</td>\n",
              "      <td>36.0</td>\n",
              "      <td>Sherly</td>\n",
              "      <td>Levy</td>\n",
              "      <td>44</td>\n",
              "      <td>Chicago-Naperville-Elgin, IL-IN-WI MSA</td>\n",
              "      <td>...</td>\n",
              "      <td>3000</td>\n",
              "      <td>70</td>\n",
              "      <td>7</td>\n",
              "      <td>0.01</td>\n",
              "      <td>0.01</td>\n",
              "      <td>ultimate</td>\n",
              "      <td>0.0</td>\n",
              "      <td>0.00</td>\n",
              "      <td>42.0</td>\n",
              "      <td>112.00</td>\n",
              "    </tr>\n",
              "    <tr>\n",
              "      <th>2289</th>\n",
              "      <td>1349</td>\n",
              "      <td>10</td>\n",
              "      <td>0.0</td>\n",
              "      <td>0.0</td>\n",
              "      <td>76.0</td>\n",
              "      <td>13.0</td>\n",
              "      <td>Florentina</td>\n",
              "      <td>Diaz</td>\n",
              "      <td>69</td>\n",
              "      <td>Boston-Cambridge-Newton, MA-NH MSA</td>\n",
              "      <td>...</td>\n",
              "      <td>500</td>\n",
              "      <td>20</td>\n",
              "      <td>10</td>\n",
              "      <td>0.03</td>\n",
              "      <td>0.03</td>\n",
              "      <td>surf</td>\n",
              "      <td>0.0</td>\n",
              "      <td>0.78</td>\n",
              "      <td>0.0</td>\n",
              "      <td>20.78</td>\n",
              "    </tr>\n",
              "    <tr>\n",
              "      <th>2290</th>\n",
              "      <td>1349</td>\n",
              "      <td>11</td>\n",
              "      <td>0.0</td>\n",
              "      <td>0.0</td>\n",
              "      <td>72.0</td>\n",
              "      <td>17.0</td>\n",
              "      <td>Florentina</td>\n",
              "      <td>Diaz</td>\n",
              "      <td>69</td>\n",
              "      <td>Boston-Cambridge-Newton, MA-NH MSA</td>\n",
              "      <td>...</td>\n",
              "      <td>500</td>\n",
              "      <td>20</td>\n",
              "      <td>10</td>\n",
              "      <td>0.03</td>\n",
              "      <td>0.03</td>\n",
              "      <td>surf</td>\n",
              "      <td>0.0</td>\n",
              "      <td>0.66</td>\n",
              "      <td>20.0</td>\n",
              "      <td>40.66</td>\n",
              "    </tr>\n",
              "    <tr>\n",
              "      <th>2291</th>\n",
              "      <td>1349</td>\n",
              "      <td>12</td>\n",
              "      <td>0.0</td>\n",
              "      <td>0.0</td>\n",
              "      <td>61.0</td>\n",
              "      <td>13.0</td>\n",
              "      <td>Florentina</td>\n",
              "      <td>Diaz</td>\n",
              "      <td>69</td>\n",
              "      <td>Boston-Cambridge-Newton, MA-NH MSA</td>\n",
              "      <td>...</td>\n",
              "      <td>500</td>\n",
              "      <td>20</td>\n",
              "      <td>10</td>\n",
              "      <td>0.03</td>\n",
              "      <td>0.03</td>\n",
              "      <td>surf</td>\n",
              "      <td>0.0</td>\n",
              "      <td>0.33</td>\n",
              "      <td>0.0</td>\n",
              "      <td>20.33</td>\n",
              "    </tr>\n",
              "    <tr>\n",
              "      <th>2292</th>\n",
              "      <td>1108</td>\n",
              "      <td>12</td>\n",
              "      <td>0.0</td>\n",
              "      <td>0.0</td>\n",
              "      <td>0.0</td>\n",
              "      <td>1.0</td>\n",
              "      <td>Porfirio</td>\n",
              "      <td>Kane</td>\n",
              "      <td>45</td>\n",
              "      <td>Salt Lake City, UT MSA</td>\n",
              "      <td>...</td>\n",
              "      <td>3000</td>\n",
              "      <td>70</td>\n",
              "      <td>7</td>\n",
              "      <td>0.01</td>\n",
              "      <td>0.01</td>\n",
              "      <td>ultimate</td>\n",
              "      <td>0.0</td>\n",
              "      <td>0.00</td>\n",
              "      <td>0.0</td>\n",
              "      <td>70.00</td>\n",
              "    </tr>\n",
              "  </tbody>\n",
              "</table>\n",
              "<p>2293 rows × 27 columns</p>\n",
              "</div>"
            ],
            "text/plain": [
              "      user_id  month  calls  call_minutes  messages  gb_used  first_name  \\\n",
              "0        1000     12   16.0         124.0      11.0      2.0    Anamaria   \n",
              "1        1001      8   27.0         182.0      30.0      7.0      Mickey   \n",
              "2        1001      9   49.0         315.0      44.0     14.0      Mickey   \n",
              "3        1001     10   65.0         393.0      53.0     22.0      Mickey   \n",
              "4        1001     11   64.0         426.0      36.0     19.0      Mickey   \n",
              "...       ...    ...    ...           ...       ...      ...         ...   \n",
              "2288     1204     12    0.0           0.0      78.0     36.0      Sherly   \n",
              "2289     1349     10    0.0           0.0      76.0     13.0  Florentina   \n",
              "2290     1349     11    0.0           0.0      72.0     17.0  Florentina   \n",
              "2291     1349     12    0.0           0.0      61.0     13.0  Florentina   \n",
              "2292     1108     12    0.0           0.0       0.0      1.0    Porfirio   \n",
              "\n",
              "      last_name  age                                    city  ...  \\\n",
              "0         Bauer   45   Atlanta-Sandy Springs-Roswell, GA MSA  ...   \n",
              "1     Wilkerson   28         Seattle-Tacoma-Bellevue, WA MSA  ...   \n",
              "2     Wilkerson   28         Seattle-Tacoma-Bellevue, WA MSA  ...   \n",
              "3     Wilkerson   28         Seattle-Tacoma-Bellevue, WA MSA  ...   \n",
              "4     Wilkerson   28         Seattle-Tacoma-Bellevue, WA MSA  ...   \n",
              "...         ...  ...                                     ...  ...   \n",
              "2288       Levy   44  Chicago-Naperville-Elgin, IL-IN-WI MSA  ...   \n",
              "2289       Diaz   69      Boston-Cambridge-Newton, MA-NH MSA  ...   \n",
              "2290       Diaz   69      Boston-Cambridge-Newton, MA-NH MSA  ...   \n",
              "2291       Diaz   69      Boston-Cambridge-Newton, MA-NH MSA  ...   \n",
              "2292       Kane   45                  Salt Lake City, UT MSA  ...   \n",
              "\n",
              "     minutes_included usd_monthly_pay usd_per_gb  usd_per_message  \\\n",
              "0                3000              70          7             0.01   \n",
              "1                 500              20         10             0.03   \n",
              "2                 500              20         10             0.03   \n",
              "3                 500              20         10             0.03   \n",
              "4                 500              20         10             0.03   \n",
              "...               ...             ...        ...              ...   \n",
              "2288             3000              70          7             0.01   \n",
              "2289              500              20         10             0.03   \n",
              "2290              500              20         10             0.03   \n",
              "2291              500              20         10             0.03   \n",
              "2292             3000              70          7             0.01   \n",
              "\n",
              "      usd_per_minute  plan_name  calls_offlimit_price  msgs_offlimit_price  \\\n",
              "0               0.01   ultimate                   0.0                 0.00   \n",
              "1               0.03       surf                   0.0                 0.00   \n",
              "2               0.03       surf                   0.0                 0.00   \n",
              "3               0.03       surf                   0.0                 0.09   \n",
              "4               0.03       surf                   0.0                 0.00   \n",
              "...              ...        ...                   ...                  ...   \n",
              "2288            0.01   ultimate                   0.0                 0.00   \n",
              "2289            0.03       surf                   0.0                 0.78   \n",
              "2290            0.03       surf                   0.0                 0.66   \n",
              "2291            0.03       surf                   0.0                 0.33   \n",
              "2292            0.01   ultimate                   0.0                 0.00   \n",
              "\n",
              "      gb_offlimit_price  user_total_pay  \n",
              "0                   0.0           70.00  \n",
              "1                   0.0           20.00  \n",
              "2                   0.0           20.00  \n",
              "3                  70.0           90.09  \n",
              "4                  40.0           60.00  \n",
              "...                 ...             ...  \n",
              "2288               42.0          112.00  \n",
              "2289                0.0           20.78  \n",
              "2290               20.0           40.66  \n",
              "2291                0.0           20.33  \n",
              "2292                0.0           70.00  \n",
              "\n",
              "[2293 rows x 27 columns]"
            ]
          },
          "metadata": {},
          "output_type": "display_data"
        }
      ],
      "source": [
        "# Calcula el ingreso mensual para cada usuario\n",
        "\n",
        "# Calculo de precio por minutos excedentes del limite del plan\n",
        "\n",
        "user_minutes = (user_data['minutes_included'] - user_data['call_minutes'])\n",
        "\n",
        "display(user_minutes)\n",
        "\n",
        "user_calls_tariff = user_minutes * user_data['usd_per_minute']\n",
        "user_calls_tariff\n",
        "\n",
        "# Con base en la operación anterior si el resultado es negativo, significa que son excendentes\n",
        "\n",
        "tariff_call = []\n",
        "\n",
        "for tariff in user_calls_tariff :\n",
        "    if tariff >= 0 :\n",
        "        tariff = tariff * 0\n",
        "        tariff_call.append(tariff)\n",
        "    else:\n",
        "        tariff = tariff * -1\n",
        "        tariff_call.append(tariff)\n",
        "\n",
        "user_data['calls_offlimit_price'] = pd.DataFrame(tariff_call)\n",
        "\n",
        "\n",
        "\n",
        "\n",
        "# Calculo de precio por mensajes excedentes del limite del plan\n",
        "\n",
        "user_msgs_ = (user_data['messages_included'] - user_data['messages'])\n",
        "\n",
        "display(user_msgs_)\n",
        "\n",
        "user_msg_tariff = user_msgs_ * user_data['usd_per_message']\n",
        "\n",
        "\n",
        "# Con base en la operación anterior si el resultado es negativo, significa que son excendentes\n",
        "\n",
        "tariff_msg = []\n",
        "\n",
        "for tariff in user_msg_tariff :\n",
        "    if tariff >= 0 :\n",
        "        tariff = tariff * 0\n",
        "        tariff_msg.append(tariff)\n",
        "    else:\n",
        "        tariff = tariff * -1\n",
        "        tariff_msg.append(tariff)\n",
        "\n",
        "user_data['msgs_offlimit_price'] = pd.DataFrame(tariff_msg)\n",
        "\n",
        "\n",
        "\n",
        "\n",
        "# Calculo de precio por mb excedentes del limite del plan\n",
        "\n",
        "user_gbs = ( (user_data['mb_per_month_included'] / 1024) - user_data['gb_used'] )\n",
        "\n",
        "display(user_gbs)\n",
        "\n",
        "user_gb_tariff = user_gbs * user_data['usd_per_gb']\n",
        "\n",
        "\n",
        "# Con base en la operación anterior si el resultado es negativo, significa que son excendentes\n",
        "\n",
        "tariff_gb = []\n",
        "\n",
        "for tariff in user_gb_tariff :\n",
        "    if tariff >= 0 :\n",
        "        tariff = tariff * 0\n",
        "        tariff_gb.append(tariff)\n",
        "    else:\n",
        "        tariff = tariff * -1\n",
        "        tariff_gb.append(tariff)\n",
        "\n",
        "user_data['gb_offlimit_price'] = pd.DataFrame(tariff_gb)\n",
        "\n",
        "\n",
        "# Calculo de precio final a pagar por usuario\n",
        "\n",
        "user_final = user_data['usd_monthly_pay'] + user_data['calls_offlimit_price'] + user_data['msgs_offlimit_price'] + user_data['gb_offlimit_price']\n",
        "\n",
        "user_data['user_total_pay'] = pd.DataFrame(user_final)\n",
        "\n",
        "display(user_data)\n"
      ]
    },
    {
      "cell_type": "markdown",
      "metadata": {
        "id": "-jtyHzJb0q1I"
      },
      "source": [
        "## Estudia el comportamiento de usuario"
      ]
    },
    {
      "cell_type": "markdown",
      "metadata": {
        "id": "vtW4CJEe0q1J"
      },
      "source": [
        "### Llamadas"
      ]
    },
    {
      "cell_type": "code",
      "execution_count": null,
      "metadata": {
        "id": "Jf5v5--k0q1J",
        "outputId": "1e31ab38-318c-4852-abd9-361276852384"
      },
      "outputs": [
        {
          "data": {
            "text/html": [
              "<div>\n",
              "<style scoped>\n",
              "    .dataframe tbody tr th:only-of-type {\n",
              "        vertical-align: middle;\n",
              "    }\n",
              "\n",
              "    .dataframe tbody tr th {\n",
              "        vertical-align: top;\n",
              "    }\n",
              "\n",
              "    .dataframe thead th {\n",
              "        text-align: right;\n",
              "    }\n",
              "</style>\n",
              "<table border=\"1\" class=\"dataframe\">\n",
              "  <thead>\n",
              "    <tr style=\"text-align: right;\">\n",
              "      <th>plan_name</th>\n",
              "      <th>month</th>\n",
              "      <th>surf</th>\n",
              "      <th>ultimate</th>\n",
              "    </tr>\n",
              "  </thead>\n",
              "  <tbody>\n",
              "    <tr>\n",
              "      <th>0</th>\n",
              "      <td>1</td>\n",
              "      <td>203.000000</td>\n",
              "      <td>193.500000</td>\n",
              "    </tr>\n",
              "    <tr>\n",
              "      <th>1</th>\n",
              "      <td>2</td>\n",
              "      <td>297.000000</td>\n",
              "      <td>403.142857</td>\n",
              "    </tr>\n",
              "    <tr>\n",
              "      <th>2</th>\n",
              "      <td>3</td>\n",
              "      <td>330.000000</td>\n",
              "      <td>304.250000</td>\n",
              "    </tr>\n",
              "    <tr>\n",
              "      <th>3</th>\n",
              "      <td>4</td>\n",
              "      <td>351.540000</td>\n",
              "      <td>336.857143</td>\n",
              "    </tr>\n",
              "    <tr>\n",
              "      <th>4</th>\n",
              "      <td>5</td>\n",
              "      <td>399.584416</td>\n",
              "      <td>406.241379</td>\n",
              "    </tr>\n",
              "    <tr>\n",
              "      <th>5</th>\n",
              "      <td>6</td>\n",
              "      <td>431.298969</td>\n",
              "      <td>370.957447</td>\n",
              "    </tr>\n",
              "    <tr>\n",
              "      <th>6</th>\n",
              "      <td>7</td>\n",
              "      <td>449.983471</td>\n",
              "      <td>427.067797</td>\n",
              "    </tr>\n",
              "    <tr>\n",
              "      <th>7</th>\n",
              "      <td>8</td>\n",
              "      <td>410.111111</td>\n",
              "      <td>421.436620</td>\n",
              "    </tr>\n",
              "    <tr>\n",
              "      <th>8</th>\n",
              "      <td>9</td>\n",
              "      <td>414.226804</td>\n",
              "      <td>437.511628</td>\n",
              "    </tr>\n",
              "    <tr>\n",
              "      <th>9</th>\n",
              "      <td>10</td>\n",
              "      <td>429.729958</td>\n",
              "      <td>450.735849</td>\n",
              "    </tr>\n",
              "    <tr>\n",
              "      <th>10</th>\n",
              "      <td>11</td>\n",
              "      <td>423.325088</td>\n",
              "      <td>445.196850</td>\n",
              "    </tr>\n",
              "    <tr>\n",
              "      <th>11</th>\n",
              "      <td>12</td>\n",
              "      <td>473.836478</td>\n",
              "      <td>459.099338</td>\n",
              "    </tr>\n",
              "  </tbody>\n",
              "</table>\n",
              "</div>"
            ],
            "text/plain": [
              "plan_name  month        surf    ultimate\n",
              "0              1  203.000000  193.500000\n",
              "1              2  297.000000  403.142857\n",
              "2              3  330.000000  304.250000\n",
              "3              4  351.540000  336.857143\n",
              "4              5  399.584416  406.241379\n",
              "5              6  431.298969  370.957447\n",
              "6              7  449.983471  427.067797\n",
              "7              8  410.111111  421.436620\n",
              "8              9  414.226804  437.511628\n",
              "9             10  429.729958  450.735849\n",
              "10            11  423.325088  445.196850\n",
              "11            12  473.836478  459.099338"
            ]
          },
          "metadata": {},
          "output_type": "display_data"
        },
        {
          "data": {
            "image/png": "[encoded data removed]",
            "text/plain": [
              "<Figure size 432x288 with 1 Axes>"
            ]
          },
          "metadata": {
            "needs_background": "light"
          },
          "output_type": "display_data"
        }
      ],
      "source": [
        "# Compara la duración promedio de llamadas por cada plan y por cada mes. Traza un gráfico de barras para visualizarla.\n",
        "\n",
        "# Agrupar por plan y mes\n",
        "call_duration_mean = user_data.groupby(['plan_name','month']).call_minutes.agg(['mean']).reset_index()\n",
        "\n",
        "# Cambiar valores de planes a columnas que tengan de valores los promedios por mes\n",
        "\n",
        "call_duration_mean = (call_duration_mean.pivot_table(values= 'mean', index='month', columns='plan_name', aggfunc='first'))\n",
        "\n",
        "call_duration_mean = call_duration_mean.reset_index()\n",
        "\n",
        "display(call_duration_mean)\n",
        "\n",
        "#Gráfico de barras\n",
        "\n",
        "call_duration_mean.plot(x='month',\n",
        "        kind='bar',\n",
        "        title='Promedio de llamadas por mes de los usuarios',\n",
        "        xlabel='Mes',\n",
        "        ylabel='Promedio')\n",
        "\n",
        "plt.legend(['Surf', 'Ultimate'])\n",
        "plt.show()"
      ]
    },
    {
      "cell_type": "code",
      "execution_count": null,
      "metadata": {
        "id": "QoLqW1S_0q1J",
        "scrolled": false,
        "outputId": "0c205b7d-1272-4651-fd51-1f472bb8b45b"
      },
      "outputs": [
        {
          "data": {
            "text/html": [
              "<div>\n",
              "<style scoped>\n",
              "    .dataframe tbody tr th:only-of-type {\n",
              "        vertical-align: middle;\n",
              "    }\n",
              "\n",
              "    .dataframe tbody tr th {\n",
              "        vertical-align: top;\n",
              "    }\n",
              "\n",
              "    .dataframe thead th {\n",
              "        text-align: right;\n",
              "    }\n",
              "</style>\n",
              "<table border=\"1\" class=\"dataframe\">\n",
              "  <thead>\n",
              "    <tr style=\"text-align: right;\">\n",
              "      <th>plan_name</th>\n",
              "      <th>month</th>\n",
              "      <th>surf</th>\n",
              "      <th>ultimate</th>\n",
              "    </tr>\n",
              "  </thead>\n",
              "  <tbody>\n",
              "    <tr>\n",
              "      <th>0</th>\n",
              "      <td>1</td>\n",
              "      <td>406.0</td>\n",
              "      <td>774.0</td>\n",
              "    </tr>\n",
              "    <tr>\n",
              "      <th>1</th>\n",
              "      <td>2</td>\n",
              "      <td>2673.0</td>\n",
              "      <td>2822.0</td>\n",
              "    </tr>\n",
              "    <tr>\n",
              "      <th>2</th>\n",
              "      <td>3</td>\n",
              "      <td>7590.0</td>\n",
              "      <td>3651.0</td>\n",
              "    </tr>\n",
              "    <tr>\n",
              "      <th>3</th>\n",
              "      <td>4</td>\n",
              "      <td>17577.0</td>\n",
              "      <td>7074.0</td>\n",
              "    </tr>\n",
              "    <tr>\n",
              "      <th>4</th>\n",
              "      <td>5</td>\n",
              "      <td>30768.0</td>\n",
              "      <td>11781.0</td>\n",
              "    </tr>\n",
              "    <tr>\n",
              "      <th>5</th>\n",
              "      <td>6</td>\n",
              "      <td>41836.0</td>\n",
              "      <td>17435.0</td>\n",
              "    </tr>\n",
              "    <tr>\n",
              "      <th>6</th>\n",
              "      <td>7</td>\n",
              "      <td>54448.0</td>\n",
              "      <td>25197.0</td>\n",
              "    </tr>\n",
              "    <tr>\n",
              "      <th>7</th>\n",
              "      <td>8</td>\n",
              "      <td>66438.0</td>\n",
              "      <td>29922.0</td>\n",
              "    </tr>\n",
              "    <tr>\n",
              "      <th>8</th>\n",
              "      <td>9</td>\n",
              "      <td>80360.0</td>\n",
              "      <td>37626.0</td>\n",
              "    </tr>\n",
              "    <tr>\n",
              "      <th>9</th>\n",
              "      <td>10</td>\n",
              "      <td>101846.0</td>\n",
              "      <td>47778.0</td>\n",
              "    </tr>\n",
              "    <tr>\n",
              "      <th>10</th>\n",
              "      <td>11</td>\n",
              "      <td>119801.0</td>\n",
              "      <td>56540.0</td>\n",
              "    </tr>\n",
              "    <tr>\n",
              "      <th>11</th>\n",
              "      <td>12</td>\n",
              "      <td>150680.0</td>\n",
              "      <td>69324.0</td>\n",
              "    </tr>\n",
              "  </tbody>\n",
              "</table>\n",
              "</div>"
            ],
            "text/plain": [
              "plan_name  month      surf  ultimate\n",
              "0              1     406.0     774.0\n",
              "1              2    2673.0    2822.0\n",
              "2              3    7590.0    3651.0\n",
              "3              4   17577.0    7074.0\n",
              "4              5   30768.0   11781.0\n",
              "5              6   41836.0   17435.0\n",
              "6              7   54448.0   25197.0\n",
              "7              8   66438.0   29922.0\n",
              "8              9   80360.0   37626.0\n",
              "9             10  101846.0   47778.0\n",
              "10            11  119801.0   56540.0\n",
              "11            12  150680.0   69324.0"
            ]
          },
          "metadata": {},
          "output_type": "display_data"
        },
        {
          "data": {
            "image/png": "[encoded data removed]",
            "text/plain": [
              "<Figure size 432x288 with 1 Axes>"
            ]
          },
          "metadata": {
            "needs_background": "light"
          },
          "output_type": "display_data"
        }
      ],
      "source": [
        "# Compara el número de minutos mensuales que necesitan los usuarios de cada plan. Traza un histograma.\n",
        "\n",
        "# Agrupar por plan y mes\n",
        "call_duration_sum = user_data.groupby(['plan_name','month']).call_minutes.agg(['sum']).reset_index()\n",
        "\n",
        "# Cambiar valores de planes a columnas que tengan de valores de la suma de minutos por mes\n",
        "\n",
        "call_duration_sum = (call_duration_sum.pivot_table(values= 'sum', index='month', columns='plan_name', aggfunc='first')).reset_index()\n",
        "\n",
        "display(call_duration_sum)\n",
        "\n",
        "# Histograma\n",
        "\n",
        "call_duration_sum['surf'].plot(\n",
        "        kind='hist',\n",
        "        title='Histograma de frecuencia de minutos utilizados al mes por los usuarios')\n",
        "\n",
        "call_duration_sum['ultimate'].plot(\n",
        "        kind='hist', alpha= 0.8)\n",
        "\n",
        "plt.legend(['Surf', 'Ultimate'])\n",
        "plt.show()"
      ]
    },
    {
      "cell_type": "markdown",
      "metadata": {
        "id": "bLS9T8OH0q1K"
      },
      "source": []
    },
    {
      "cell_type": "code",
      "execution_count": null,
      "metadata": {
        "id": "oSndbAnt0q1K",
        "outputId": "9be5c99c-4612-4069-8f41-1d5370801074"
      },
      "outputs": [
        {
          "data": {
            "text/plain": [
              "plan_name\n",
              "surf        56201.916667\n",
              "ultimate    25827.000000\n",
              "dtype: float64"
            ]
          },
          "metadata": {},
          "output_type": "display_data"
        },
        {
          "data": {
            "text/plain": [
              "plan_name\n",
              "surf        2.202716e+09\n",
              "ultimate    4.784629e+08\n",
              "dtype: float64"
            ]
          },
          "metadata": {},
          "output_type": "display_data"
        }
      ],
      "source": [
        "# Calcula la media y la varianza de la duración mensual de llamadas.\n",
        "\n",
        "call_duration_mean_monthly = np.mean(call_duration_sum.loc[:, 'surf':'ultimate'] )\n",
        "\n",
        "display(call_duration_mean_monthly)\n",
        "\n",
        "call_duration_variance = np.var(call_duration_sum.loc[:, 'surf':'ultimate'])\n",
        "\n",
        "display(call_duration_variance)\n"
      ]
    },
    {
      "cell_type": "code",
      "execution_count": null,
      "metadata": {
        "id": "nZzoRUKc0q1K",
        "scrolled": true,
        "outputId": "7351fa8b-fc54-449a-aaf4-361a321e55c4"
      },
      "outputs": [
        {
          "data": {
            "image/png": "[encoded data removed]",
            "text/plain": [
              "<Figure size 432x288 with 1 Axes>"
            ]
          },
          "metadata": {
            "needs_background": "light"
          },
          "output_type": "display_data"
        }
      ],
      "source": [
        "# Traza un diagrama de caja para visualizar la distribución de la duración mensual de llamadas\n",
        "\n",
        "\n",
        "plt.boxplot(call_duration_sum.loc[:, 'surf':'ultimate'])\n",
        "\n",
        "plt.title(\"Distribución de duración mensual de llamadas por plan\")\n",
        "\n",
        "plt.xticks([1,2],['Surf','Ultimate'])\n",
        "\n",
        "plt.show()"
      ]
    },
    {
      "cell_type": "markdown",
      "metadata": {
        "id": "r627zBO50q1K"
      },
      "source": [
        "\n",
        "- El plan surf es más popular que el plan ultimate, por lo tanto, se espera mayor actividad de los usuarios y los gráficos claramente lo reflejan con mas de 150,000 minutos vs 69000 del plan ultimate en sus valores maximos en el mes de diciembre. El comportamiento de llamadas de los usuarios sí varía por el plan."
      ]
    },
    {
      "cell_type": "markdown",
      "metadata": {
        "id": "8idKy8Wh0q1L"
      },
      "source": [
        "### Mensajes"
      ]
    },
    {
      "cell_type": "code",
      "execution_count": null,
      "metadata": {
        "id": "NXLxiTit0q1L",
        "outputId": "3cc49fc2-eb31-4644-e1f9-b53d9007a9c8"
      },
      "outputs": [
        {
          "data": {
            "text/html": [
              "<div>\n",
              "<style scoped>\n",
              "    .dataframe tbody tr th:only-of-type {\n",
              "        vertical-align: middle;\n",
              "    }\n",
              "\n",
              "    .dataframe tbody tr th {\n",
              "        vertical-align: top;\n",
              "    }\n",
              "\n",
              "    .dataframe thead th {\n",
              "        text-align: right;\n",
              "    }\n",
              "</style>\n",
              "<table border=\"1\" class=\"dataframe\">\n",
              "  <thead>\n",
              "    <tr style=\"text-align: right;\">\n",
              "      <th>plan_name</th>\n",
              "      <th>month</th>\n",
              "      <th>surf</th>\n",
              "      <th>ultimate</th>\n",
              "    </tr>\n",
              "  </thead>\n",
              "  <tbody>\n",
              "    <tr>\n",
              "      <th>0</th>\n",
              "      <td>1</td>\n",
              "      <td>21.0</td>\n",
              "      <td>62.0</td>\n",
              "    </tr>\n",
              "    <tr>\n",
              "      <th>1</th>\n",
              "      <td>2</td>\n",
              "      <td>108.0</td>\n",
              "      <td>151.0</td>\n",
              "    </tr>\n",
              "    <tr>\n",
              "      <th>2</th>\n",
              "      <td>3</td>\n",
              "      <td>351.0</td>\n",
              "      <td>243.0</td>\n",
              "    </tr>\n",
              "    <tr>\n",
              "      <th>3</th>\n",
              "      <td>4</td>\n",
              "      <td>870.0</td>\n",
              "      <td>463.0</td>\n",
              "    </tr>\n",
              "    <tr>\n",
              "      <th>4</th>\n",
              "      <td>5</td>\n",
              "      <td>1849.0</td>\n",
              "      <td>931.0</td>\n",
              "    </tr>\n",
              "    <tr>\n",
              "      <th>5</th>\n",
              "      <td>6</td>\n",
              "      <td>2454.0</td>\n",
              "      <td>1379.0</td>\n",
              "    </tr>\n",
              "    <tr>\n",
              "      <th>6</th>\n",
              "      <td>7</td>\n",
              "      <td>3271.0</td>\n",
              "      <td>1937.0</td>\n",
              "    </tr>\n",
              "    <tr>\n",
              "      <th>7</th>\n",
              "      <td>8</td>\n",
              "      <td>4662.0</td>\n",
              "      <td>2732.0</td>\n",
              "    </tr>\n",
              "    <tr>\n",
              "      <th>8</th>\n",
              "      <td>9</td>\n",
              "      <td>5968.0</td>\n",
              "      <td>3259.0</td>\n",
              "    </tr>\n",
              "    <tr>\n",
              "      <th>9</th>\n",
              "      <td>10</td>\n",
              "      <td>8020.0</td>\n",
              "      <td>4181.0</td>\n",
              "    </tr>\n",
              "    <tr>\n",
              "      <th>10</th>\n",
              "      <td>11</td>\n",
              "      <td>9165.0</td>\n",
              "      <td>4903.0</td>\n",
              "    </tr>\n",
              "    <tr>\n",
              "      <th>11</th>\n",
              "      <td>12</td>\n",
              "      <td>12275.0</td>\n",
              "      <td>6796.0</td>\n",
              "    </tr>\n",
              "  </tbody>\n",
              "</table>\n",
              "</div>"
            ],
            "text/plain": [
              "plan_name  month     surf  ultimate\n",
              "0              1     21.0      62.0\n",
              "1              2    108.0     151.0\n",
              "2              3    351.0     243.0\n",
              "3              4    870.0     463.0\n",
              "4              5   1849.0     931.0\n",
              "5              6   2454.0    1379.0\n",
              "6              7   3271.0    1937.0\n",
              "7              8   4662.0    2732.0\n",
              "8              9   5968.0    3259.0\n",
              "9             10   8020.0    4181.0\n",
              "10            11   9165.0    4903.0\n",
              "11            12  12275.0    6796.0"
            ]
          },
          "metadata": {},
          "output_type": "display_data"
        },
        {
          "data": {
            "image/png": "[encoded data removed]",
            "text/plain": [
              "<Figure size 432x288 with 1 Axes>"
            ]
          },
          "metadata": {
            "needs_background": "light"
          },
          "output_type": "display_data"
        },
        {
          "data": {
            "image/png": "[encoded data removed]",
            "text/plain": [
              "<Figure size 432x288 with 1 Axes>"
            ]
          },
          "metadata": {
            "needs_background": "light"
          },
          "output_type": "display_data"
        },
        {
          "data": {
            "text/plain": [
              "'Promedio:'"
            ]
          },
          "metadata": {},
          "output_type": "display_data"
        },
        {
          "data": {
            "text/plain": [
              "plan_name\n",
              "surf        4084.500000\n",
              "ultimate    2253.083333\n",
              "dtype: float64"
            ]
          },
          "metadata": {},
          "output_type": "display_data"
        },
        {
          "data": {
            "text/plain": [
              "'Varianza:'"
            ]
          },
          "metadata": {},
          "output_type": "display_data"
        },
        {
          "data": {
            "text/plain": [
              "plan_name\n",
              "surf        1.476495e+07\n",
              "ultimate    4.307876e+06\n",
              "dtype: float64"
            ]
          },
          "metadata": {},
          "output_type": "display_data"
        },
        {
          "data": {
            "image/png": "[encoded data removed]",
            "text/plain": [
              "<Figure size 432x288 with 1 Axes>"
            ]
          },
          "metadata": {
            "needs_background": "light"
          },
          "output_type": "display_data"
        }
      ],
      "source": [
        "#Compara el número de mensajes que tienden a enviar cada mes los usuarios de cada plan\n",
        "\n",
        "messages_monthly_sum = user_data.groupby(['plan_name','month']).messages.agg(['sum']).reset_index()\n",
        "\n",
        "#Cambiar valores de planes a columnas que tengan de valores de la suma de mensajes por mes\n",
        "\n",
        "messages_monthly_sum = (messages_monthly_sum.pivot_table(values= 'sum', index='month', columns='plan_name', aggfunc='first')).reset_index()\n",
        "\n",
        "display(messages_monthly_sum)\n",
        "\n",
        "#Gráfico de barras\n",
        "\n",
        "messages_monthly_sum.plot(x='month',\n",
        "        kind='bar',\n",
        "        title='Mensajes por mes de los usuarios',\n",
        "        xlabel='Mes',\n",
        "        ylabel='Mensajes')\n",
        "\n",
        "plt.legend(['Surf', 'Ultimate'])\n",
        "plt.show()\n",
        "\n",
        "\n",
        "# Histograma\n",
        "\n",
        "messages_monthly_sum['surf'].plot(\n",
        "        kind='hist',\n",
        "        title='Histograma de frecuencia de mensajes enviados al mes por los usuarios por plan')\n",
        "\n",
        "messages_monthly_sum['ultimate'].plot(\n",
        "        kind='hist', alpha= 0.8)\n",
        "\n",
        "plt.legend(['Surf', 'Ultimate'])\n",
        "plt.show()\n",
        "\n",
        "\n",
        "# Promedio y varianza\n",
        "\n",
        "messages_monthly_mean = np.mean(messages_monthly_sum.loc[:, 'surf':'ultimate'] )\n",
        "\n",
        "display('Promedio:', messages_monthly_mean)\n",
        "\n",
        "messages_monthly_variance = np.var(messages_monthly_sum.loc[:, 'surf':'ultimate'])\n",
        "\n",
        "display('Varianza:', messages_monthly_variance)\n",
        "\n",
        "# Diagrama de caja\n",
        "\n",
        "plt.boxplot(messages_monthly_sum.loc[:, 'surf':'ultimate'])\n",
        "\n",
        "plt.title(\"Distribución de mensajes al mes por plan\")\n",
        "\n",
        "plt.xticks([1,2],['Surf','Ultimate'])\n",
        "\n",
        "plt.show()"
      ]
    },
    {
      "cell_type": "markdown",
      "metadata": {
        "id": "390SSL480q1M"
      },
      "source": [
        "\n",
        "\n",
        "Los que tienen Surf tienen una actividad aproximadamente del doble que los del plan Ultimate, también se nota en el promedio y la varianza, por los valores de varianza se entiende que la actividad en el plan surf está mas dispersa de su media que la actividad de los usuarios ultimate. Por lo tanto, el comportamiento de los usuarios sí varia en función del plan."
      ]
    },
    {
      "cell_type": "markdown",
      "metadata": {
        "id": "42YSypXz0q1M"
      },
      "source": [
        "### Internet"
      ]
    },
    {
      "cell_type": "code",
      "execution_count": null,
      "metadata": {
        "id": "lSuKPtjh0q1M",
        "outputId": "8d2f972d-86db-4e59-e18d-1c9fb06ca03e"
      },
      "outputs": [
        {
          "data": {
            "text/html": [
              "<div>\n",
              "<style scoped>\n",
              "    .dataframe tbody tr th:only-of-type {\n",
              "        vertical-align: middle;\n",
              "    }\n",
              "\n",
              "    .dataframe tbody tr th {\n",
              "        vertical-align: top;\n",
              "    }\n",
              "\n",
              "    .dataframe thead th {\n",
              "        text-align: right;\n",
              "    }\n",
              "</style>\n",
              "<table border=\"1\" class=\"dataframe\">\n",
              "  <thead>\n",
              "    <tr style=\"text-align: right;\">\n",
              "      <th>plan_name</th>\n",
              "      <th>month</th>\n",
              "      <th>surf</th>\n",
              "      <th>ultimate</th>\n",
              "    </tr>\n",
              "  </thead>\n",
              "  <tbody>\n",
              "    <tr>\n",
              "      <th>0</th>\n",
              "      <td>1</td>\n",
              "      <td>10.0</td>\n",
              "      <td>29.0</td>\n",
              "    </tr>\n",
              "    <tr>\n",
              "      <th>1</th>\n",
              "      <td>2</td>\n",
              "      <td>110.0</td>\n",
              "      <td>121.0</td>\n",
              "    </tr>\n",
              "    <tr>\n",
              "      <th>2</th>\n",
              "      <td>3</td>\n",
              "      <td>312.0</td>\n",
              "      <td>221.0</td>\n",
              "    </tr>\n",
              "    <tr>\n",
              "      <th>3</th>\n",
              "      <td>4</td>\n",
              "      <td>611.0</td>\n",
              "      <td>343.0</td>\n",
              "    </tr>\n",
              "    <tr>\n",
              "      <th>4</th>\n",
              "      <td>5</td>\n",
              "      <td>1087.0</td>\n",
              "      <td>489.0</td>\n",
              "    </tr>\n",
              "    <tr>\n",
              "      <th>5</th>\n",
              "      <td>6</td>\n",
              "      <td>1502.0</td>\n",
              "      <td>725.0</td>\n",
              "    </tr>\n",
              "    <tr>\n",
              "      <th>6</th>\n",
              "      <td>7</td>\n",
              "      <td>2042.0</td>\n",
              "      <td>973.0</td>\n",
              "    </tr>\n",
              "    <tr>\n",
              "      <th>7</th>\n",
              "      <td>8</td>\n",
              "      <td>2735.0</td>\n",
              "      <td>1267.0</td>\n",
              "    </tr>\n",
              "    <tr>\n",
              "      <th>8</th>\n",
              "      <td>9</td>\n",
              "      <td>3238.0</td>\n",
              "      <td>1463.0</td>\n",
              "    </tr>\n",
              "    <tr>\n",
              "      <th>9</th>\n",
              "      <td>10</td>\n",
              "      <td>4126.0</td>\n",
              "      <td>1878.0</td>\n",
              "    </tr>\n",
              "    <tr>\n",
              "      <th>10</th>\n",
              "      <td>11</td>\n",
              "      <td>4650.0</td>\n",
              "      <td>2174.0</td>\n",
              "    </tr>\n",
              "    <tr>\n",
              "      <th>11</th>\n",
              "      <td>12</td>\n",
              "      <td>5800.0</td>\n",
              "      <td>2778.0</td>\n",
              "    </tr>\n",
              "  </tbody>\n",
              "</table>\n",
              "</div>"
            ],
            "text/plain": [
              "plan_name  month    surf  ultimate\n",
              "0              1    10.0      29.0\n",
              "1              2   110.0     121.0\n",
              "2              3   312.0     221.0\n",
              "3              4   611.0     343.0\n",
              "4              5  1087.0     489.0\n",
              "5              6  1502.0     725.0\n",
              "6              7  2042.0     973.0\n",
              "7              8  2735.0    1267.0\n",
              "8              9  3238.0    1463.0\n",
              "9             10  4126.0    1878.0\n",
              "10            11  4650.0    2174.0\n",
              "11            12  5800.0    2778.0"
            ]
          },
          "metadata": {},
          "output_type": "display_data"
        },
        {
          "data": {
            "image/png": "[encoded data removed]",
            "text/plain": [
              "<Figure size 432x288 with 1 Axes>"
            ]
          },
          "metadata": {
            "needs_background": "light"
          },
          "output_type": "display_data"
        },
        {
          "data": {
            "image/png": "[encoded data removed]",
            "text/plain": [
              "<Figure size 432x288 with 1 Axes>"
            ]
          },
          "metadata": {
            "needs_background": "light"
          },
          "output_type": "display_data"
        },
        {
          "data": {
            "text/plain": [
              "'Promedio:'"
            ]
          },
          "metadata": {},
          "output_type": "display_data"
        },
        {
          "data": {
            "text/plain": [
              "plan_name\n",
              "surf        2185.250000\n",
              "ultimate    1038.416667\n",
              "dtype: float64"
            ]
          },
          "metadata": {},
          "output_type": "display_data"
        },
        {
          "data": {
            "text/plain": [
              "'Varianza:'"
            ]
          },
          "metadata": {},
          "output_type": "display_data"
        },
        {
          "data": {
            "text/plain": [
              "plan_name\n",
              "surf        3.419803e+06\n",
              "ultimate    7.224866e+05\n",
              "dtype: float64"
            ]
          },
          "metadata": {},
          "output_type": "display_data"
        },
        {
          "data": {
            "image/png": "[encoded data removed]",
            "text/plain": [
              "<Figure size 432x288 with 1 Axes>"
            ]
          },
          "metadata": {
            "needs_background": "light"
          },
          "output_type": "display_data"
        }
      ],
      "source": [
        "# Compara la cantidad de tráfico de Internet consumido por usuarios por plan\n",
        "\n",
        "gb_monthly_sum = user_data.groupby(['plan_name','month']).gb_used.agg(['sum']).reset_index()\n",
        "\n",
        "#Cambiar valores de planes a columnas que tengan de valores de la suma de gb por mes\n",
        "\n",
        "gb_monthly_sum = (gb_monthly_sum.pivot_table(values= 'sum', index='month', columns='plan_name', aggfunc='first')).reset_index()\n",
        "\n",
        "display(gb_monthly_sum)\n",
        "\n",
        "#Gráfico de barras\n",
        "\n",
        "gb_monthly_sum.plot(x='month',\n",
        "        kind='bar',\n",
        "        title='GBs por mes de los usuarios',\n",
        "        xlabel='Mes',\n",
        "        ylabel='GB')\n",
        "\n",
        "plt.legend(['Surf', 'Ultimate'])\n",
        "plt.show()\n",
        "\n",
        "\n",
        "# Histograma\n",
        "\n",
        "gb_monthly_sum['surf'].plot(\n",
        "        kind='hist',\n",
        "        title='Histograma de frecuencia de GB utilizados al mes por los usuarios por plan')\n",
        "\n",
        "gb_monthly_sum['ultimate'].plot(\n",
        "        kind='hist', alpha= 0.8)\n",
        "\n",
        "plt.legend(['Surf', 'Ultimate'])\n",
        "plt.show()\n",
        "\n",
        "\n",
        "# Promedio y varianza\n",
        "\n",
        "gb_monthly_mean = np.mean(gb_monthly_sum.loc[:, 'surf':'ultimate'] )\n",
        "\n",
        "display('Promedio:', gb_monthly_mean)\n",
        "\n",
        "gb_monthly_variance = np.var(gb_monthly_sum.loc[:, 'surf':'ultimate'])\n",
        "\n",
        "display('Varianza:', gb_monthly_variance)\n",
        "\n",
        "# Diagrama de caja\n",
        "\n",
        "plt.boxplot(gb_monthly_sum.loc[:, 'surf':'ultimate'])\n",
        "\n",
        "plt.title(\"Distribución de GB al mes por plan\")\n",
        "\n",
        "plt.xticks([1,2],['Surf','Ultimate'])\n",
        "\n",
        "plt.show()"
      ]
    },
    {
      "cell_type": "markdown",
      "metadata": {
        "id": "UN9zwuMP0q1N"
      },
      "source": [
        "\n",
        "\n",
        "El comportamiento de los usuarios si varia en función del plan, ya que los que tienen Surf tienen una actividad del doble que los del plan Ultimate que incluso se deja notar en el promedio y la varianza, y por los valores de esta ultima se puede interpretar que la actividad en el plan surf está mas dispersa de su media que la actividad de los usuarios ultimate."
      ]
    },
    {
      "cell_type": "markdown",
      "metadata": {
        "id": "tCijq3260q1N"
      },
      "source": [
        "## Ingreso"
      ]
    },
    {
      "cell_type": "code",
      "execution_count": null,
      "metadata": {
        "id": "tz-dq_V00q1O",
        "outputId": "9db7d899-530d-4930-81d1-bc2abb1a0e67"
      },
      "outputs": [
        {
          "data": {
            "text/html": [
              "<div>\n",
              "<style scoped>\n",
              "    .dataframe tbody tr th:only-of-type {\n",
              "        vertical-align: middle;\n",
              "    }\n",
              "\n",
              "    .dataframe tbody tr th {\n",
              "        vertical-align: top;\n",
              "    }\n",
              "\n",
              "    .dataframe thead th {\n",
              "        text-align: right;\n",
              "    }\n",
              "</style>\n",
              "<table border=\"1\" class=\"dataframe\">\n",
              "  <thead>\n",
              "    <tr style=\"text-align: right;\">\n",
              "      <th>plan_name</th>\n",
              "      <th>month</th>\n",
              "      <th>surf</th>\n",
              "      <th>ultimate</th>\n",
              "    </tr>\n",
              "  </thead>\n",
              "  <tbody>\n",
              "    <tr>\n",
              "      <th>0</th>\n",
              "      <td>1</td>\n",
              "      <td>40.00</td>\n",
              "      <td>280.0</td>\n",
              "    </tr>\n",
              "    <tr>\n",
              "      <th>1</th>\n",
              "      <td>2</td>\n",
              "      <td>309.57</td>\n",
              "      <td>490.0</td>\n",
              "    </tr>\n",
              "    <tr>\n",
              "      <th>2</th>\n",
              "      <td>3</td>\n",
              "      <td>1056.65</td>\n",
              "      <td>896.0</td>\n",
              "    </tr>\n",
              "    <tr>\n",
              "      <th>3</th>\n",
              "      <td>4</td>\n",
              "      <td>2035.53</td>\n",
              "      <td>1533.0</td>\n",
              "    </tr>\n",
              "    <tr>\n",
              "      <th>4</th>\n",
              "      <td>5</td>\n",
              "      <td>3667.37</td>\n",
              "      <td>2051.0</td>\n",
              "    </tr>\n",
              "    <tr>\n",
              "      <th>5</th>\n",
              "      <td>6</td>\n",
              "      <td>4779.80</td>\n",
              "      <td>3367.0</td>\n",
              "    </tr>\n",
              "    <tr>\n",
              "      <th>6</th>\n",
              "      <td>7</td>\n",
              "      <td>7583.56</td>\n",
              "      <td>4242.0</td>\n",
              "    </tr>\n",
              "    <tr>\n",
              "      <th>7</th>\n",
              "      <td>8</td>\n",
              "      <td>10356.85</td>\n",
              "      <td>5173.0</td>\n",
              "    </tr>\n",
              "    <tr>\n",
              "      <th>8</th>\n",
              "      <td>9</td>\n",
              "      <td>11304.67</td>\n",
              "      <td>6195.0</td>\n",
              "    </tr>\n",
              "    <tr>\n",
              "      <th>9</th>\n",
              "      <td>10</td>\n",
              "      <td>15504.83</td>\n",
              "      <td>7665.0</td>\n",
              "    </tr>\n",
              "    <tr>\n",
              "      <th>10</th>\n",
              "      <td>11</td>\n",
              "      <td>16415.21</td>\n",
              "      <td>9107.0</td>\n",
              "    </tr>\n",
              "    <tr>\n",
              "      <th>11</th>\n",
              "      <td>12</td>\n",
              "      <td>22437.14</td>\n",
              "      <td>11067.0</td>\n",
              "    </tr>\n",
              "  </tbody>\n",
              "</table>\n",
              "</div>"
            ],
            "text/plain": [
              "plan_name  month      surf  ultimate\n",
              "0              1     40.00     280.0\n",
              "1              2    309.57     490.0\n",
              "2              3   1056.65     896.0\n",
              "3              4   2035.53    1533.0\n",
              "4              5   3667.37    2051.0\n",
              "5              6   4779.80    3367.0\n",
              "6              7   7583.56    4242.0\n",
              "7              8  10356.85    5173.0\n",
              "8              9  11304.67    6195.0\n",
              "9             10  15504.83    7665.0\n",
              "10            11  16415.21    9107.0\n",
              "11            12  22437.14   11067.0"
            ]
          },
          "metadata": {},
          "output_type": "display_data"
        },
        {
          "data": {
            "image/png": "[encoded data removed]",
            "text/plain": [
              "<Figure size 432x288 with 1 Axes>"
            ]
          },
          "metadata": {
            "needs_background": "light"
          },
          "output_type": "display_data"
        },
        {
          "data": {
            "image/png": "[encoded data removed]",
            "text/plain": [
              "<Figure size 432x288 with 1 Axes>"
            ]
          },
          "metadata": {
            "needs_background": "light"
          },
          "output_type": "display_data"
        },
        {
          "data": {
            "text/plain": [
              "'Promedio:'"
            ]
          },
          "metadata": {},
          "output_type": "display_data"
        },
        {
          "data": {
            "text/plain": [
              "plan_name\n",
              "surf        7957.598333\n",
              "ultimate    4338.833333\n",
              "dtype: float64"
            ]
          },
          "metadata": {},
          "output_type": "display_data"
        },
        {
          "data": {
            "text/plain": [
              "'Varianza:'"
            ]
          },
          "metadata": {},
          "output_type": "display_data"
        },
        {
          "data": {
            "text/plain": [
              "plan_name\n",
              "surf        4.896895e+07\n",
              "ultimate    1.170081e+07\n",
              "dtype: float64"
            ]
          },
          "metadata": {},
          "output_type": "display_data"
        },
        {
          "data": {
            "image/png": "[encoded data removed]",
            "text/plain": [
              "<Figure size 432x288 with 1 Axes>"
            ]
          },
          "metadata": {
            "needs_background": "light"
          },
          "output_type": "display_data"
        }
      ],
      "source": [
        "\n",
        "plan_income_sum = user_data.groupby(['plan_name','month']).user_total_pay.agg(['sum']).reset_index()\n",
        "\n",
        "#Cambiar valores de planes a columnas que tengan de valores de la suma de ingresos por mes\n",
        "\n",
        "plan_income_sum = (plan_income_sum.pivot_table(values= 'sum', index='month', columns='plan_name', aggfunc='first')).reset_index()\n",
        "\n",
        "display(plan_income_sum)\n",
        "\n",
        "#Gráfico de barras\n",
        "\n",
        "plan_income_sum.plot(x='month',\n",
        "        kind='bar',\n",
        "        title='Ingreso por mes de los planes',\n",
        "        xlabel='Mes',\n",
        "        ylabel='Ingreso')\n",
        "\n",
        "plt.legend(['Surf', 'Ultimate'])\n",
        "plt.show()\n",
        "\n",
        "\n",
        "# Histograma\n",
        "\n",
        "plan_income_sum['surf'].plot(\n",
        "        kind='hist',\n",
        "        title='Histograma de frecuencia de GB utilizados al mes por los usuarios por plan')\n",
        "\n",
        "plan_income_sum['ultimate'].plot(\n",
        "        kind='hist', alpha= 0.8)\n",
        "\n",
        "plt.legend(['Surf', 'Ultimate'])\n",
        "plt.show()\n",
        "\n",
        "\n",
        "# Promedio y varianza\n",
        "\n",
        "plan_income_mean = np.mean(plan_income_sum.loc[:, 'surf':'ultimate'] )\n",
        "\n",
        "display('Promedio:', plan_income_mean)\n",
        "\n",
        "plan_income_variance = np.var(plan_income_sum.loc[:, 'surf':'ultimate'])\n",
        "\n",
        "display('Varianza:', plan_income_variance)\n",
        "\n",
        "# Diagrama de caja\n",
        "\n",
        "plt.boxplot(plan_income_sum.loc[:, 'surf':'ultimate'])\n",
        "\n",
        "plt.title(\"Distribución de ingresos al mes por plan\")\n",
        "\n",
        "plt.xticks([1,2],['Surf','Ultimate'])\n",
        "\n",
        "plt.show()"
      ]
    },
    {
      "cell_type": "code",
      "execution_count": null,
      "metadata": {
        "id": "0Y1v8ZUz0q1P",
        "outputId": "f03ebfb9-82c5-4bbb-c4a3-f225ac66dcfb"
      },
      "outputs": [
        {
          "name": "stdout",
          "output_type": "stream",
          "text": [
            "Users Surf: 1573\n",
            "Users Ultimate: 720\n"
          ]
        }
      ],
      "source": [
        "users_surf = user_data[user_data['plan'] == 'surf']['plan'].count()\n",
        "\n",
        "print( f'Users Surf: {users_surf}')\n",
        "\n",
        "users_ultimate = user_data[user_data['plan'] == 'ultimate']['plan'].count()\n",
        "\n",
        "print( f'Users Ultimate: {users_ultimate}' )"
      ]
    },
    {
      "cell_type": "code",
      "execution_count": null,
      "metadata": {
        "id": "bYmwxyVh0q1P",
        "outputId": "a7d833e6-7f80-4ce9-fcea-6e797805b190"
      },
      "outputs": [
        {
          "name": "stdout",
          "output_type": "stream",
          "text": [
            "Ingresos esperados de plan surf: 377520\n",
            "Ingresos esperados de plan ultimate: 604800\n"
          ]
        }
      ],
      "source": [
        "# Calculo de ganacia esperada (sin recagos por exceso), multiplicada por tarifa de plan y los 12 meses del 2018\n",
        "\n",
        "expected_income_surf  = users_surf * 20 * 12\n",
        "\n",
        "expected_income_ultimate = users_ultimate * 70 * 12\n",
        "\n",
        "\n",
        "print( 'Ingresos esperados de plan surf:', expected_income_surf  )\n",
        "\n",
        "print( 'Ingresos esperados de plan ultimate:', expected_income_ultimate )\n"
      ]
    },
    {
      "cell_type": "markdown",
      "metadata": {
        "id": "KAFidcXZ0q1P"
      },
      "source": [
        "\n",
        "\n",
        "Sobre el ingreso entre planes, el plan surf tiene más ingresos que el plan ultimate, esto se nota por el promedio de ingresos del plan surf, también porque el numero de usuarios que tienen el plan surf es ligeramente más el doble que los usuarios ultimate, pero también es notable que muchos de los ingresos del plan surf son por los recargos a los usuarios que exceden los limites de su tarifa."
      ]
    },
    {
      "cell_type": "markdown",
      "metadata": {
        "id": "ajJ7VKeI0q1Q"
      },
      "source": [
        "## Prueba las hipótesis estadísticas"
      ]
    },
    {
      "cell_type": "markdown",
      "metadata": {
        "id": "IQwa_hsh0q1Q"
      },
      "source": [
        "\n",
        "\n",
        "Hipotesis nula: Los ingresos promedio de los planes ultimate y surf son iguales\n",
        "\n",
        "Hipotesis alternativa: Los ingresos promedio de los planes ultimate y surf son diferentes"
      ]
    },
    {
      "cell_type": "code",
      "execution_count": null,
      "metadata": {
        "id": "nFoPNlPq0q1R",
        "outputId": "aaced57e-d7fb-4c92-bb40-e223d2df0405"
      },
      "outputs": [
        {
          "name": "stdout",
          "output_type": "stream",
          "text": [
            "valor p: 2.862674510698644e-08\n",
            "Rechazamos la hipótesis nula\n"
          ]
        }
      ],
      "source": [
        "# Prueba las hipótesis\n",
        "\n",
        "users_surf_income = user_data[user_data['plan'] == 'surf']['user_total_pay']\n",
        "users_ultimate_income = user_data[user_data['plan'] == 'ultimate']['user_total_pay']\n",
        "\n",
        "alpha = 0.05\n",
        "\n",
        "results = st.ttest_ind(users_surf_income, users_ultimate_income)\n",
        "print( f'valor p: {results.pvalue}' )\n",
        "\n",
        "\n",
        "if results.pvalue < alpha:\n",
        "    print(\"Rechazamos la hipótesis nula\")\n",
        "else:\n",
        "    print(\"No podemos rechazar la hipótesis nula\")\n",
        "\n"
      ]
    },
    {
      "cell_type": "code",
      "execution_count": null,
      "metadata": {
        "id": "pNG8naxRoTpm"
      },
      "outputs": [],
      "source": [
        "# Filtrando tabla (series) para los ingresos del área de NY-NJ y otra para el resto de regiones.\n",
        "\n",
        "ny_nj_income = user_data[user_data['city'] == 'New York-Newark-Jersey City, NY-NJ-PA MSA' ] ['user_total_pay']\n",
        "\n",
        "other_regions_income = user_data[user_data['city'] != 'New York-Newark-Jersey City, NY-NJ-PA MSA' ] ['user_total_pay']\n"
      ]
    },
    {
      "cell_type": "markdown",
      "metadata": {
        "id": "LsBgitqj0q1R"
      },
      "source": [
        "\n",
        "Hipotesis nula: El ingreso promedio de los usuarios del área NY-NJ son iguales al de otras regiones.\n",
        "\n",
        "Hipotesis alternativa: El ingreso promedio de los usuarios del área NY-NJ son diferentes al de otras regiones."
      ]
    },
    {
      "cell_type": "code",
      "execution_count": null,
      "metadata": {
        "id": "Cqcj7wrZ0q1S",
        "outputId": "37d4e577-93ef-4cf2-b786-81ccbc1c127c"
      },
      "outputs": [
        {
          "name": "stdout",
          "output_type": "stream",
          "text": [
            "valor p:  0.043557431621342436\n",
            "Rechazamos la hipótesis nula\n"
          ]
        }
      ],
      "source": [
        "# Prueba las hipótesis\n",
        "\n",
        "alpha1 = 0.05\n",
        "\n",
        "results1 = st.ttest_ind(ny_nj_income, other_regions_income)\n",
        "print('valor p: ', results1.pvalue)\n",
        "\n",
        "\n",
        "if results1.pvalue < alpha1:\n",
        "    print(\"Rechazamos la hipótesis nula\")\n",
        "else:\n",
        "    print(\"No podemos rechazar la hipótesis nula\")\n"
      ]
    },
    {
      "cell_type": "markdown",
      "metadata": {
        "id": "P6iyNqUcoTpn"
      },
      "source": [
        "<div class=\"alert alert-block alert-danger\">\n",
        "    <b>Comentario</b> <a class=\"tocSkip\"></a><br>\n",
        "Se plantearon claramente las hipótesis nulas y alternativas, y se ha utilizado el nivel de significancia (alpha) de 0.05, lo cual es una elección común en la investigación estadística.\n",
        "\n",
        "En su momento se notó que hubo un pequeño error en la segunda prueba de hipótesis. Cuando al calcular el valor p en la segunda prueba, se estaba utilizando `results.pvalue` nuevamente en lugar de `results1.pvalue`.\n",
        "Es importante registrar este suceso para recordar que hay que asegurarse de utilizar la variable correcta para obtener los resultados correctos, ya que puede representar alguna diferencia considerable y afectar conclusiones que ya tenía previamente\n",
        "\n",
        "</div>\n"
      ]
    },
    {
      "cell_type": "markdown",
      "metadata": {
        "id": "bbTR8UQO0q1T"
      },
      "source": [
        "## Conclusión general\n",
        "\n",
        "\n",
        "El plan surf, en general, dobla al plan ultimate en cuestión de ingresos, duración de llamadas, mensajes, gb utilizados\n",
        "\n",
        "Se utiliza una prueba bilateral ya que no se sabe con certeza si la sdiferencia es significativa en la dirección positiva o negativa.\n",
        "\n",
        "El valor p indica que los ingresos promedio para los dos planes son diferentes, ya que existe un .000002 % de probabilidad de obtener aleatoriamente una diferencia de ese tamaño o mayor. Esta probabilidad es muy baja y se pude concluir que existe una diferencia significativa entre los ingresos promedio por plan\n",
        "\n",
        "Para el área de NY-NJ vs el resto de regiones, el valor p que los ingresos promedio son diferentes. Existe un 4.35% de probabilidad obtener aleatoriamente una diferencia de ese tamaño o mayor. Esta probabilidad es considerablemente cercana a nuestro nivel de significancia estadística (5%), por lo tanto se concluye que existe una diferencia moderada entre los ingresos promedio de el área de NY-NJ y el resto de regiones.\n",
        "\n",
        "Sin duda, el plan Surf, es el ideal para promocionar más, ya que los usuarios mayormente se exceden de sus límites, y a pesar de ser más barato que el ultimate, muchos clientes terminan pagando de más por los recargos de sus excesos, lo que son más ingresos para la Megaline."
      ]
    }
  ],
  "metadata": {
    "ExecuteTimeLog": [
      {
        "duration": 828,
        "start_time": "2021-11-16T09:21:11.304Z"
      },
      {
        "duration": 893,
        "start_time": "2021-11-16T09:21:17.728Z"
      },
      {
        "duration": 1150,
        "start_time": "2021-11-16T09:21:29.568Z"
      },
      {
        "duration": 3,
        "start_time": "2021-11-16T09:24:14.495Z"
      },
      {
        "duration": 120,
        "start_time": "2021-11-16T09:24:46.630Z"
      },
      {
        "duration": 3,
        "start_time": "2021-11-16T09:28:27.882Z"
      },
      {
        "duration": 4,
        "start_time": "2021-11-16T09:29:54.281Z"
      },
      {
        "duration": 3,
        "start_time": "2021-11-16T09:30:45.936Z"
      },
      {
        "duration": 4,
        "start_time": "2021-11-16T09:31:06.300Z"
      },
      {
        "duration": 113,
        "start_time": "2021-11-16T09:31:37.208Z"
      },
      {
        "duration": 143,
        "start_time": "2021-11-16T09:31:48.656Z"
      },
      {
        "duration": 98,
        "start_time": "2021-11-16T09:31:55.678Z"
      },
      {
        "duration": 3,
        "start_time": "2021-11-16T09:32:08.535Z"
      },
      {
        "duration": 111,
        "start_time": "2021-11-16T09:32:10.120Z"
      },
      {
        "duration": 3,
        "start_time": "2021-11-16T09:32:15.732Z"
      },
      {
        "duration": 4,
        "start_time": "2021-11-16T09:32:29.423Z"
      },
      {
        "duration": 3,
        "start_time": "2021-11-16T10:03:03.074Z"
      },
      {
        "duration": 3,
        "start_time": "2021-11-16T10:10:01.288Z"
      },
      {
        "duration": 3,
        "start_time": "2021-11-16T10:10:46.923Z"
      },
      {
        "duration": 121,
        "start_time": "2021-11-16T10:37:46.494Z"
      },
      {
        "duration": 125,
        "start_time": "2021-11-16T10:38:20.632Z"
      },
      {
        "duration": 112,
        "start_time": "2021-11-16T10:46:53.001Z"
      },
      {
        "duration": 110,
        "start_time": "2021-11-16T10:48:25.775Z"
      },
      {
        "duration": 3,
        "start_time": "2021-11-16T10:50:18.720Z"
      },
      {
        "duration": 4,
        "start_time": "2021-11-16T10:50:37.649Z"
      },
      {
        "duration": 2,
        "start_time": "2021-11-16T10:50:51.884Z"
      },
      {
        "duration": 3,
        "start_time": "2021-11-16T10:51:56.237Z"
      },
      {
        "duration": 101,
        "start_time": "2021-11-16T10:53:13.791Z"
      },
      {
        "duration": 3,
        "start_time": "2021-11-16T10:55:59.186Z"
      },
      {
        "duration": 3,
        "start_time": "2021-11-16T10:56:10.751Z"
      },
      {
        "duration": 3,
        "start_time": "2021-11-16T10:56:49.038Z"
      },
      {
        "duration": 3,
        "start_time": "2021-11-16T10:56:49.174Z"
      },
      {
        "duration": 4,
        "start_time": "2021-11-16T10:56:49.414Z"
      },
      {
        "duration": 3,
        "start_time": "2021-11-16T10:56:49.680Z"
      },
      {
        "duration": 3,
        "start_time": "2021-11-16T10:56:50.370Z"
      },
      {
        "duration": 114,
        "start_time": "2021-11-16T10:59:34.518Z"
      },
      {
        "duration": 3,
        "start_time": "2021-11-16T11:01:41.201Z"
      },
      {
        "duration": 116,
        "start_time": "2021-11-16T11:01:48.754Z"
      },
      {
        "duration": 3,
        "start_time": "2021-11-16T11:02:16.685Z"
      },
      {
        "duration": 3,
        "start_time": "2021-11-16T11:02:19.479Z"
      },
      {
        "duration": 3,
        "start_time": "2021-11-16T11:02:47.067Z"
      },
      {
        "duration": 3,
        "start_time": "2021-11-16T11:02:49.353Z"
      },
      {
        "duration": 3,
        "start_time": "2021-11-16T11:03:07.835Z"
      },
      {
        "duration": 3,
        "start_time": "2021-11-16T11:03:07.953Z"
      },
      {
        "duration": 112,
        "start_time": "2021-11-16T11:07:52.072Z"
      },
      {
        "duration": 187,
        "start_time": "2021-11-16T11:09:23.468Z"
      },
      {
        "duration": 4,
        "start_time": "2021-11-16T11:10:01.455Z"
      },
      {
        "duration": 3,
        "start_time": "2021-11-16T11:10:05.069Z"
      },
      {
        "duration": 4,
        "start_time": "2021-11-16T11:10:13.376Z"
      },
      {
        "duration": 3,
        "start_time": "2021-11-16T11:10:14.434Z"
      },
      {
        "duration": 3,
        "start_time": "2021-11-16T11:10:22.853Z"
      },
      {
        "duration": 4,
        "start_time": "2021-11-16T11:27:29.279Z"
      },
      {
        "duration": 4,
        "start_time": "2021-11-16T11:29:08.919Z"
      },
      {
        "duration": 118,
        "start_time": "2021-11-16T11:29:46.703Z"
      },
      {
        "duration": 437,
        "start_time": "2021-11-16T11:36:02.181Z"
      },
      {
        "duration": 157,
        "start_time": "2021-11-16T11:36:14.388Z"
      },
      {
        "duration": 207,
        "start_time": "2021-11-16T11:47:15.898Z"
      },
      {
        "duration": 3,
        "start_time": "2021-11-16T11:53:52.092Z"
      },
      {
        "duration": 3,
        "start_time": "2021-11-16T11:53:52.236Z"
      },
      {
        "duration": 3,
        "start_time": "2021-11-16T11:59:12.005Z"
      },
      {
        "duration": 112,
        "start_time": "2021-11-16T12:00:33.446Z"
      },
      {
        "duration": 3,
        "start_time": "2021-11-16T12:02:14.453Z"
      },
      {
        "duration": 3,
        "start_time": "2021-11-16T12:02:39.512Z"
      },
      {
        "duration": 106,
        "start_time": "2021-11-16T12:03:03.460Z"
      },
      {
        "duration": 3,
        "start_time": "2021-11-17T20:37:21.139Z"
      },
      {
        "duration": 3,
        "start_time": "2021-11-17T20:37:22.229Z"
      },
      {
        "duration": 3,
        "start_time": "2021-11-17T20:38:38.806Z"
      },
      {
        "duration": 3,
        "start_time": "2021-11-17T20:38:41.958Z"
      },
      {
        "duration": 3,
        "start_time": "2021-11-17T20:43:46.551Z"
      },
      {
        "duration": 4,
        "start_time": "2021-11-17T20:58:21.835Z"
      },
      {
        "duration": 3,
        "start_time": "2021-11-17T20:59:21.872Z"
      },
      {
        "duration": 4,
        "start_time": "2021-11-17T20:59:45.352Z"
      },
      {
        "duration": 4,
        "start_time": "2021-11-17T20:59:49.646Z"
      },
      {
        "duration": 159,
        "start_time": "2021-11-17T21:02:26.949Z"
      },
      {
        "duration": 3,
        "start_time": "2021-11-17T21:03:53.461Z"
      },
      {
        "duration": 3,
        "start_time": "2021-11-17T21:03:53.694Z"
      },
      {
        "duration": 3,
        "start_time": "2021-11-17T21:05:28.145Z"
      },
      {
        "duration": 116,
        "start_time": "2021-11-17T21:05:57.787Z"
      },
      {
        "duration": 3,
        "start_time": "2021-11-17T21:06:37.993Z"
      },
      {
        "duration": 3,
        "start_time": "2021-11-17T21:06:38.261Z"
      },
      {
        "duration": 3,
        "start_time": "2021-11-17T21:11:54.358Z"
      },
      {
        "duration": 3,
        "start_time": "2021-11-17T21:12:43.846Z"
      },
      {
        "duration": 4,
        "start_time": "2021-11-17T21:13:08.773Z"
      },
      {
        "duration": 3,
        "start_time": "2021-11-17T21:14:44.441Z"
      },
      {
        "duration": 3,
        "start_time": "2021-11-17T21:15:42.059Z"
      },
      {
        "duration": 4,
        "start_time": "2021-11-17T21:15:51.995Z"
      },
      {
        "duration": 3,
        "start_time": "2021-11-17T21:15:53.923Z"
      },
      {
        "duration": 3,
        "start_time": "2021-11-17T21:15:55.282Z"
      },
      {
        "duration": 3,
        "start_time": "2021-11-17T21:16:28.492Z"
      },
      {
        "duration": 3,
        "start_time": "2021-11-17T21:16:32.603Z"
      },
      {
        "duration": 3,
        "start_time": "2021-11-17T21:17:06.941Z"
      },
      {
        "duration": 98,
        "start_time": "2021-11-17T21:18:05.733Z"
      },
      {
        "duration": 4,
        "start_time": "2021-11-17T21:21:35.255Z"
      },
      {
        "duration": 3,
        "start_time": "2021-11-17T21:21:37.804Z"
      },
      {
        "duration": 4,
        "start_time": "2021-11-17T21:23:06.071Z"
      },
      {
        "duration": 3,
        "start_time": "2021-11-17T21:23:24.799Z"
      },
      {
        "duration": 3,
        "start_time": "2021-11-17T21:23:32.591Z"
      },
      {
        "duration": 98,
        "start_time": "2021-11-17T21:28:31.559Z"
      },
      {
        "duration": 3,
        "start_time": "2021-11-17T21:28:45.448Z"
      },
      {
        "duration": 3,
        "start_time": "2021-11-17T21:29:17.303Z"
      },
      {
        "duration": 3,
        "start_time": "2021-11-17T21:29:29.617Z"
      },
      {
        "duration": 3,
        "start_time": "2021-11-17T21:29:32.681Z"
      },
      {
        "duration": 3,
        "start_time": "2021-11-17T21:36:11.474Z"
      },
      {
        "duration": 3,
        "start_time": "2021-11-17T21:36:14.791Z"
      },
      {
        "duration": 3,
        "start_time": "2021-11-17T21:36:53.943Z"
      },
      {
        "duration": 3,
        "start_time": "2021-11-17T21:36:56.165Z"
      },
      {
        "duration": 4,
        "start_time": "2021-11-17T21:37:16.590Z"
      },
      {
        "duration": 3,
        "start_time": "2021-11-17T21:37:22.702Z"
      },
      {
        "duration": 4,
        "start_time": "2021-11-17T21:38:03.479Z"
      },
      {
        "duration": 3,
        "start_time": "2021-11-17T21:38:08.601Z"
      },
      {
        "duration": 3,
        "start_time": "2021-11-17T21:38:12.928Z"
      },
      {
        "duration": 3,
        "start_time": "2021-11-17T21:38:48.896Z"
      },
      {
        "duration": 2,
        "start_time": "2021-11-17T21:38:49.171Z"
      },
      {
        "duration": 4,
        "start_time": "2021-11-17T21:39:57.889Z"
      },
      {
        "duration": 3,
        "start_time": "2021-11-17T21:39:58.057Z"
      },
      {
        "duration": 3,
        "start_time": "2021-11-17T21:41:20.108Z"
      },
      {
        "duration": 3,
        "start_time": "2021-11-17T21:41:20.629Z"
      },
      {
        "duration": 3,
        "start_time": "2021-11-17T21:42:49.136Z"
      },
      {
        "duration": 3,
        "start_time": "2021-11-17T21:43:15.137Z"
      },
      {
        "duration": 4,
        "start_time": "2021-11-17T21:43:16.766Z"
      },
      {
        "duration": 4,
        "start_time": "2021-11-17T21:43:31.711Z"
      },
      {
        "duration": 3,
        "start_time": "2021-11-17T21:43:36.312Z"
      },
      {
        "duration": 4,
        "start_time": "2021-11-17T21:45:08.825Z"
      },
      {
        "duration": 4,
        "start_time": "2021-11-17T21:45:10.119Z"
      },
      {
        "duration": 4,
        "start_time": "2021-11-17T21:45:13.748Z"
      },
      {
        "duration": 3,
        "start_time": "2021-11-17T21:45:22.219Z"
      },
      {
        "duration": 3,
        "start_time": "2021-11-17T21:45:33.412Z"
      },
      {
        "duration": 2,
        "start_time": "2021-11-17T21:46:01.885Z"
      },
      {
        "duration": 3,
        "start_time": "2021-11-17T21:46:03.628Z"
      },
      {
        "duration": 107,
        "start_time": "2021-11-17T21:47:32.512Z"
      },
      {
        "duration": 103,
        "start_time": "2021-11-17T21:50:36.243Z"
      },
      {
        "duration": 3,
        "start_time": "2021-11-18T06:28:31.440Z"
      },
      {
        "duration": 3,
        "start_time": "2021-11-18T06:29:00.168Z"
      },
      {
        "duration": 3,
        "start_time": "2021-11-18T06:31:27.008Z"
      },
      {
        "duration": 2,
        "start_time": "2021-11-18T06:35:34.288Z"
      },
      {
        "duration": 2,
        "start_time": "2021-11-18T06:38:04.527Z"
      }
    ],
    "colab": {
      "provenance": [],
      "toc_visible": true
    },
    "kernelspec": {
      "display_name": "Python 3 (ipykernel)",
      "language": "python",
      "name": "python3"
    },
    "language_info": {
      "codemirror_mode": {
        "name": "ipython",
        "version": 3
      },
      "file_extension": ".py",
      "mimetype": "text/x-python",
      "name": "python",
      "nbconvert_exporter": "python",
      "pygments_lexer": "ipython3",
      "version": "3.9.19"
    },
    "toc": {
      "base_numbering": 1,
      "nav_menu": {},
      "number_sections": true,
      "sideBar": true,
      "skip_h1_title": false,
      "title_cell": "Table of Contents",
      "title_sidebar": "Contents",
      "toc_cell": false,
      "toc_position": {
        "height": "calc(100% - 180px)",
        "left": "10px",
        "top": "150px",
        "width": "366.391px"
      },
      "toc_section_display": true,
      "toc_window_display": true
    }
  },
  "nbformat": 4,
  "nbformat_minor": 0
}